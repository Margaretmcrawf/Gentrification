{
 "cells": [
  {
   "cell_type": "code",
   "execution_count": 1,
   "metadata": {
    "collapsed": false
   },
   "outputs": [
    {
     "ename": "AttributeError",
     "evalue": "'collections.defaultdict' object has no attribute 'iteritems'",
     "output_type": "error",
     "traceback": [
      "\u001b[0;31m---------------------------------------------------------------------------\u001b[0m",
      "\u001b[0;31mAttributeError\u001b[0m                            Traceback (most recent call last)",
      "\u001b[0;32m<ipython-input-1-e3c566abc6d7>\u001b[0m in \u001b[0;36m<module>\u001b[0;34m()\u001b[0m\n\u001b[0;32m----> 1\u001b[0;31m \u001b[0;32mfrom\u001b[0m \u001b[0mTransformingCity\u001b[0m \u001b[0;32mimport\u001b[0m \u001b[0mTransformingCity\u001b[0m\u001b[0;34m,\u001b[0m \u001b[0mLandUseViewer\u001b[0m\u001b[0;34m,\u001b[0m \u001b[0mPopulationViewer\u001b[0m\u001b[0;34m\u001b[0m\u001b[0m\n\u001b[0m\u001b[1;32m      2\u001b[0m \u001b[0;34m\u001b[0m\u001b[0m\n\u001b[1;32m      3\u001b[0m \u001b[0;32mimport\u001b[0m \u001b[0mnumpy\u001b[0m \u001b[0;32mas\u001b[0m \u001b[0mnp\u001b[0m\u001b[0;34m\u001b[0m\u001b[0m\n\u001b[1;32m      4\u001b[0m \u001b[0;32mimport\u001b[0m \u001b[0mmatplotlib\u001b[0m\u001b[0;34m.\u001b[0m\u001b[0mpyplot\u001b[0m \u001b[0;32mas\u001b[0m \u001b[0mplt\u001b[0m\u001b[0;34m\u001b[0m\u001b[0m\n\u001b[1;32m      5\u001b[0m \u001b[0;34m\u001b[0m\u001b[0m\n",
      "\u001b[0;32m/home/m/Gentrification/code/TransformingCity.py\u001b[0m in \u001b[0;36m<module>\u001b[0;34m()\u001b[0m\n\u001b[1;32m    173\u001b[0m \u001b[0;34m\u001b[0m\u001b[0m\n\u001b[1;32m    174\u001b[0m \u001b[0;34m\u001b[0m\u001b[0m\n\u001b[0;32m--> 175\u001b[0;31m \u001b[0mt\u001b[0m \u001b[0;34m=\u001b[0m \u001b[0mTransformingCity\u001b[0m\u001b[0;34m(\u001b[0m\u001b[0;36m10\u001b[0m\u001b[0;34m)\u001b[0m\u001b[0;34m\u001b[0m\u001b[0m\n\u001b[0m\u001b[1;32m    176\u001b[0m \u001b[0;32mif\u001b[0m \u001b[0m__name__\u001b[0m \u001b[0;34m==\u001b[0m \u001b[0;34m'__main__'\u001b[0m\u001b[0;34m:\u001b[0m\u001b[0;34m\u001b[0m\u001b[0m\n\u001b[1;32m    177\u001b[0m     \u001b[0mt\u001b[0m \u001b[0;34m=\u001b[0m \u001b[0mTransformingCity\u001b[0m\u001b[0;34m(\u001b[0m\u001b[0;36m10\u001b[0m\u001b[0;34m)\u001b[0m\u001b[0;34m\u001b[0m\u001b[0m\n",
      "\u001b[0;32m/home/m/Gentrification/code/TransformingCity.py\u001b[0m in \u001b[0;36m__init__\u001b[0;34m(self, m, n, **kwargs)\u001b[0m\n\u001b[1;32m     53\u001b[0m \u001b[0;34m\u001b[0m\u001b[0m\n\u001b[1;32m     54\u001b[0m         \u001b[0mself\u001b[0m\u001b[0;34m.\u001b[0m\u001b[0mmake_agents\u001b[0m\u001b[0;34m(\u001b[0m\u001b[0;34m)\u001b[0m\u001b[0;34m\u001b[0m\u001b[0m\n\u001b[0;32m---> 55\u001b[0;31m         \u001b[0mself\u001b[0m\u001b[0;34m.\u001b[0m\u001b[0msetup_creative_space\u001b[0m\u001b[0;34m(\u001b[0m\u001b[0;34m)\u001b[0m\u001b[0;34m\u001b[0m\u001b[0m\n\u001b[0m\u001b[1;32m     56\u001b[0m \u001b[0;34m\u001b[0m\u001b[0m\n\u001b[1;32m     57\u001b[0m     \u001b[0;34m@\u001b[0m\u001b[0mstaticmethod\u001b[0m\u001b[0;34m\u001b[0m\u001b[0m\n",
      "\u001b[0;32m/home/m/Gentrification/code/TransformingCity.py\u001b[0m in \u001b[0;36msetup_creative_space\u001b[0;34m(self)\u001b[0m\n\u001b[1;32m     82\u001b[0m         \"\"\"\n\u001b[1;32m     83\u001b[0m         \u001b[0;31m# TODO(rlouie): these pop count functions could be resuable, and dont seem specific to setup only\u001b[0m\u001b[0;34m\u001b[0m\u001b[0;34m\u001b[0m\u001b[0m\n\u001b[0;32m---> 84\u001b[0;31m         \u001b[0;32mfor\u001b[0m \u001b[0mpatch\u001b[0m\u001b[0;34m,\u001b[0m \u001b[0moccupant_idxs\u001b[0m \u001b[0;32min\u001b[0m \u001b[0mself\u001b[0m\u001b[0;34m.\u001b[0m\u001b[0moccupants\u001b[0m\u001b[0;34m.\u001b[0m\u001b[0miteritems\u001b[0m\u001b[0;34m(\u001b[0m\u001b[0;34m)\u001b[0m\u001b[0;34m:\u001b[0m\u001b[0;34m\u001b[0m\u001b[0m\n\u001b[0m\u001b[1;32m     85\u001b[0m             \u001b[0mself\u001b[0m\u001b[0;34m.\u001b[0m\u001b[0mpop_count\u001b[0m\u001b[0;34m[\u001b[0m\u001b[0mpatch\u001b[0m\u001b[0;34m]\u001b[0m \u001b[0;34m=\u001b[0m \u001b[0mlen\u001b[0m\u001b[0;34m(\u001b[0m\u001b[0moccupant_idxs\u001b[0m\u001b[0;34m)\u001b[0m\u001b[0;34m\u001b[0m\u001b[0m\n\u001b[1;32m     86\u001b[0m             \u001b[0mself\u001b[0m\u001b[0;34m.\u001b[0m\u001b[0mpop_count_cr_h\u001b[0m\u001b[0;34m[\u001b[0m\u001b[0mpatch\u001b[0m\u001b[0;34m]\u001b[0m \u001b[0;34m=\u001b[0m \u001b[0mnp\u001b[0m\u001b[0;34m.\u001b[0m\u001b[0msum\u001b[0m\u001b[0;34m(\u001b[0m\u001b[0;34m[\u001b[0m\u001b[0mself\u001b[0m\u001b[0;34m.\u001b[0m\u001b[0magents\u001b[0m\u001b[0;34m[\u001b[0m\u001b[0midx\u001b[0m\u001b[0;34m]\u001b[0m\u001b[0;34m.\u001b[0m\u001b[0mcreativity\u001b[0m \u001b[0;34m==\u001b[0m \u001b[0;36m10\u001b[0m \u001b[0;32mfor\u001b[0m \u001b[0midx\u001b[0m \u001b[0;32min\u001b[0m \u001b[0moccupant_idxs\u001b[0m\u001b[0;34m]\u001b[0m\u001b[0;34m)\u001b[0m\u001b[0;34m\u001b[0m\u001b[0m\n",
      "\u001b[0;31mAttributeError\u001b[0m: 'collections.defaultdict' object has no attribute 'iteritems'"
     ]
    }
   ],
   "source": [
    "from TransformingCity import TransformingCity, LandUseViewer, PopulationViewer\n",
    "\n",
    "import numpy as np\n",
    "import matplotlib.pyplot as plt\n",
    "\n",
    "from matplotlib import rc\n",
    "rc('animation', html='html5')"
   ]
  },
  {
   "cell_type": "code",
   "execution_count": 2,
   "metadata": {
    "collapsed": false
   },
   "outputs": [
    {
     "ename": "NameError",
     "evalue": "name 'TransformingCity' is not defined",
     "output_type": "error",
     "traceback": [
      "\u001b[0;31m---------------------------------------------------------------------------\u001b[0m",
      "\u001b[0;31mNameError\u001b[0m                                 Traceback (most recent call last)",
      "\u001b[0;32m<ipython-input-2-cc6797a80178>\u001b[0m in \u001b[0;36m<module>\u001b[0;34m()\u001b[0m\n\u001b[0;32m----> 1\u001b[0;31m \u001b[0mcity\u001b[0m \u001b[0;34m=\u001b[0m \u001b[0mTransformingCity\u001b[0m\u001b[0;34m(\u001b[0m\u001b[0;36m10\u001b[0m\u001b[0;34m)\u001b[0m\u001b[0;34m\u001b[0m\u001b[0m\n\u001b[0m\u001b[1;32m      2\u001b[0m \u001b[0mcity\u001b[0m\u001b[0;34m.\u001b[0m\u001b[0marray\u001b[0m \u001b[0;34m=\u001b[0m \u001b[0mcity\u001b[0m\u001b[0;34m.\u001b[0m\u001b[0mlanduse\u001b[0m \u001b[0;31m# default array is landuse\u001b[0m\u001b[0;34m\u001b[0m\u001b[0m\n\u001b[1;32m      3\u001b[0m \u001b[0mviewer\u001b[0m \u001b[0;34m=\u001b[0m \u001b[0mLandUseViewer\u001b[0m\u001b[0;34m(\u001b[0m\u001b[0mcity\u001b[0m\u001b[0;34m)\u001b[0m\u001b[0;34m\u001b[0m\u001b[0m\n\u001b[1;32m      4\u001b[0m \u001b[0manim\u001b[0m \u001b[0;34m=\u001b[0m \u001b[0mviewer\u001b[0m\u001b[0;34m.\u001b[0m\u001b[0manimate\u001b[0m\u001b[0;34m(\u001b[0m\u001b[0;34m)\u001b[0m\u001b[0;34m\u001b[0m\u001b[0m\n",
      "\u001b[0;31mNameError\u001b[0m: name 'TransformingCity' is not defined"
     ]
    }
   ],
   "source": [
    "city = TransformingCity(10)\n",
    "city.array = city.landuse # default array is landuse\n",
    "viewer = LandUseViewer(city)\n",
    "anim = viewer.animate()"
   ]
  },
  {
   "cell_type": "code",
   "execution_count": 15,
   "metadata": {
    "collapsed": false
   },
   "outputs": [
    {
     "data": {
      "text/html": [
       "<video width=\"600.0\" height=\"400.0\" controls autoplay loop>\n",
       "  <source type=\"video/mp4\" src=\"data:video/mp4;base64,AAAAHGZ0eXBNNFYgAAACAGlzb21pc28yYXZjMQAAAAhmcmVlAAATDm1kYXQAAAKsBgX//6jcRem9\n",
       "5tlIt5Ys2CDZI+7veDI2NCAtIGNvcmUgMTQ4IHIyNzYgM2Y1ZWQ1NiAtIEguMjY0L01QRUctNCBB\n",
       "VkMgY29kZWMgLSBDb3B5bGVmdCAyMDAzLTIwMTYgLSBodHRwOi8vd3d3LnZpZGVvbGFuLm9yZy94\n",
       "MjY0Lmh0bWwgLSBvcHRpb25zOiBjYWJhYz0xIHJlZj0zIGRlYmxvY2s9MTowOjAgYW5hbHlzZT0w\n",
       "eDM6MHgxMTMgbWU9aGV4IHN1Ym1lPTcgcHN5PTEgcHN5X3JkPTEuMDA6MC4wMCBtaXhlZF9yZWY9\n",
       "MSBtZV9yYW5nZT0xNiBjaHJvbWFfbWU9MSB0cmVsbGlzPTEgOHg4ZGN0PTEgY3FtPTAgZGVhZHpv\n",
       "bmU9MjEsMTEgZmFzdF9wc2tpcD0xIGNocm9tYV9xcF9vZmZzZXQ9LTIgdGhyZWFkcz02IGxvb2th\n",
       "aGVhZF90aHJlYWRzPTEgc2xpY2VkX3RocmVhZHM9MCBucj0wIGRlY2ltYXRlPTEgaW50ZXJsYWNl\n",
       "ZD0wIGJsdXJheV9jb21wYXQ9MCBjb25zdHJhaW5lZF9pbnRyYT0wIGJmcmFtZXM9MyBiX3B5cmFt\n",
       "aWQ9MiBiX2FkYXB0PTEgYl9iaWFzPTAgZGlyZWN0PTEgd2VpZ2h0Yj0xIG9wZW5fZ29wPTAgd2Vp\n",
       "Z2h0cD0yIGtleWludD0yNTAga2V5aW50X21pbj01IHNjZW5lY3V0PTQwIGludHJhX3JlZnJlc2g9\n",
       "MCByY19sb29rYWhlYWQ9NDAgcmM9Y3JmIG1idHJlZT0xIGNyZj0yMy4wIHFjb21wPTAuNjAgcXBt\n",
       "aW49MCBxcG1heD02OSBxcHN0ZXA9NCBpcF9yYXRpbz0xLjQwIGFxPTE6MS4wMACAAAAOeWWIhAAU\n",
       "//73x0/Apuj5ZsudRT0hMIrY+kgovVjs0DJ1AAADAAADAAAFnee2pBQbyohmAAADACxSxX3sBQs4\n",
       "AFcXJXxLumLc/D61R/fpOAVqW+mVH5SM9YBILfSkjBhvp3N750/fDHxXP1xUVqtpWKkL509Y2xIq\n",
       "qhqeEuY5chRlQaiF07RiNaoTs8131Yv0lhcE2iiaMf+yxXvH0Q0P/3gaP4XwU0BB+Q4e3nB976Nw\n",
       "MGdpjfEHgYQkuVCMBs2vxkCi5t/0H0cP79bLxPH7fHcq98B/KNuttwYTiMU3ggvbrEfv1A5up1fA\n",
       "GY4rsuMOCI1GfOemPPkzyGLS4AIAVoTjcgmQoc5nYPV848UsZL+WSCYvcK16AaeL/zE2bcHjoicM\n",
       "EzliQO0HGXYAhY68l5QXkBmHmIfqvAA3CajqIeFsQFmspjZm9pYUUzCq8aaaY7nmUNt6NvbFUleO\n",
       "Zwfy4Wf2rkG2z3gMdzR/kdVKygUNuo2U1H0mmmAevF4EfEUtYbc1BKYSLLFNjjYsMjxiBjVCnawY\n",
       "0f9BP6AcmjoeVHHUJ8zqsJzVFDWc5yJQ7ma8xb2uq/5njZmz82SoHo6sEMzVS0R/7KjXBDQTx3uF\n",
       "DAZsm9pEPAPJBgS01tjjLZnUonVbGbILfwn96KwVHrpKZLvOaT2d8xk3WFzW4hxtOdXnMoMoNIhY\n",
       "g98IZwl8Wr9xFsku7fd+/s4fWR900PczPR/UVWeO0sWXDx4F0vyVvOCxd9bFu64U2smyFueefkNj\n",
       "G82V2TFI/x6kcUNB/rzzphbXX/6rmnntEh7T7pTWDLtxuWggeRnvB03Phhvb51exSDqJCtJFahqO\n",
       "3q7tPPYnKkEjJ2Xb94++pgKYl75RWvK//O6XDvy+Cedr0bJDcwkfR77XGwNFwQeRWT683aIcyAKx\n",
       "+5anWSgMbLB68AsZdCWMiljCVooIGFxcglsNaqvSGcawdyoAH5sX3KFl+PQrUnptErOG2R+rPTRp\n",
       "JWn2pQyxQ3QVT+G7OFLWc2qVR/mUTU3SSIwdSudLc9LUGYvrHWwc277Lr5oymiPm8QU5wUSigl8g\n",
       "th7PRMsCEPwzf2UC5s+6NhQEQdF58S+742/qAFMLS6vukde+uYWVDPXA5WdfYE+Ag8bPI1qtR5bO\n",
       "LeXMkKr24gTN/7AJbfIfw9q1uH+wVXAlIbM+RNtDqMMToYjBXCxPNkN1E345rBnNdDR7HYFOw21e\n",
       "3FHt2ytWdUvzfpvCaqzogKSETKbb55q+/mbSXuwT853cJv1AQIL2e/97nJSP//r/5oez9S+RPEMY\n",
       "emH0ww4tuBUtR7jkEvSBWS8HBujSmEe+Ssfo5g0U6ZCxJWWeHmX/lfuY4Bh1CiHKzulDxoQpdako\n",
       "ihhV5kZq32qX7uLZXVn5iuZuYqaAiE4gHhqBqEjxbD5aEUggpI7A5fuGPyPPxNXQwFqr0l+L9uYT\n",
       "uM9Hq++rqb5xgz19mnlSdAMRXIsRIRBVDEq1h9YQdXxtvNXdqlGbyiduaw26msXc+gfb0G4RZ98G\n",
       "pLt2ZRyVlZvU5dqykogHtGOyTJ8G7visM3TYQjPSTk5+pdIkVeW02vF2aqU9syUYQn2SsJh/esoM\n",
       "TCLYPSWUQWmpM1/eKjtZWmL24jyabxX7kb0+HRc2sD5H55vwQyFs7VgU4KLc3R3i8XoNsIpv65LK\n",
       "JUMWEXcanhiYopjugrqMgLM6b11eNsk4A/UAP8jN50lq+jW2wYTTiTC44K7xbKbbVUZ4G/9Ja55o\n",
       "7sFTsFbjkG3Yj4GLxUQ4HMkAwM34dKav04eCpacGfA5k9vWl4Eguv04Qc/53tKANpA0g9kUrKw4W\n",
       "JLlYetGWdcFz03FIH6GUrStbwIlyoDXFxCHlULAAAtj0sEACLBwu5bb+QCEPxUJiDimYMD1WrN54\n",
       "wjqZoOouFQXVFW65zHhEZOk07bSFu9re674PVVW7e4DszqfU56fzqyuF7DeJl2iGoYDT1kcOa54B\n",
       "n/7Uv1rFIdrHa5JGisuTyp3yt38MNrg1mMwidaZQcAm0TX5GP9v561lCB2aEvEY29T1dgzlkWCBt\n",
       "qrbYdnNNOwf345nPncOhhaxXnMHoKEuIKrauKtSWdbZfqx0FODy9TTQ+yk6mJoDyNRxdRZqB9945\n",
       "E/BK7rHAMjSWInIOm3lkJ6VHCYOPq61/TXWJidO+9fjCCdh/+ODM+CKwSwu82h9/HLSDrKsafDhN\n",
       "TyJ2F8qXRr1/Umzb9LB7Nx6hi+rDRSUVHnFcqlkscZWKO62ylbtsN5h/riN181VCJSU6M5YD7mrQ\n",
       "iSKt233NjMon7RHDpeIc/HrwpzRm/7v9QxeUksFYyzUJ+NNCWE1V/U81PxzLgBaSz3C7xtftr1lx\n",
       "jaKX02ZpWBQk2G2REH/o6Zp6DFjduKGhCETCUXJEhVRGaODU2XBVi9AOPJbA8dJWyStKsJCb3zIH\n",
       "VAjsaM25eqcJIts/msWMp1KXS4evrrcsrSazg9oKZpsmP7etXWaqbOX3NSZ9EpsyEndGTmsbmjS4\n",
       "/2pM/5hKRPnjGQ1d3Rd0WP6TZAVQhydnTPm9Za+SaVSWRddBZIOr52GWc2hoTMJJwjuLzdOG0LhH\n",
       "eYGkig04mQr2EtSq8CK8gF8FnrtdzP+3SmB7siwapy/lsxJ39iPkKTo6Nd0EcVRiGFUxm+zviRTZ\n",
       "rnIgtNZ5pOs/c27/iygbOwgjn+JeBp/dMOzjPht3BFXpOCAGjMz+RwCp+eI0w4L/aXVP0a/8pTb1\n",
       "Nc6BR/K2ZPpsuZMGACBJRgfnoSYvlF/r2T27NAlWEs+aCfFZiXz8u+l0Gbm4fJsoNdy+/aMAuXm/\n",
       "k3OJHAmXzhrcUOwNIfwNbG4guISKn6Huqo8K7Hs+fpf4Sychvk+z6pJFtS2jYgf785rXOi4NuBE4\n",
       "Qy5RvoZHan4kJrAACPO+/0PzjjuJul/YMl36cfL90gCx/ngs7zvKZhPL030VVWyhmAORv89P6HzV\n",
       "5zTJy6kI7EGKOkqafOk/Pngi8VJeC+oQzmoAO+kygxqkGcVZkmbn6xF8OUMp1t7FzH54iJerMvAm\n",
       "U8dU6Tl7n45DlM+SDoKP4V8WLNsLcWLAgrJS4qpqbHpSfHY2tY6lwivp/HEfGcuPK1ULzwr0R0z6\n",
       "nddqK2nOk09oumzfCx6kjvpiJm7/dpvGLvf8kIqJFcGPhs4qYQffZ3qhUr8v6zSr/SvI4ysQSD7P\n",
       "3W91n4mUhlzzFfxNjym6ngV5Tw5JOiOEqURcSFNqtGdv7ax5CanIVfsEowLzoA2okrN7Vms6yqEl\n",
       "+0qwQ9HUbzIITWepzr93Wk6peNlSIPnugL4GOcJis7P2SbndDLQawuFwQbEsn3pqWhmXA12kptSB\n",
       "+4YjI01IetDMjSgnpbZC9TAASJI+vNuC6QkFXYTRhvgTi0o/SGBc7OSPGGjK0wKSofQGQp8z2ALk\n",
       "awAAw6oFsfT39LKKFFKK40i/n+RaPACvH428Wg8yNeRek0Y68JX8BTc4H4rC0opvMfekEEmRZDdl\n",
       "1JUJUYnufuRevNkqSSIS30AO1sJINOAKwns4FpXe/34BTICInzhg1cynbcRWlhk0hD2YfWqZZRzb\n",
       "MlNW+3IfXKYaVSMVE8dZ4NuMU7XPCWd52Q/FXrPw8hFDcuPbt7QdZObxcYxfAR2hFFFtl7Hr+Qv6\n",
       "yg1sH+oGn3oTQyqrezAwrD0Q/es1MAEBvpAXdO5m6YemBoMAz8CHzXnT/qKDG9H+4xhJA6Jo3otI\n",
       "uFBAu2VDfpQmGgLv9pWIckd/N0u9w2t+u6o69UgPR8TMnD7l3oaHZoZ9gRWcAWa/v+nJMUOdIXym\n",
       "+CooL9Nma8VCDpUAAAXja3f7qUzXjJFcsCzrJ4SqsaPWIKW0DCgaDpTOwwD43MGwa7Q/oAtlAflQ\n",
       "CjqZviPJ+vDz6hqzQsM9frD1+0pH9bQ0iz09icGBw1mjM3Aw1TGUwO1HOrpBg5tK7xP30W4rxfNZ\n",
       "ZbGdkteyroyn14SHRx6Rdx6Y0IgYbKzgiQFVIDdAOhMNQ5pzpFHcn6d2jAJREIGLVjkyAAVhe1Y0\n",
       "D0DnNp7M99XCcb0uu8lSkZi4dAwXxGrrcwHx0gHx79NZhEPrvpD5yRxhA/1H3QRMKpr+hcUMGW3S\n",
       "ugyxF5QCuxVcmrGAlfJe45VLdReDStivTim5cgFfnOBdGCg8izzRJ/V9LK4ksAAkpFs3zru7gETK\n",
       "Pi2mYYoJJGgqgmQeCMCgNpNr5/3+XgC5lCOzzQxbBdTBxDTSxuT4o+mbxwYeK0MGJEtUv9q9Z+mR\n",
       "Y9ZkNbZdkCzNJ///QdzJNtK5TRdlN27vW7BLsJPP7ZqhnP0cO2PMElaJqylOh83gs9GAR2uUDb29\n",
       "elXHe2xsgcsGI8Es7X80/i0+ilJ0bsPb11yO3Vi4Y0vC0QRBR+m/yZourtjpjkhYLlevf9RUAk/z\n",
       "PFmCsmKAF7cvV+C3+wiPiB7n8DpwAJRcuVtEYz0C5Z8S0sFPzzM3XfezRru7Z3nARSX/270zhh8v\n",
       "Z69xWqXWYwfFdpm0sXZZxF7zdEn4hwy+hKyF9nAQX5gSuR94KVy7gWNi+ijgBzOC14uyH+YL1l6M\n",
       "lEPH7Jn2xVkRjBCPd/tlHTslopW9cI0gEQE/mGB+dKKE0sAiCJ/Q8vdyu+PxnOFDTlz5Opa9/T0A\n",
       "FTRtMfxFnBIFKuV+BsQLdBaTaBg/mS1CzA8FPFhIwDe7EzcfnOAXhO6GHeNvWKWQklFhs4IbUVLT\n",
       "UXw7nG+is7tmpCW8Xkg2GKeGk/v9j7+jvUe6EdvP+l0UCOERVZYss8YBAW499XL22DbayjaTHlBP\n",
       "xQs3Wcu4HDulxBT1UAXNEeBtpyK7dcHdAqafuaNwMMVxhP112k7nQBmpj3uVSjTMS0I7xoiIQ0r2\n",
       "E3kPMwNg4xEaqsOEsWsjzeEp0zpbAADEvPaD9YoxZYrBYi5lJjsEtoAjXZuBVKxeAACzgQAAAEBB\n",
       "miRsQT/+tSqAAUEcfAAlvoLtLVFSnu4DDcCkbr1vaf8PxaJDKAUqdX2EbPqa+q7+thH7+xbl9Crs\n",
       "Tr5zKXuAAAAAD0GeQniCHwAAAwAAAwAQ8QAAAA8BnmF0Q/8AAAMAAAMAJeAAAAAPAZ5jakP/AAAD\n",
       "AAADACXhAAAAG0GaaEmoQWiZTAgn//61KoAAAAMA9OF81cB/gQAAABFBnoZFESwQ/wAAAwAAAwAQ\n",
       "8QAAAA8BnqV0Q/8AAAMAAAMAJeEAAAAPAZ6nakP/AAADAAADACXgAAAAG0GarEmoQWyZTAgn//61\n",
       "KoAAAAMA9OF81cB/gAAAABFBnspFFSwQ/wAAAwAAAwAQ8QAAAA8Bnul0Q/8AAAMAAAMAJeAAAAAP\n",
       "AZ7rakP/AAADAAADACXgAAAAIEGa8EmoQWyZTAgl//61KoAAAAMA9LWX3L3+/wCEPG6TAAAAEUGf\n",
       "DkUVLBD/AAADAAADABDxAAAADwGfLXRD/wAAAwAAAwAl4QAAAA8Bny9qQ/8AAAMAAAMAJeAAAAAd\n",
       "QZszSahBbJlMCH///qmWAAADAAAeg0HpCXz470AAAAARQZ9RRRUsEP8AAAMAAAMAEPEAAAAPAZ9y\n",
       "akP/AAADAAADACXgAAAEF21vb3YAAABsbXZoZAAAAAAAAAAAAAAAAAAAA+gAAA+gAAEAAAEAAAAA\n",
       "AAAAAAAAAAABAAAAAAAAAAAAAAAAAAAAAQAAAAAAAAAAAAAAAAAAQAAAAAAAAAAAAAAAAAAAAAAA\n",
       "AAAAAAAAAAAAAAAAAAIAAANBdHJhawAAAFx0a2hkAAAAAwAAAAAAAAAAAAAAAQAAAAAAAA+gAAAA\n",
       "AAAAAAAAAAAAAAAAAAABAAAAAAAAAAAAAAAAAAAAAQAAAAAAAAAAAAAAAAAAQAAAAAJYAAABkAAA\n",
       "AAAAJGVkdHMAAAAcZWxzdAAAAAAAAAABAAAPoAAAEAAAAQAAAAACuW1kaWEAAAAgbWRoZAAAAAAA\n",
       "AAAAAAAAAAAAKAAAAKAAVcQAAAAAAC1oZGxyAAAAAAAAAAB2aWRlAAAAAAAAAAAAAAAAVmlkZW9I\n",
       "YW5kbGVyAAAAAmRtaW5mAAAAFHZtaGQAAAABAAAAAAAAAAAAAAAkZGluZgAAABxkcmVmAAAAAAAA\n",
       "AAEAAAAMdXJsIAAAAAEAAAIkc3RibAAAALRzdHNkAAAAAAAAAAEAAACkYXZjMQAAAAAAAAABAAAA\n",
       "AAAAAAAAAAAAAAAAAAJYAZAASAAAAEgAAAAAAAAAAQAAAAAAAAAAAAAAAAAAAAAAAAAAAAAAAAAA\n",
       "AAAAAAAAABj//wAAADJhdmNDAWQAFv/hABlnZAAWrNlAmDPl4QAAAwABAAADAAoPFi2WAQAGaOvj\n",
       "yyLAAAAAHHV1aWRraEDyXyRPxbo5pRvPAyPzAAAAAAAAABhzdHRzAAAAAAAAAAEAAAAUAAAIAAAA\n",
       "ABRzdHNzAAAAAAAAAAEAAAABAAAAqGN0dHMAAAAAAAAAEwAAAAEAABAAAAAAAQAAKAAAAAABAAAQ\n",
       "AAAAAAEAAAAAAAAAAQAACAAAAAABAAAoAAAAAAEAABAAAAAAAQAAAAAAAAABAAAIAAAAAAEAACgA\n",
       "AAAAAQAAEAAAAAABAAAAAAAAAAEAAAgAAAAAAQAAKAAAAAABAAAQAAAAAAEAAAAAAAAAAQAACAAA\n",
       "AAABAAAgAAAAAAIAAAgAAAAAHHN0c2MAAAAAAAAAAQAAAAEAAAAUAAAAAQAAAGRzdHN6AAAAAAAA\n",
       "AAAAAAAUAAARLQAAAEQAAAATAAAAEwAAABMAAAAfAAAAFQAAABMAAAATAAAAHwAAABUAAAATAAAA\n",
       "EwAAACQAAAAVAAAAEwAAABMAAAAhAAAAFQAAABMAAAAUc3RjbwAAAAAAAAABAAAALAAAAGJ1ZHRh\n",
       "AAAAWm1ldGEAAAAAAAAAIWhkbHIAAAAAAAAAAG1kaXJhcHBsAAAAAAAAAAAAAAAALWlsc3QAAAAl\n",
       "qXRvbwAAAB1kYXRhAAAAAQAAAABMYXZmNTcuNDEuMTAw\n",
       "\">\n",
       "  Your browser does not support the video tag.\n",
       "</video>"
      ],
      "text/plain": [
       "<matplotlib.animation.FuncAnimation at 0x7efc49b13438>"
      ]
     },
     "execution_count": 15,
     "metadata": {},
     "output_type": "execute_result"
    }
   ],
   "source": [
    "anim"
   ]
  },
  {
   "cell_type": "code",
   "execution_count": 16,
   "metadata": {
    "collapsed": false
   },
   "outputs": [
    {
     "name": "stdout",
     "output_type": "stream",
     "text": [
      "[[1 3 3 1 1 1 1 1 1 2]\n",
      " [1 3 3 3 2 1 1 1 1 1]\n",
      " [1 1 1 1 1 1 1 1 5 1]\n",
      " [1 2 3 2 2 1 3 1 3 1]\n",
      " [1 3 3 1 3 5 2 1 1 3]\n",
      " [1 5 3 1 3 3 1 1 2 5]\n",
      " [1 1 1 1 1 1 1 2 1 3]\n",
      " [1 1 3 3 2 6 1 1 1 6]\n",
      " [1 5 1 1 1 1 6 5 5 1]\n",
      " [1 5 2 1 6 1 3 5 6 3]]\n"
     ]
    }
   ],
   "source": [
    "print(city.array)"
   ]
  },
  {
   "cell_type": "code",
   "execution_count": 18,
   "metadata": {
    "collapsed": false
   },
   "outputs": [
    {
     "ename": "AttributeError",
     "evalue": "'TransformingCity' object has no attribute 'pop_count_cr'",
     "output_type": "error",
     "traceback": [
      "\u001b[0;31m---------------------------------------------------------------------------\u001b[0m",
      "\u001b[0;31mAttributeError\u001b[0m                            Traceback (most recent call last)",
      "\u001b[0;32m<ipython-input-18-03ebc07c5ff4>\u001b[0m in \u001b[0;36m<module>\u001b[0;34m()\u001b[0m\n\u001b[1;32m      1\u001b[0m \u001b[0mcity\u001b[0m \u001b[0;34m=\u001b[0m \u001b[0mTransformingCity\u001b[0m\u001b[0;34m(\u001b[0m\u001b[0;36m10\u001b[0m\u001b[0;34m)\u001b[0m\u001b[0;34m\u001b[0m\u001b[0m\n\u001b[1;32m      2\u001b[0m \u001b[0mcity\u001b[0m\u001b[0;34m.\u001b[0m\u001b[0mstep\u001b[0m\u001b[0;34m(\u001b[0m\u001b[0;34m)\u001b[0m\u001b[0;34m\u001b[0m\u001b[0m\n\u001b[0;32m----> 3\u001b[0;31m \u001b[0mcity\u001b[0m\u001b[0;34m.\u001b[0m\u001b[0marray\u001b[0m \u001b[0;34m=\u001b[0m \u001b[0mcity\u001b[0m\u001b[0;34m.\u001b[0m\u001b[0mpop_count_cr\u001b[0m \u001b[0;31m# default array is landuse\u001b[0m\u001b[0;34m\u001b[0m\u001b[0m\n\u001b[0m\u001b[1;32m      4\u001b[0m \u001b[0mprint\u001b[0m\u001b[0;34m(\u001b[0m\u001b[0mcity\u001b[0m\u001b[0;34m.\u001b[0m\u001b[0mpop_count_cr\u001b[0m\u001b[0;34m)\u001b[0m\u001b[0;34m\u001b[0m\u001b[0m\n\u001b[1;32m      5\u001b[0m \u001b[0mviewer\u001b[0m \u001b[0;34m=\u001b[0m \u001b[0mPopulationViewer\u001b[0m\u001b[0;34m(\u001b[0m\u001b[0mcity\u001b[0m\u001b[0;34m)\u001b[0m\u001b[0;34m\u001b[0m\u001b[0m\n",
      "\u001b[0;31mAttributeError\u001b[0m: 'TransformingCity' object has no attribute 'pop_count_cr'"
     ]
    }
   ],
   "source": [
    "city = TransformingCity(10)\n",
    "city.step()\n",
    "city.array = city.pop_count_cr # default array is landuse\n",
    "print(city.pop_count_cr)\n",
    "viewer = PopulationViewer(city)\n",
    "anim = viewer.animate()"
   ]
  },
  {
   "cell_type": "code",
   "execution_count": 10,
   "metadata": {
    "collapsed": false
   },
   "outputs": [
    {
     "data": {
      "text/html": [
       "<video width=\"600.0\" height=\"400.0\" controls autoplay loop>\n",
       "  <source type=\"video/mp4\" src=\"data:video/mp4;base64,AAAAHGZ0eXBNNFYgAAACAGlzb21pc28yYXZjMQAAAAhmcmVlAAAFNG1kYXQAAAKsBgX//6jcRem9\n",
       "5tlIt5Ys2CDZI+7veDI2NCAtIGNvcmUgMTQ4IHIyNzYgM2Y1ZWQ1NiAtIEguMjY0L01QRUctNCBB\n",
       "VkMgY29kZWMgLSBDb3B5bGVmdCAyMDAzLTIwMTYgLSBodHRwOi8vd3d3LnZpZGVvbGFuLm9yZy94\n",
       "MjY0Lmh0bWwgLSBvcHRpb25zOiBjYWJhYz0xIHJlZj0zIGRlYmxvY2s9MTowOjAgYW5hbHlzZT0w\n",
       "eDM6MHgxMTMgbWU9aGV4IHN1Ym1lPTcgcHN5PTEgcHN5X3JkPTEuMDA6MC4wMCBtaXhlZF9yZWY9\n",
       "MSBtZV9yYW5nZT0xNiBjaHJvbWFfbWU9MSB0cmVsbGlzPTEgOHg4ZGN0PTEgY3FtPTAgZGVhZHpv\n",
       "bmU9MjEsMTEgZmFzdF9wc2tpcD0xIGNocm9tYV9xcF9vZmZzZXQ9LTIgdGhyZWFkcz02IGxvb2th\n",
       "aGVhZF90aHJlYWRzPTEgc2xpY2VkX3RocmVhZHM9MCBucj0wIGRlY2ltYXRlPTEgaW50ZXJsYWNl\n",
       "ZD0wIGJsdXJheV9jb21wYXQ9MCBjb25zdHJhaW5lZF9pbnRyYT0wIGJmcmFtZXM9MyBiX3B5cmFt\n",
       "aWQ9MiBiX2FkYXB0PTEgYl9iaWFzPTAgZGlyZWN0PTEgd2VpZ2h0Yj0xIG9wZW5fZ29wPTAgd2Vp\n",
       "Z2h0cD0yIGtleWludD0yNTAga2V5aW50X21pbj01IHNjZW5lY3V0PTQwIGludHJhX3JlZnJlc2g9\n",
       "MCByY19sb29rYWhlYWQ9NDAgcmM9Y3JmIG1idHJlZT0xIGNyZj0yMy4wIHFjb21wPTAuNjAgcXBt\n",
       "aW49MCBxcG1heD02OSBxcHN0ZXA9NCBpcF9yYXRpbz0xLjQwIGFxPTE6MS4wMACAAAAA5GWIhAAU\n",
       "//73x0/Apuj5ZsudRT0hMIrY+kgovVjs0DJ1AAADAAADAAAFnee2pBQbyohmAAADACxSxX3sBQ5O\n",
       "YAri5K+Jd0xbn4fWqP79JwCcDJd7I+/7sKTVJU9JbjQ526bZooGIjm6vmq1ZB1zGF6vLy3ZRMi0X\n",
       "XP2SxW+pka2f62jubkIR1o/fg6G8hWQACRByixEIHsQ4hJWC2AAAAwAAAwAAAwAAAwA5nWmYnstM\n",
       "7FmkYxWw6aqfmGufy4Re2emHGSzlGRpLMr+E15/OtPoqQT9umht0wFhEOidbdAAAAwBNQQAAABFB\n",
       "miRsQT/+tSqAAAADAAANqAAAAA9BnkJ4gh8AAAMAAAMAEPEAAAAPAZ5hdEP/AAADAAADACXgAAAA\n",
       "DwGeY2pD/wAAAwAAAwAl4QAAABdBmmhJqEFomUwIJ//+tSqAAAADAAANqQAAABFBnoZFESwQ/wAA\n",
       "AwAAAwAQ8QAAAA8BnqV0Q/8AAAMAAAMAJeEAAAAPAZ6nakP/AAADAAADACXgAAAAF0GarEmoQWyZ\n",
       "TAgn//61KoAAAAMAAA2oAAAAEUGeykUVLBD/AAADAAADABDxAAAADwGe6XRD/wAAAwAAAwAl4AAA\n",
       "AA8BnutqQ/8AAAMAAAMAJeAAAAAXQZrwSahBbJlMCCX//rUqgAAAAwAADakAAAARQZ8ORRUsEP8A\n",
       "AAMAAAMAEPEAAAAPAZ8tdEP/AAADAAADACXhAAAADwGfL2pD/wAAAwAAAwAl4AAAABhBmzNJqEFs\n",
       "mUwIf//+qZYAAAMAAAMAasAAAAARQZ9RRRUsEP8AAAMAAAMAEPEAAAAPAZ9yakP/AAADAAADACXg\n",
       "AAAEF21vb3YAAABsbXZoZAAAAAAAAAAAAAAAAAAAA+gAAA+gAAEAAAEAAAAAAAAAAAAAAAABAAAA\n",
       "AAAAAAAAAAAAAAAAAQAAAAAAAAAAAAAAAAAAQAAAAAAAAAAAAAAAAAAAAAAAAAAAAAAAAAAAAAAA\n",
       "AAIAAANBdHJhawAAAFx0a2hkAAAAAwAAAAAAAAAAAAAAAQAAAAAAAA+gAAAAAAAAAAAAAAAAAAAA\n",
       "AAABAAAAAAAAAAAAAAAAAAAAAQAAAAAAAAAAAAAAAAAAQAAAAAJYAAABkAAAAAAAJGVkdHMAAAAc\n",
       "ZWxzdAAAAAAAAAABAAAPoAAAEAAAAQAAAAACuW1kaWEAAAAgbWRoZAAAAAAAAAAAAAAAAAAAKAAA\n",
       "AKAAVcQAAAAAAC1oZGxyAAAAAAAAAAB2aWRlAAAAAAAAAAAAAAAAVmlkZW9IYW5kbGVyAAAAAmRt\n",
       "aW5mAAAAFHZtaGQAAAABAAAAAAAAAAAAAAAkZGluZgAAABxkcmVmAAAAAAAAAAEAAAAMdXJsIAAA\n",
       "AAEAAAIkc3RibAAAALRzdHNkAAAAAAAAAAEAAACkYXZjMQAAAAAAAAABAAAAAAAAAAAAAAAAAAAA\n",
       "AAJYAZAASAAAAEgAAAAAAAAAAQAAAAAAAAAAAAAAAAAAAAAAAAAAAAAAAAAAAAAAAAAAABj//wAA\n",
       "ADJhdmNDAWQAFv/hABlnZAAWrNlAmDPl4QAAAwABAAADAAoPFi2WAQAGaOvjyyLAAAAAHHV1aWRr\n",
       "aEDyXyRPxbo5pRvPAyPzAAAAAAAAABhzdHRzAAAAAAAAAAEAAAAUAAAIAAAAABRzdHNzAAAAAAAA\n",
       "AAEAAAABAAAAqGN0dHMAAAAAAAAAEwAAAAEAABAAAAAAAQAAKAAAAAABAAAQAAAAAAEAAAAAAAAA\n",
       "AQAACAAAAAABAAAoAAAAAAEAABAAAAAAAQAAAAAAAAABAAAIAAAAAAEAACgAAAAAAQAAEAAAAAAB\n",
       "AAAAAAAAAAEAAAgAAAAAAQAAKAAAAAABAAAQAAAAAAEAAAAAAAAAAQAACAAAAAABAAAgAAAAAAIA\n",
       "AAgAAAAAHHN0c2MAAAAAAAAAAQAAAAEAAAAUAAAAAQAAAGRzdHN6AAAAAAAAAAAAAAAUAAADmAAA\n",
       "ABUAAAATAAAAEwAAABMAAAAbAAAAFQAAABMAAAATAAAAGwAAABUAAAATAAAAEwAAABsAAAAVAAAA\n",
       "EwAAABMAAAAcAAAAFQAAABMAAAAUc3RjbwAAAAAAAAABAAAALAAAAGJ1ZHRhAAAAWm1ldGEAAAAA\n",
       "AAAAIWhkbHIAAAAAAAAAAG1kaXJhcHBsAAAAAAAAAAAAAAAALWlsc3QAAAAlqXRvbwAAAB1kYXRh\n",
       "AAAAAQAAAABMYXZmNTcuNDEuMTAw\n",
       "\">\n",
       "  Your browser does not support the video tag.\n",
       "</video>"
      ],
      "text/plain": [
       "<matplotlib.animation.FuncAnimation at 0x7efc49c1c7f0>"
      ]
     },
     "execution_count": 10,
     "metadata": {},
     "output_type": "execute_result"
    }
   ],
   "source": [
    "anim"
   ]
  },
  {
   "cell_type": "code",
   "execution_count": null,
   "metadata": {
    "collapsed": true
   },
   "outputs": [],
   "source": []
  }
 ],
 "metadata": {
  "anaconda-cloud": {},
  "kernelspec": {
   "display_name": "Python [conda root]",
   "language": "python",
   "name": "conda-root-py"
  },
  "language_info": {
   "codemirror_mode": {
    "name": "ipython",
    "version": 3
   },
   "file_extension": ".py",
   "mimetype": "text/x-python",
   "name": "python",
   "nbconvert_exporter": "python",
   "pygments_lexer": "ipython3",
   "version": "3.5.2"
  }
 },
 "nbformat": 4,
 "nbformat_minor": 0
}
