{
 "cells": [
  {
   "cell_type": "code",
   "execution_count": 2,
   "metadata": {
    "collapsed": false
   },
   "outputs": [],
   "source": [
    "from TransformingCity import TransformingCity, LandUseViewer, PopulationViewer\n",
    "\n",
    "import numpy as np\n",
    "import matplotlib.pyplot as plt\n",
    "\n",
    "from matplotlib import rc\n",
    "rc('animation', html='html5')"
   ]
  },
  {
   "cell_type": "code",
   "execution_count": 3,
   "metadata": {
    "collapsed": false
   },
   "outputs": [],
   "source": [
    "city = TransformingCity(10)\n",
    "city.array = city.landuse # default array is landuse\n",
    "viewer = LandUseViewer(city)\n",
    "anim = viewer.animate()"
   ]
  },
  {
   "cell_type": "code",
   "execution_count": 4,
   "metadata": {
    "collapsed": false
   },
   "outputs": [
    {
     "data": {
      "text/html": [
       "<video width=\"600.0\" height=\"400.0\" controls autoplay loop>\n",
       "  <source type=\"video/mp4\" src=\"data:video/mp4;base64,AAAAHGZ0eXBNNFYgAAACAGlzb21pc28yYXZjMQAAAAhmcmVlAAAUOm1kYXQAAAKsBgX//6jcRem9\n",
       "5tlIt5Ys2CDZI+7veDI2NCAtIGNvcmUgMTQ4IHIyNzYgM2Y1ZWQ1NiAtIEguMjY0L01QRUctNCBB\n",
       "VkMgY29kZWMgLSBDb3B5bGVmdCAyMDAzLTIwMTYgLSBodHRwOi8vd3d3LnZpZGVvbGFuLm9yZy94\n",
       "MjY0Lmh0bWwgLSBvcHRpb25zOiBjYWJhYz0xIHJlZj0zIGRlYmxvY2s9MTowOjAgYW5hbHlzZT0w\n",
       "eDM6MHgxMTMgbWU9aGV4IHN1Ym1lPTcgcHN5PTEgcHN5X3JkPTEuMDA6MC4wMCBtaXhlZF9yZWY9\n",
       "MSBtZV9yYW5nZT0xNiBjaHJvbWFfbWU9MSB0cmVsbGlzPTEgOHg4ZGN0PTEgY3FtPTAgZGVhZHpv\n",
       "bmU9MjEsMTEgZmFzdF9wc2tpcD0xIGNocm9tYV9xcF9vZmZzZXQ9LTIgdGhyZWFkcz02IGxvb2th\n",
       "aGVhZF90aHJlYWRzPTEgc2xpY2VkX3RocmVhZHM9MCBucj0wIGRlY2ltYXRlPTEgaW50ZXJsYWNl\n",
       "ZD0wIGJsdXJheV9jb21wYXQ9MCBjb25zdHJhaW5lZF9pbnRyYT0wIGJmcmFtZXM9MyBiX3B5cmFt\n",
       "aWQ9MiBiX2FkYXB0PTEgYl9iaWFzPTAgZGlyZWN0PTEgd2VpZ2h0Yj0xIG9wZW5fZ29wPTAgd2Vp\n",
       "Z2h0cD0yIGtleWludD0yNTAga2V5aW50X21pbj01IHNjZW5lY3V0PTQwIGludHJhX3JlZnJlc2g9\n",
       "MCByY19sb29rYWhlYWQ9NDAgcmM9Y3JmIG1idHJlZT0xIGNyZj0yMy4wIHFjb21wPTAuNjAgcXBt\n",
       "aW49MCBxcG1heD02OSBxcHN0ZXA9NCBpcF9yYXRpbz0xLjQwIGFxPTE6MS4wMACAAAAPgGWIhAAU\n",
       "//73x0/Apuj5ZsudRT0hMIrY+kgovVjs0DJ1AAADAAADAAAFnee2pBQbyohmAAADACxSxX3sBQs4\n",
       "AFcXJXxLumLc/D61R/fpOAVqW+mVgFSM9XShO++MgRgw307m986hKH1Tv5RDeuFRyf5UFlNjA+7j\n",
       "CSlGyKZBF7lZlc0QtHzptl8zXMlAlX2jq+tN/jsJGJKxz72LeGQqoDQ9SWb5StgL8VZ6lbx5kkVH\n",
       "97xr+y14zjeP8pVJHDgz9jsuKFyHB3J2LKsAWzbSeSSoKx7Vx7ijE6ar57TKZSOa0sXQ3ABQA6+j\n",
       "CFCIqyeFNqbdnk5gytupOEgMRGOe6XP/wjSuRz20fwFJg+8dkb7mZECo9K/zM9jWRXmCZLJT7zgP\n",
       "8ZEJiCSg2Q850r4NrABvhTV6z3esWS8HM2B0xXw8z0ZgdKsHdXbuiwkIEW3YnQbSV2xGMmMmM044\n",
       "nOdZOd262ypWk0D0FxD5vsNMD/Oj0ZIZVP/CnnrvLQucb+Z1G2BnaDwrbAvYkOw2+C8YoBQ4kF3q\n",
       "n8+A7sjj9JU7ShkYKbqv9EfqReuE0X5B+A5AYvvNYDlE8NuXaAp40RKlkyPpS55shZODORefixNw\n",
       "kLR7NRrQ97bG+CQuFIR8WLS767H3gI5Dbt83Aobp72tS2N97s5tmer9GgP/NzUZLlAtHujwNPAlN\n",
       "6eUPWAUxu2V6ExXllQK9oWcgBddIhCaib1c3sCqYYqJej6oz4+Q+dzcL1QzFkqCYPPFmGEcGXgec\n",
       "Sv3q2USaIMupGTecaR9ZwmUpYrKtw62QGdOMbDS47Nspcp713qT7mrcYVlrWQh0IGMWw9Qc4p5wv\n",
       "njOGSnGbrh9ZhL4ZsSgGKGmepZ6iQC/7muYr3nfb7Icl/HlXTNqpH0hnd4QNCpEbjEdLU/8n9/Dm\n",
       "a82ZIqPe/q5M66mMwP7xLb2QSjNkHybjUFoVqU+GyZHKHUKw2VdlSbOGp21/gY8IlOvw5qgVSEZp\n",
       "RKG/nPosy4Ks3tnaKwksAxvFtsZVYchU7qjNockBAg/yTL3A02nSFfLv2gMoLPnWoMhUTv+e8nU2\n",
       "47uD3FzEzCO6jfiD//v3TPxr8ztuw/W9mgfuyl8jicp4wls0kuJ591lju8AUlr4O2Lx0GyyhZ0s1\n",
       "+KqN0Hhz3P5EHkf5OczVo9SdMBBpc4h9v5Tl7JEF/SG/vt8iAjUuKV9xFbd/SegZmFkilXmQQqYi\n",
       "cqaYchqzV3gU2MuS1+gYBmwfqMLvDE5npTr7I+Vrl7UihRqjBnWu2erRV8+nnPINmwOAVb2jdZTq\n",
       "bmwj4pTDts/4HEBN1UQ5wxoCtZZXm21poHkN/osr+1dBL+xraDMDMjVPASqve+TZjfNJm9n1yTEk\n",
       "jjdiCn1qsdFhzBpo1c4ZSi5M/hNFjNBPGW9A7b6oBOFIv300TghwJ6uiAdwAIUzNVu9atERpgIsK\n",
       "eaht/tWecnwE/mLOu36vJ6AXNHMarxylAxlEasBIIJ1xkmB2DW8fYmClakoN4T7EBFcj+yY+/MCC\n",
       "FPcebmsUBko2KjpEbCICJ8amCssfFpXbirq7AaD7pSZ6u/4bCH+tc39g1oNFH4/Q4l9mFOp4tb1P\n",
       "CdmsQGeqy7HGYjech4W5dHl/ExNSQehp463DZUFXKgVAUREcCv45HNLXFP8NDCDFb2vkKsHglDLZ\n",
       "i3ry+gIOEjcq4QY8MeQypkk8hvhQt5vsGiWpH1R1rHN8WDF02285MnIuKA1NcxBRvaFpk+FZgGHh\n",
       "RfTD/lOk8Drb/URRNjlm3Zlsl3doyRYH1CLKklSznnu+Ix9+GcPj8sCKZal7heIg7zK6JMsBsyfU\n",
       "IT2mr8UoqwGpFVe1dEjzO6ZFhACmLKNXoZQ3j+XON/CkuOp85TAevMpTixEiQ6qRRSTFjXt8ZVzS\n",
       "o+ixRDEbdk7x1lqcU6KWNOi7UeAOWUD0U8td0jJxj1NymqmBFZfgz27X4nCskuRZGPz75t4tzGwW\n",
       "IlwJlTpItv4C5IqgHPu1cN7ogxIDNwIGXg0LszFJEwf9s4wCbMI/VC8kyzC2aqndhMIzmOdhkrXg\n",
       "44BNByhdorLE1oNmhETNZGgyvqnoqOVsgRqJTVPj/oPy6RicV/RNJECQviyP03ecBRjLKPRVzio7\n",
       "bEm25i30u9nFr+Z1aekcE3A2Xn0dYA4nT1ZFB8CQCnJ1iJgTEPO0t56CpE/yvSRsbUV0KRB1+tJ3\n",
       "LuDzaR5tCZ0W2gsu6dM0Zm/QYenJ0vZ2Car0XbrNr7R8s+tNKvrT7tkMLsJuhZbyU4SgAMUk7P2h\n",
       "BMxiNv6Y33SWiuXaiINeFEiN5ow4xjsbUhYiC7FM70z03yH89KAiQuuSX9Iaf/9TjkxajfHmJ/7q\n",
       "K65hT8vdjWKyfg9FycV3OGdovotiGuOxEyK1Vx7qNx6cDivswEKFjNR+aowny/QB4tbpz9aovmb2\n",
       "1uwsqW+pe6CjxzKF9sihCddKxlqrl/zZ4UQGJzmJ0ibFpwa+U/GejtUqQsaqd78+/s8qXM3riUW6\n",
       "rwtE/d89xPYxZD6Pvw9ONOj0WRCG2WWhQJrQ6/6R7GcAr/d4axiNMaBFvpkP3aWBjvCvvhEwSOhY\n",
       "0GpIFH69+Oqzs/5SzbbapaaL5JoVp2w9PWwBjjXEdZ9YphOd/g7mbs4PEkCi2/NmpqAmKUgPHGM3\n",
       "lJm3Rws49PvkVD+y8iV3VoNU8IUxjY25Qve9eXCDhTaWHMcGY0QFpRr/0eJWagMhsSy0Ud4vpskM\n",
       "QavMty9iOnRjDb53PSe2nZE4EsoRqVMSvRVuAZ8uLxdrYv5WYRn8DlhUplqeKJFvNFbsM2W5L/9D\n",
       "c7zTcDBUhsk2mIAAopXFFctml40OPu4RQ75B+1JM7gg3Z6QGghdFoBoBVr13zUIN1F0EJkIaPtoz\n",
       "pucYNzkHp1uSmxG8fG5V7vtxDlfhlzyab89NEid/1eF7Al0exEw60XgNJJv28IngLE/NMRuBWy48\n",
       "aV70IOjyjZb1ZrG1g42JitiYNwmToTsiy8SOezXB4gVP4adhKZQpbJmeHkCsvLTXga0zglSGjy6l\n",
       "sWxy31hpBOM4ikbCjrC3hbexrJJPmbfj//8AB3XXI9dHSivrrjhTr3Khp1ooHNlKoHIhtPPJ26KA\n",
       "SWu+jf0W6qtFuQsZrJEWW0DhUGR0FSG1+3EQwUXZ6ZGR89UeICzaOA1Twg/frR7Xf7/yjAbEWtMt\n",
       "sywCeboRPcyu4DO7O/G65StnOslagRt91yaloflH4Cc0u1DzRR0UDgWVPAC1csD471eHSzxI3WQM\n",
       "ydTJkeA+8gApFYUr2+tUDA/bSp8jCGAYLUs0ajG4TPmL+Qy14r+aR9ZFW8UsTKLyWWfyVblrDgWk\n",
       "2zm8tTksapAAFwwWxcEySuMcpqgh7//9Yj8Uy/K1ZzWtaRuFPB4monzKO24k/ZEOW8PgHdnQDMs5\n",
       "0qMqmRHpeh+cj4xc/RwMFb5JxlNXygbOdo6+DJxlFgzlCFD8p99FKlTJNH1CYj5esB+hoUZb9gWG\n",
       "Zp+sxZ70hQkSe/Q06KnsWHc/EIW1NYzxqxkP1ODb1LyjnICeHgDjhfnKevvxkkDDr2BwnasDv5WS\n",
       "Ths42jhH7+sNzS77uDsI2uqmZvoktwsGrrcx0aB3L0k7LH5xz+f6vTuUYcG8dnqbO6g2/wXVrhyh\n",
       "iC5ahBdA0Jh2OlwAznQNC4+BrL+mFVuLIqGLa9SelQJmd8zK2q99x77tTEAJiQv/J/kio07nenJy\n",
       "d21yyTd1WgaUpuwM0OJY78iu2GbDFc3FpE5bdlVpv2qJc+USmIYXYzJrcyIsDsyLZqsrKRvlrkLw\n",
       "hfHfQm/D9ZuDdQWHRHZPCfHh7z+DG7ClBSdhd8Gl56+vwiLCKqqu8++5lZHZi7y5AAADAGLO8hr5\n",
       "/stMgGCfdUg15+xKnx62vjfED/uwtXN28j0DedICIUwDJ2ouENat1sieOhNwAflIyp/+rzgkRUJa\n",
       "xl9WUxrguWTyNNN/iUJQqzJL5RYoJQreuu3nMMFRcMyLGplaXrBeAiiCPXjBjZjq3xNnGvMybeiU\n",
       "6rwQ3W1GNECq9KVxJc770VBz23UzpKszeUUzyAi6JuXDZ/l3g1T1n34YTuzHve3rWhM6c3iU7Qsu\n",
       "zM3eN5qVoBQLo3Sq9YQtGYN9R5GoIlwvpsWe5lpAdaP9L+fFlH6QuZIyUFOefptenMw4WG8hH3nf\n",
       "3xOGKfIfEteHROqehYbZY/dAgJinuzOeyd+xKmXS20Bc30ewL2YSkKLFvYCtmEmZ2tTU0bjeeE7B\n",
       "ly9eMOoeNGgBHtH0ewuvC8BOlyCBLq0XPq+xS0yk/H68mn8ErMO8WVw4tquobKx+XbXr6DCHPavY\n",
       "PdRf8LJr2UvqvBuhu1D3L/n0TQpaRlAEVn1nFEIEad0tY7QsAIH2EV3Syxs3aDuvXQLm/UT5fOBC\n",
       "PHpJnt4NNsh05OtGGAj1NsRNOrnBsaR+7ofY/RPJ+td8rkNtQLUumV2rvMu2PDF44FPg+T2AAAM9\n",
       "+7KHdwK3DspgilSpPuR+Si1F0gc7+BzbgTNrq3zt/osrLrq6mMLXHpeAL1fG1SJtTaRPuzvE3fFU\n",
       "lKlID9M0TQNc6hbg4+4GNSYz7qiR9HPb/+03IK6q5vgscxFEkSlAzkqKsRxBoW9GvzClyGl27ug4\n",
       "LUv+7Hyh1/k1YNssqHxQNl5/+sW6gnrT0USjJG5auhLFI1TqcYollO7nzxXGTFSPhX5Q18rIOjNf\n",
       "aE/Xt9pzRNdaiMDJWU7I3D7Re6WqA3CDELr0DOYmC6R+j49Xbhd/DoHAyLk+bEyje2CAb7qbZ0/j\n",
       "qax6Ofh4AABI8Zf96QMrwPCR9ok7p0viEjnASxy2fr79skVB5FkhqdkPmI5fCKRe6yL/drdEnFGN\n",
       "dTjnKsCAhei0aZ1MSM2BETuVv+MXOCqeEJapXOoslkg0GWjzgdDRfbwnhJ9Evz3/8M5g+rogvjZf\n",
       "8weKIm3X7zKeto7qkOAXpDvzFmYPISch/WwUxlb6kyf3P7Qxtut4N/toVLBvYFy6+0u+aQ4tJkW+\n",
       "prvKmBerfncVyBEGCiAUCJLQLf+6TCeHRIgZZR76sXdjaMerhkmMRB3EOWCfdyb3K9LdyfNfq02x\n",
       "BWh5Wu4nBS0gG+W8dUaxSyGAHmeUfIsgg739DliDQWWWwxr4XlOAwtp5MgwE9rFV0Me95nQgWbyu\n",
       "OCdpxCok3imkaFxwJK/QZ5TkfwjLvGYFHfU72+eGuC8w39Uc1x5sjhQAAAigcniv61nK4vZv1b/5\n",
       "oZaXB72Vo6n7C58NAK5XfmfSKkTa3gEMF4AAABOxAAAAVUGaJGxBP/61KoAMpmPgAFXXdXb+xPeq\n",
       "cg+5jfg3WVbJEFdsEYzqcMa6xBVmXz5TZfOBK17VzA71ybNDCh4APyhWqvzSuB04dTXN7UwSGIiG\n",
       "r8yvsEAAAAATQZ5CeIIfAAADAAAOJPhnfZlQLQAAABEBnmF0Q/8AAAMAAB8K+OKrgAAAABEBnmNq\n",
       "Q/8AAAMAAAuiPvOHgQAAACNBmmhJqEFomUwIJ//+tSqAAAADAB3X8RoBCaFcP9FcV4g+kQAAABNB\n",
       "noZFESwQ/wAAAwAABT/n1gLBAAAAEQGepXRD/wAAAwAAC6C38AWBAAAADwGep2pD/wAAAwAAAwAl\n",
       "4AAAABtBmqxJqEFsmUwIJ//+tSqAAAADAAsoC+G5pGAAAAARQZ7KRRUsEP8AAAMAAAMAEPEAAAAP\n",
       "AZ7pdEP/AAADAAADACXgAAAADwGe62pD/wAAAwAAAwAl4AAAACFBmvBJqEFsmUwIJf/+tSqAAAAD\n",
       "AAsu3q2fixaAVs/DD4EAAAARQZ8ORRUsEP8AAAMAAAMAEPEAAAAPAZ8tdEP/AAADAAADACXhAAAA\n",
       "DwGfL2pD/wAAAwAAAwAl4AAAABhBmzNJqEFsmUwIf//+qZYAAAMAAAMAasAAAAARQZ9RRRUsEP8A\n",
       "AAMAAAMAEPEAAAAPAZ9yakP/AAADAAADACXgAAAEF21vb3YAAABsbXZoZAAAAAAAAAAAAAAAAAAA\n",
       "A+gAAA+gAAEAAAEAAAAAAAAAAAAAAAABAAAAAAAAAAAAAAAAAAAAAQAAAAAAAAAAAAAAAAAAQAAA\n",
       "AAAAAAAAAAAAAAAAAAAAAAAAAAAAAAAAAAAAAAIAAANBdHJhawAAAFx0a2hkAAAAAwAAAAAAAAAA\n",
       "AAAAAQAAAAAAAA+gAAAAAAAAAAAAAAAAAAAAAAABAAAAAAAAAAAAAAAAAAAAAQAAAAAAAAAAAAAA\n",
       "AAAAQAAAAAJYAAABkAAAAAAAJGVkdHMAAAAcZWxzdAAAAAAAAAABAAAPoAAAEAAAAQAAAAACuW1k\n",
       "aWEAAAAgbWRoZAAAAAAAAAAAAAAAAAAAKAAAAKAAVcQAAAAAAC1oZGxyAAAAAAAAAAB2aWRlAAAA\n",
       "AAAAAAAAAAAAVmlkZW9IYW5kbGVyAAAAAmRtaW5mAAAAFHZtaGQAAAABAAAAAAAAAAAAAAAkZGlu\n",
       "ZgAAABxkcmVmAAAAAAAAAAEAAAAMdXJsIAAAAAEAAAIkc3RibAAAALRzdHNkAAAAAAAAAAEAAACk\n",
       "YXZjMQAAAAAAAAABAAAAAAAAAAAAAAAAAAAAAAJYAZAASAAAAEgAAAAAAAAAAQAAAAAAAAAAAAAA\n",
       "AAAAAAAAAAAAAAAAAAAAAAAAAAAAABj//wAAADJhdmNDAWQAFv/hABlnZAAWrNlAmDPl4QAAAwAB\n",
       "AAADAAoPFi2WAQAGaOvjyyLAAAAAHHV1aWRraEDyXyRPxbo5pRvPAyPzAAAAAAAAABhzdHRzAAAA\n",
       "AAAAAAEAAAAUAAAIAAAAABRzdHNzAAAAAAAAAAEAAAABAAAAqGN0dHMAAAAAAAAAEwAAAAEAABAA\n",
       "AAAAAQAAKAAAAAABAAAQAAAAAAEAAAAAAAAAAQAACAAAAAABAAAoAAAAAAEAABAAAAAAAQAAAAAA\n",
       "AAABAAAIAAAAAAEAACgAAAAAAQAAEAAAAAABAAAAAAAAAAEAAAgAAAAAAQAAKAAAAAABAAAQAAAA\n",
       "AAEAAAAAAAAAAQAACAAAAAABAAAgAAAAAAIAAAgAAAAAHHN0c2MAAAAAAAAAAQAAAAEAAAAUAAAA\n",
       "AQAAAGRzdHN6AAAAAAAAAAAAAAAUAAASNAAAAFkAAAAXAAAAFQAAABUAAAAnAAAAFwAAABUAAAAT\n",
       "AAAAHwAAABUAAAATAAAAEwAAACUAAAAVAAAAEwAAABMAAAAcAAAAFQAAABMAAAAUc3RjbwAAAAAA\n",
       "AAABAAAALAAAAGJ1ZHRhAAAAWm1ldGEAAAAAAAAAIWhkbHIAAAAAAAAAAG1kaXJhcHBsAAAAAAAA\n",
       "AAAAAAAALWlsc3QAAAAlqXRvbwAAAB1kYXRhAAAAAQAAAABMYXZmNTcuNDEuMTAw\n",
       "\">\n",
       "  Your browser does not support the video tag.\n",
       "</video>"
      ],
      "text/plain": [
       "<matplotlib.animation.FuncAnimation at 0x7efc4a1c4ac8>"
      ]
     },
     "execution_count": 4,
     "metadata": {},
     "output_type": "execute_result"
    }
   ],
   "source": [
    "anim"
   ]
  },
  {
   "cell_type": "code",
   "execution_count": 5,
   "metadata": {
    "collapsed": false
   },
   "outputs": [
    {
     "name": "stdout",
     "output_type": "stream",
     "text": [
      "[[1 1 2 1 1 1 1 2 1 6]\n",
      " [1 5 1 1 1 1 2 1 1 2]\n",
      " [1 1 1 1 6 3 1 1 6 1]\n",
      " [3 3 5 1 1 2 1 2 5 1]\n",
      " [1 1 1 1 6 1 5 5 3 1]\n",
      " [1 6 6 5 5 1 1 1 3 6]\n",
      " [1 1 3 1 1 1 1 6 1 6]\n",
      " [5 1 1 2 1 6 1 1 1 3]\n",
      " [1 1 1 1 5 1 1 1 1 3]\n",
      " [1 2 1 2 1 3 6 1 1 2]]\n"
     ]
    }
   ],
   "source": [
    "print(city.array)"
   ]
  },
  {
   "cell_type": "code",
   "execution_count": 6,
   "metadata": {
    "collapsed": false
   },
   "outputs": [
    {
     "ename": "AttributeError",
     "evalue": "'collections.defaultdict' object has no attribute 'shape'",
     "output_type": "error",
     "traceback": [
      "\u001b[0;31m---------------------------------------------------------------------------\u001b[0m",
      "\u001b[0;31mAttributeError\u001b[0m                            Traceback (most recent call last)",
      "\u001b[0;32m<ipython-input-6-e264953bb50e>\u001b[0m in \u001b[0;36m<module>\u001b[0;34m()\u001b[0m\n\u001b[1;32m      2\u001b[0m \u001b[0mcity\u001b[0m\u001b[0;34m.\u001b[0m\u001b[0marray\u001b[0m \u001b[0;34m=\u001b[0m \u001b[0mcity\u001b[0m\u001b[0;34m.\u001b[0m\u001b[0moccupants\u001b[0m \u001b[0;31m# default array is landuse\u001b[0m\u001b[0;34m\u001b[0m\u001b[0m\n\u001b[1;32m      3\u001b[0m \u001b[0mviewer\u001b[0m \u001b[0;34m=\u001b[0m \u001b[0mPopulationViewer\u001b[0m\u001b[0;34m(\u001b[0m\u001b[0mcity\u001b[0m\u001b[0;34m)\u001b[0m\u001b[0;34m\u001b[0m\u001b[0m\n\u001b[0;32m----> 4\u001b[0;31m \u001b[0manim\u001b[0m \u001b[0;34m=\u001b[0m \u001b[0mviewer\u001b[0m\u001b[0;34m.\u001b[0m\u001b[0manimate\u001b[0m\u001b[0;34m(\u001b[0m\u001b[0;34m)\u001b[0m\u001b[0;34m\u001b[0m\u001b[0m\n\u001b[0m",
      "\u001b[0;32m/home/m/Gentrification/code/Cell2D.py\u001b[0m in \u001b[0;36manimate\u001b[0;34m(self, frames, interval, grid)\u001b[0m\n\u001b[1;32m    120\u001b[0m         \"\"\"\n\u001b[1;32m    121\u001b[0m         \u001b[0mfig\u001b[0m \u001b[0;34m=\u001b[0m \u001b[0mplt\u001b[0m\u001b[0;34m.\u001b[0m\u001b[0mfigure\u001b[0m\u001b[0;34m(\u001b[0m\u001b[0;34m)\u001b[0m\u001b[0;34m\u001b[0m\u001b[0m\n\u001b[0;32m--> 122\u001b[0;31m         \u001b[0mself\u001b[0m\u001b[0;34m.\u001b[0m\u001b[0mdraw\u001b[0m\u001b[0;34m(\u001b[0m\u001b[0mgrid\u001b[0m\u001b[0;34m)\u001b[0m\u001b[0;34m\u001b[0m\u001b[0m\n\u001b[0m\u001b[1;32m    123\u001b[0m         anim = animation.FuncAnimation(fig, self.animate_func,\n\u001b[1;32m    124\u001b[0m                                        \u001b[0minit_func\u001b[0m\u001b[0;34m=\u001b[0m\u001b[0mself\u001b[0m\u001b[0;34m.\u001b[0m\u001b[0minit_func\u001b[0m\u001b[0;34m,\u001b[0m\u001b[0;34m\u001b[0m\u001b[0m\n",
      "\u001b[0;32m/home/m/Gentrification/code/Cell2D.py\u001b[0m in \u001b[0;36mdraw\u001b[0;34m(self, grid)\u001b[0m\n\u001b[1;32m     77\u001b[0m         \u001b[0mgrid\u001b[0m\u001b[0;34m:\u001b[0m \u001b[0mboolean\u001b[0m\u001b[0;34m,\u001b[0m \u001b[0mwhether\u001b[0m \u001b[0mto\u001b[0m \u001b[0mdraw\u001b[0m \u001b[0mgrid\u001b[0m \u001b[0mlines\u001b[0m\u001b[0;34m\u001b[0m\u001b[0m\n\u001b[1;32m     78\u001b[0m         \"\"\"\n\u001b[0;32m---> 79\u001b[0;31m         \u001b[0mself\u001b[0m\u001b[0;34m.\u001b[0m\u001b[0mdraw_array\u001b[0m\u001b[0;34m(\u001b[0m\u001b[0mself\u001b[0m\u001b[0;34m.\u001b[0m\u001b[0mviewee\u001b[0m\u001b[0;34m.\u001b[0m\u001b[0marray\u001b[0m\u001b[0;34m)\u001b[0m\u001b[0;34m\u001b[0m\u001b[0m\n\u001b[0m\u001b[1;32m     80\u001b[0m         \u001b[0;32mif\u001b[0m \u001b[0mgrid\u001b[0m\u001b[0;34m:\u001b[0m\u001b[0;34m\u001b[0m\u001b[0m\n\u001b[1;32m     81\u001b[0m             \u001b[0mself\u001b[0m\u001b[0;34m.\u001b[0m\u001b[0mdraw_grid\u001b[0m\u001b[0;34m(\u001b[0m\u001b[0;34m)\u001b[0m\u001b[0;34m\u001b[0m\u001b[0m\n",
      "\u001b[0;32m/home/m/Gentrification/code/Cell2D.py\u001b[0m in \u001b[0;36mdraw_array\u001b[0;34m(self, array, cmap, **kwds)\u001b[0m\n\u001b[1;32m     90\u001b[0m         \u001b[0mcmap\u001b[0m \u001b[0;34m=\u001b[0m \u001b[0mself\u001b[0m\u001b[0;34m.\u001b[0m\u001b[0mcmap\u001b[0m \u001b[0;32mif\u001b[0m \u001b[0mcmap\u001b[0m \u001b[0;32mis\u001b[0m \u001b[0;32mNone\u001b[0m \u001b[0;32melse\u001b[0m \u001b[0mcmap\u001b[0m\u001b[0;34m\u001b[0m\u001b[0m\n\u001b[1;32m     91\u001b[0m \u001b[0;34m\u001b[0m\u001b[0m\n\u001b[0;32m---> 92\u001b[0;31m         \u001b[0mn\u001b[0m\u001b[0;34m,\u001b[0m \u001b[0mm\u001b[0m \u001b[0;34m=\u001b[0m \u001b[0ma\u001b[0m\u001b[0;34m.\u001b[0m\u001b[0mshape\u001b[0m\u001b[0;34m\u001b[0m\u001b[0m\n\u001b[0m\u001b[1;32m     93\u001b[0m         \u001b[0mplt\u001b[0m\u001b[0;34m.\u001b[0m\u001b[0maxis\u001b[0m\u001b[0;34m(\u001b[0m\u001b[0;34m[\u001b[0m\u001b[0;36m0\u001b[0m\u001b[0;34m,\u001b[0m \u001b[0mm\u001b[0m\u001b[0;34m,\u001b[0m \u001b[0;36m0\u001b[0m\u001b[0;34m,\u001b[0m \u001b[0mn\u001b[0m\u001b[0;34m]\u001b[0m\u001b[0;34m)\u001b[0m\u001b[0;34m\u001b[0m\u001b[0m\n\u001b[1;32m     94\u001b[0m         \u001b[0mplt\u001b[0m\u001b[0;34m.\u001b[0m\u001b[0mxticks\u001b[0m\u001b[0;34m(\u001b[0m\u001b[0;34m[\u001b[0m\u001b[0;34m]\u001b[0m\u001b[0;34m)\u001b[0m\u001b[0;34m\u001b[0m\u001b[0m\n",
      "\u001b[0;31mAttributeError\u001b[0m: 'collections.defaultdict' object has no attribute 'shape'"
     ]
    }
   ],
   "source": [
    "city = TransformingCity(10)\n",
    "city.array = city.occupants # default array is landuse\n",
    "viewer = PopulationViewer(city)\n",
    "anim = viewer.animate()"
   ]
  },
  {
   "cell_type": "code",
   "execution_count": null,
   "metadata": {
    "collapsed": true
   },
   "outputs": [],
   "source": []
  }
 ],
 "metadata": {
  "anaconda-cloud": {},
  "kernelspec": {
   "display_name": "Python [conda root]",
   "language": "python",
   "name": "conda-root-py"
  },
  "language_info": {
   "codemirror_mode": {
    "name": "ipython",
    "version": 3
   },
   "file_extension": ".py",
   "mimetype": "text/x-python",
   "name": "python",
   "nbconvert_exporter": "python",
   "pygments_lexer": "ipython3",
   "version": "3.5.2"
  }
 },
 "nbformat": 4,
 "nbformat_minor": 0
}
