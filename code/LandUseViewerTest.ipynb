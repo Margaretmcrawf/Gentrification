{
 "cells": [
  {
   "cell_type": "code",
   "execution_count": 1,
   "metadata": {
    "collapsed": false
   },
   "outputs": [],
   "source": [
    "from TransformingCity import TransformingCity, LandUseViewer\n",
    "\n",
    "import numpy as np\n",
    "import matplotlib.pyplot as plt\n",
    "\n",
    "from matplotlib import rc\n",
    "rc('animation', html='html5')"
   ]
  },
  {
   "cell_type": "code",
   "execution_count": 2,
   "metadata": {
    "collapsed": false
   },
   "outputs": [],
   "source": [
    "city = TransformingCity(10)\n",
    "city.array = city.landuse # default array is landuse\n",
    "viewer = LandUseViewer(city)\n",
    "anim = viewer.animate()"
   ]
  },
  {
   "cell_type": "code",
   "execution_count": 3,
   "metadata": {
    "collapsed": false
   },
   "outputs": [
    {
     "data": {
      "text/html": [
       "<video width=\"800.0\" height=\"600.0\" controls autoplay loop>\n",
       "  <source type=\"video/mp4\" src=\"data:video/mp4;base64,AAAAHGZ0eXBNNFYgAAACAGlzb21pc28yYXZjMQAAAAhmcmVlAAASKW1kYXQAAAKtBgX//6ncRem9\n",
       "5tlIt5Ys2CDZI+7veDI2NCAtIGNvcmUgMTQ4IHIyNjQzIDVjNjU3MDQgLSBILjI2NC9NUEVHLTQg\n",
       "QVZDIGNvZGVjIC0gQ29weWxlZnQgMjAwMy0yMDE1IC0gaHR0cDovL3d3dy52aWRlb2xhbi5vcmcv\n",
       "eDI2NC5odG1sIC0gb3B0aW9uczogY2FiYWM9MSByZWY9MyBkZWJsb2NrPTE6MDowIGFuYWx5c2U9\n",
       "MHgzOjB4MTEzIG1lPWhleCBzdWJtZT03IHBzeT0xIHBzeV9yZD0xLjAwOjAuMDAgbWl4ZWRfcmVm\n",
       "PTEgbWVfcmFuZ2U9MTYgY2hyb21hX21lPTEgdHJlbGxpcz0xIDh4OGRjdD0xIGNxbT0wIGRlYWR6\n",
       "b25lPTIxLDExIGZhc3RfcHNraXA9MSBjaHJvbWFfcXBfb2Zmc2V0PS0yIHRocmVhZHM9NiBsb29r\n",
       "YWhlYWRfdGhyZWFkcz0xIHNsaWNlZF90aHJlYWRzPTAgbnI9MCBkZWNpbWF0ZT0xIGludGVybGFj\n",
       "ZWQ9MCBibHVyYXlfY29tcGF0PTAgY29uc3RyYWluZWRfaW50cmE9MCBiZnJhbWVzPTMgYl9weXJh\n",
       "bWlkPTIgYl9hZGFwdD0xIGJfYmlhcz0wIGRpcmVjdD0xIHdlaWdodGI9MSBvcGVuX2dvcD0wIHdl\n",
       "aWdodHA9MiBrZXlpbnQ9MjUwIGtleWludF9taW49NSBzY2VuZWN1dD00MCBpbnRyYV9yZWZyZXNo\n",
       "PTAgcmNfbG9va2FoZWFkPTQwIHJjPWNyZiBtYnRyZWU9MSBjcmY9MjMuMCBxY29tcD0wLjYwIHFw\n",
       "bWluPTAgcXBtYXg9NjkgcXBzdGVwPTQgaXBfcmF0aW89MS40MCBhcT0xOjEuMDAAgAAADTxliIQA\n",
       "FP/+98dPwKbo+WbLnUU9ITCK2PpIKL1Y7NAydQAAAwAAAwAAAwAAiYQ/tPWAG1jBaAAAAwAd0APa\n",
       "Jz/mRk2BgCdT0kv5MuztP8Abn8MU3Tk02j/gftocPudgofvw6Ss/2TJQd9aB76pf3PtUK9foZ1JA\n",
       "honHx0KytOLC3m8yixnmoYMIEVIbrYXM7GUcHpqn5pA1AWo5jKOsuCLQOXk7Y0jpj4AFeqa1xwFf\n",
       "1bCdT8zdLqT2B3rILvcADmcw32MNxy1OpLmINob6+NUNR40l47jR8s/l87YKJDR1bNpzyacpb2BG\n",
       "myRPnt23f6AnwRK61XAhg0VBpnX7CeWe7/tjw7CJERa759YsFtrjk0CxHquO0eKLLiIlHwZZnpP6\n",
       "7gq8HWwRYorTNT2N1iTeU93FDXvl+r8N4Tv8Ru2xszT5cQ8d8N9scpQNEj1nm22MVJKgP+g0LjRz\n",
       "d0/0NAV6k8t+NGwugD456ZvTpGMvbbShdxQmM0+s4y9kP/VPwCoJFSsSIFa6J7tzsYUkLq8wHqpv\n",
       "B27MRWHbvFibsESH1/JEam/cbZ5igxR9ErtTis5JqTm0fUDmi7a97dObrRSsUXeKXDcYQVGaFabe\n",
       "RBNIBT3Y6kzvyWxJMFPrxi5B7QqtocTOJvDTpwN8hV3MnoHUraEhLN6kurnNqsQoUPmDbMBVADew\n",
       "OTgg6e8501yX7pKsqWuxjqViAFMIZpMnMBW2e0xevFHlPl2EReSkAndbIskGdawKf+6eRLH0ziAE\n",
       "onr0zBQIRDigIgDWFGJCZq/rE7wT7g6dfNj6cEO+7n7/mxDYGJWCaLquLYmSu6M9nQZVXiCOq/IZ\n",
       "CFgLGZDW5KoH/qrI3//2zWRwTzHbwNK0dNpQ8eE/cYoEIWmG0MkxMyJZzAw7F3JAArjpeuULVGIl\n",
       "pSApYP0ONAssjihN/TFG3OIc/+oET1sF5lCd1VCOZvHAIFwLGWPQNFESkWCTIN7YnsTruUXHhWoi\n",
       "8e5ixGYQpxKJQ81/FD2tNZHx0dQusyzGaibBa0D9OCGin4bJzO6Ri7d4eZxsmKR7dQW98naSX1ir\n",
       "tXHP9I/iDZbgEViADBWWESZoHK4qCIl9rSb2N1XmEAYojxfZqZetHD+FNmWFmbvfo3rRMjmDoDli\n",
       "9A2FYQKAmkXZGsm5rYCMm6WXA2d/8fAA3x4vhqMmRLxOwtls6JMILO1X8LJCxOPLJiPw8rY4p20+\n",
       "vagAtQF3cp9SpzEkN1M3/pKnSgAQsDscucMAvDHwngsBFvtIY5izIxIIC/mdnJ7ZZepUQqOJasRt\n",
       "6gpWk49IPdCppiKJxRbJI7F9Zl3eICrjPYKgjwAtlHRjk5AeDvHTLO+fU4aWMIhUud5pSC7ZBf71\n",
       "AvW6QaBr8BApJS/vv9nGEaMvimr+6EKT/7UIWJCZpfR8CovpVYIQrUShDctHrROxISBG/isH+KTH\n",
       "poIpWd02AeE8408VwoAJLHAyCo/ycXvfHkMuAh3kuuuzncsRGk5bU9fP0rqv9eBGtcZW5WelQeC7\n",
       "YxDkCAlZ6mNPgMpDeofakfzu11Drl39OrbSUW/km3a4crops2G4PngJ5biIgOB2+JLhromg6YvUd\n",
       "JLV0ehuQ4agGf8YntngE+bwPF0UFqPSgYU/rNGKp53sWQAZqy1JXqFvMj+5Z7ws4CYYu/bTvUXqa\n",
       "zsaBjMSODxOcmvsBJ6AdcRtyAuozilxCEni3VnxC6gNdilAZCVI0Ma7DCJyCPWefZKuyrods8pVo\n",
       "ey8czIo3ENKqWO/a2SoRpPi0etKj+9QaqauvYRwYJaobABU9sTJOn5yzLkyLj2UOGf4yqX16vw1t\n",
       "wDnVvgfP4FMX5VWcppVeM1bY9TwAOzueriKz3JJzPPdN7pPm0xpDXzdLqGLRFdzucCMxymcW5JEl\n",
       "FfT/2UV1wtKSgqE27PxTaMJ1zBpze36D4x8K0siA3AnaXWDPFzcSvaQBeh4T65rfUyxk1L8u/AXg\n",
       "zzzYVTzNbx9q+IRhIVHip+1hClBNg/0mLbKjkg4Z3lVkfQPFTVzK7rght3vnsgK9RRz4OC/gAOye\n",
       "UgKnF+ifdYbAWtroaLq5+LNora/LrHlUcqi2zJCuel/5IpWOJkpFvithxps7LPgG+AL2bQyueJWz\n",
       "qx1DhwKHgpEu7meAckPSYP8fIi4Zh0ymD/ifX2f+eBU8xLIVPy46BL2ngV6YeRe0UgYPl8w3ua70\n",
       "7uFcZC/lJMXO4rl5fmrWEJcIoX7+1Efpoo2bk/dkCS2yFQPFsxU9wI21YwYvG9Zu8Og0zmT0HLLV\n",
       "/lGEENe986J3dIcA5c4Je5pqEhr3kQyqSUxdb7SB1qKGEyUMedNACzcuJX5cfxq4fYhxE2ot3oep\n",
       "Y1TNYNCxmZBgFpDNKpIdncOImx6houlJaBRB8/zq+WKXcUUEjEXdOsY023RkWUYS42zKYUAAAAMB\n",
       "uHTlF8mWIsIaa1KYAoXHh0dQ1k/xNyGhpdhz85NAAlzL1eMdgAXq3ylFEFPkHyuQD6Dd2M6v75dl\n",
       "t2xgGj56lsfjnY6aERj8SM6bEUz/nCKEm2Dg7DUKdEOa21cumGRA7ZAm2IX1d1NBq1WkggmtQMe7\n",
       "cWtnXJK6Zo8PrqwuKLyar3cqP0oEALwpvaWRX1Zw7XWRRAhaF0EyJWDwiXu5Ve4SIHhFyKZoBpPo\n",
       "uHDAOgiyGtkddX64GCxNE0Vl8lVg9ANOSeRQtFa4mGMNj/rGFIwk7xU94mM5EGQ03HA88eronPS+\n",
       "kKIliDGF4IzTxGEMTyuMsH2EyKGHW/c1Bka0FEAAjz4CgBzzCaoHQQ/otWMqRyC/3bPAZm2AoeGP\n",
       "+vlAUdmA9hGCct0ZuVJzIuOJiETtYk7o4mTrak1xXCRG7dKfeROl7CNo8CF5bmlTATWe9hO9/2fA\n",
       "m9h0sLb0qtuKLox/O2ES2om1vBrhis4lsiycIfFK6quMWV/xPcrgVwQawA2mxKU2JsfqomhgqMC6\n",
       "gbSaKQaFrX+BmLrnB1FVcAe1be2gNQ718ysAJbLvfPtcMAGE87lH4IrGp9wR5JOuR394H6/qfiDm\n",
       "ScSc1Anq899WJy4STUBk4XLUA4Ceo7XG2XO1J1ai2fYJfsfbYZnlJKpKWgHqn2pm0I4BORdldexC\n",
       "NlzlROFiHRI/JYpSBNgGdnIe0pu6n2h0W4AAAGJbt7JXEW7/QU73YHwYICYfuYamkMAiDTr7jBe0\n",
       "ArU+VBaea/BnplMAZ3oMxXibxevQ/Yek6t1ygvSmQ4GV+meJdQkc4IeLSBZL1dHEsug8vNqvIazE\n",
       "KCAODRZO0lWUkm04NSHoPbJSe/QsfAtRWXsl6eu3pxGpTLvVCv6RiGabJNi6rKxX547yQ+soPBG9\n",
       "Vbt46QHjM7qpq8MdvQbJEoS1GwLkErluYxOGTmXV+qvwlg3ORnBVU3hByLpoYpIaS+EFsNZ1aV9E\n",
       "kg/RrQYVUZ0XbLI5jUyjTzNxZIkqJkzyMQx6BbCmA/v+qmDN/45pw1kDx89ygoJ/mH93Nlc4ktq8\n",
       "sElF7DGxIphsl8MhakDgvT5Uicy5AH5lDOPpxbX1D4scf96fuH42GdgAAJPmcNRd+MCz+p1q9Gxh\n",
       "uETVjg0m48f9jDVMyVS3FbegNkgyOVkiahxIBtjRJQIQR/ohh54wARvLq9JH+hkUfG8C+1JyyMp4\n",
       "Vdr5GxCslMz/y+kMz7xE0bW5Ko5+Q6ZlfiZSQgzpQt+OOHTYKBcfBCmuEhVy6Dg+ye0oInz73Anr\n",
       "MsMVtxx0wRR+YGcc+HOZhSamSLJaVSaxKFnSulAIR6HcM5NMs7U4zDdmF1cKZUVO2E9vSHECp3zi\n",
       "Q6+O+W3mR0d27EviGoBr0zpS6u8zvQehv+sC5utohk/HfEDIPBXvssU+MavPPGUI5wT5Q5u/rAle\n",
       "qvl2t0qyBFKjzar3pEplwkfHcX5drmhd+H77pAPMzBp0v/Qa14DkoMqO2W0VoTbyMqK56Rn8cfUO\n",
       "0NgAAA1HwncCTjyjxeogLDnKtGUDYC1YixmwhSRS6vHX/oMxlgg+0C+2e92kCqYnruyWlUC6x1bf\n",
       "NYSh8lCeXJs+03XtImtBclkPmG/Bszc6Xz4aRydqBGeFQwZELwd81rz7tSElCRX+J/+O6vBrPw/7\n",
       "cumQt4Rly3st9rFgz2A2nysueXfEo2KNuFvgeV3Sp+8IUGq7hsyZPDhsOEiqaRYEtYbFVUT2PnWD\n",
       "9/38DDnJaq8uQMjyV/RZPpnJALYUbyYNZtx6gGbBy3jImYMfaAq/D+LFpSNWAi6//l0ne2tAhjMV\n",
       "JAAAh7W3NpDSttT9E8/WMYN/bYiRKg6Oh9N4U9EugzyUAthij4V49nEW0BWFrFHuX3NyvQxgskGP\n",
       "+1rNmQ05pOxeWXbSlr4wzwHUW18SUgefiGtag3LExMYIAiBpak9WM26qIjDMblWyOzF3kjdkcvxK\n",
       "07Ae9shfnbW47UH5CMbOlFL4A9JvT1FxE6JdBu2oO89JSObdzf9SnC94dlpsLUkk2phGSHbvAAIF\n",
       "FfUAAxSmIGhkQAyt4AAAAwAAAwH/AAAAN0GaJGxBP/61KoABXBx8AATiqlr+y62Qj8tmgCyibf7q\n",
       "qOZds/vLAANRhVnt+4fJgHpLeUgAEXAAAAAVQZ5CeIIfAAADAAADAAADAAADAAHdAAAAFQGeYXRD\n",
       "/wAAAwAAAwAAAwAAAwAEHAAAABUBnmNqQ/8AAAMAAAMAAAMAAAMABB0AAAAhQZpoSahBaJlMCCf/\n",
       "/rUqgAAAAwAAAwBnpulYmawAAAb1AAAAF0GehkURLBD/AAADAAADAAADAAADAAHdAAAAFQGepXRD\n",
       "/wAAAwAAAwAAAwAAAwAEHQAAABUBnqdqQ/8AAAMAAAMAAAMAAAMABBwAAAAkQZqsSahBbJlMCCf/\n",
       "/rUqgAAAAwAAAwBnto+AAU5dTAAAAwF3AAAAF0GeykUVLBD/AAADAAADAAADAAADAAHdAAAAFQGe\n",
       "6XRD/wAAAwAAAwAAAwAAAwAEHAAAABUBnutqQ/8AAAMAAAMAAAMAAAMABBwAAAAeQZrwSahBbJlM\n",
       "CCX//rUqgAAAAwAAAwAAAwAAAwGDAAAAF0GfDkUVLBD/AAADAAADAAADAAADAAHdAAAAFQGfLXRD\n",
       "/wAAAwAAAwAAAwAAAwAEHQAAABUBny9qQ/8AAAMAAAMAAAMAAAMABBwAAAAeQZszSahBbJlMCH//\n",
       "/qmWAAADAAADAAADAAADAAvIAAAAFUGfUkIf/wAAAwAAAwAAAwAAAwAEHQAAABUBn3FpEP8AAAMA\n",
       "AAMAAAMAAAMABBwAAAQgbW9vdgAAAGxtdmhkAAAAAAAAAAAAAAAAAAAD6AAAD6AAAQAAAQAAAAAA\n",
       "AAAAAAAAAAEAAAAAAAAAAAAAAAAAAAABAAAAAAAAAAAAAAAAAABAAAAAAAAAAAAAAAAAAAAAAAAA\n",
       "AAAAAAAAAAAAAAAAAgAAA0p0cmFrAAAAXHRraGQAAAADAAAAAAAAAAAAAAABAAAAAAAAD6AAAAAA\n",
       "AAAAAAAAAAAAAAAAAAEAAAAAAAAAAAAAAAAAAAABAAAAAAAAAAAAAAAAAABAAAAAAyAAAAJYAAAA\n",
       "AAAkZWR0cwAAABxlbHN0AAAAAAAAAAEAAA+gAAAQAAABAAAAAALCbWRpYQAAACBtZGhkAAAAAAAA\n",
       "AAAAAAAAAAAoAAAAoABVxAAAAAAALWhkbHIAAAAAAAAAAHZpZGUAAAAAAAAAAAAAAABWaWRlb0hh\n",
       "bmRsZXIAAAACbW1pbmYAAAAUdm1oZAAAAAEAAAAAAAAAAAAAACRkaW5mAAAAHGRyZWYAAAAAAAAA\n",
       "AQAAAAx1cmwgAAAAAQAAAi1zdGJsAAAAtXN0c2QAAAAAAAAAAQAAAKVhdmMxAAAAAAAAAAEAAAAA\n",
       "AAAAAAAAAAAAAAAAAyACWABIAAAASAAAAAAAAAABAAAAAAAAAAAAAAAAAAAAAAAAAAAAAAAAAAAA\n",
       "AAAAAAAAGP//AAAAM2F2Y0MBZAAf/+EAGmdkAB+s2UDIE35YQAAAAwBAAAADAoPGDGWAAQAGaOvj\n",
       "yyLAAAAAHHV1aWRraEDyXyRPxbo5pRvPAyPzAAAAAAAAABhzdHRzAAAAAAAAAAEAAAAUAAAIAAAA\n",
       "ABRzdHNzAAAAAAAAAAEAAAABAAAAsGN0dHMAAAAAAAAAFAAAAAEAABAAAAAAAQAAKAAAAAABAAAQ\n",
       "AAAAAAEAAAAAAAAAAQAACAAAAAABAAAoAAAAAAEAABAAAAAAAQAAAAAAAAABAAAIAAAAAAEAACgA\n",
       "AAAAAQAAEAAAAAABAAAAAAAAAAEAAAgAAAAAAQAAKAAAAAABAAAQAAAAAAEAAAAAAAAAAQAACAAA\n",
       "AAABAAAgAAAAAAEAABAAAAAAAQAAAAAAAAAcc3RzYwAAAAAAAAABAAAAAQAAABQAAAABAAAAZHN0\n",
       "c3oAAAAAAAAAAAAAABQAAA/xAAAAOwAAABkAAAAZAAAAGQAAACUAAAAbAAAAGQAAABkAAAAoAAAA\n",
       "GwAAABkAAAAZAAAAIgAAABsAAAAZAAAAGQAAACIAAAAZAAAAGQAAABRzdGNvAAAAAAAAAAEAAAAs\n",
       "AAAAYnVkdGEAAABabWV0YQAAAAAAAAAhaGRscgAAAAAAAAAAbWRpcmFwcGwAAAAAAAAAAAAAAAAt\n",
       "aWxzdAAAACWpdG9vAAAAHWRhdGEAAAABAAAAAExhdmY1Ny40MS4xMDA=\n",
       "\">\n",
       "  Your browser does not support the video tag.\n",
       "</video>"
      ],
      "text/plain": [
       "<matplotlib.animation.FuncAnimation at 0x7faef86467d0>"
      ]
     },
     "execution_count": 3,
     "metadata": {},
     "output_type": "execute_result"
    }
   ],
   "source": [
    "anim"
   ]
  },
  {
   "cell_type": "code",
   "execution_count": 4,
   "metadata": {
    "collapsed": false
   },
   "outputs": [
    {
     "name": "stdout",
     "output_type": "stream",
     "text": [
      "[[1 2 1 2 1 5 1 5 1 3]\n",
      " [1 6 1 1 6 1 6 1 1 1]\n",
      " [2 6 3 1 1 5 3 1 1 1]\n",
      " [1 1 1 5 5 2 2 2 6 5]\n",
      " [1 2 1 1 1 2 1 1 1 1]\n",
      " [5 1 1 1 1 1 1 3 2 1]\n",
      " [6 6 2 1 6 1 1 1 1 3]\n",
      " [1 1 3 2 2 2 2 5 1 5]\n",
      " [1 5 3 6 5 5 2 1 1 1]\n",
      " [1 1 1 1 1 1 1 1 3 3]]\n"
     ]
    }
   ],
   "source": [
    "print(city.array)"
   ]
  },
  {
   "cell_type": "code",
   "execution_count": null,
   "metadata": {
    "collapsed": true
   },
   "outputs": [],
   "source": []
  }
 ],
 "metadata": {
  "kernelspec": {
   "display_name": "Python 2",
   "language": "python",
   "name": "python2"
  },
  "language_info": {
   "codemirror_mode": {
    "name": "ipython",
    "version": 2
   },
   "file_extension": ".py",
   "mimetype": "text/x-python",
   "name": "python",
   "nbconvert_exporter": "python",
   "pygments_lexer": "ipython2",
   "version": "2.7.6"
  }
 },
 "nbformat": 4,
 "nbformat_minor": 0
}
