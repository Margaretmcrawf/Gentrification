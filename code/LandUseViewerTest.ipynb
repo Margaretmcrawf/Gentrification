{
 "cells": [
  {
   "cell_type": "code",
   "execution_count": null,
   "metadata": {
    "collapsed": false
   },
   "outputs": [],
   "source": [
    "from TransformingCity import TransformingCity, LandUseViewer, PopulationViewer\n",
    "\n",
    "import numpy as np\n",
    "import matplotlib.pyplot as plt\n",
    "import thinkplot\n",
    "\n",
    "%matplotlib inline\n",
    "from matplotlib import rc\n",
    "rc('animation', html='html5')"
   ]
  },
  {
   "cell_type": "code",
   "execution_count": null,
   "metadata": {
    "collapsed": true
   },
   "outputs": [],
   "source": []
  },
  {
   "cell_type": "code",
   "execution_count": null,
   "metadata": {
    "collapsed": false
   },
   "outputs": [],
   "source": [
    "city = TransformingCity(10)\n",
    "city.array = city.landuse # default array is landuse\n",
    "viewer = LandUseViewer(city)\n",
    "anim = viewer.animate()"
   ]
  },
  {
   "cell_type": "code",
   "execution_count": null,
   "metadata": {
    "collapsed": false
   },
   "outputs": [],
   "source": [
    "anim"
   ]
  },
  {
   "cell_type": "code",
   "execution_count": null,
   "metadata": {
    "collapsed": false
   },
   "outputs": [],
   "source": [
    "print(city.array)"
   ]
  },
  {
   "cell_type": "code",
   "execution_count": null,
   "metadata": {
    "collapsed": false
   },
   "outputs": [],
   "source": [
    "city = TransformingCity(10)\n",
    "city.step()\n",
    "city.array = city.pop_count # default array is landuse\n",
    "viewer = PopulationViewer(city)\n",
    "anim = viewer.animate()"
   ]
  },
  {
   "cell_type": "code",
   "execution_count": null,
   "metadata": {
    "collapsed": false,
    "scrolled": true
   },
   "outputs": [],
   "source": [
    "anim"
   ]
  },
  {
   "cell_type": "code",
   "execution_count": null,
   "metadata": {
    "collapsed": false
   },
   "outputs": [],
   "source": [
    "#The smaller the city, the more agents get displaced, because creative density is higher.\n",
    "#the whole time.\n",
    "city = TransformingCity(7)\n",
    "for i in range(50):\n",
    "    city.step()\n",
    "    \n",
    "plt.plot(city.displaced_history)\n",
    "plt.ylim([0, 1000])\n",
    "plt.show()"
   ]
  },
  {
   "cell_type": "code",
   "execution_count": null,
   "metadata": {
    "collapsed": false
   },
   "outputs": [],
   "source": [
    "#A smaller city with new agents moving in means that...\n",
    "#more agents get displaced, because creative density gets EVEN higher.\n",
    "city = TransformingCity(7)\n",
    "steps = 50\n",
    "n_to_add_per_step = 50\n",
    "for i in range(steps):\n",
    "    city.step()\n",
    "    city.add_agents(n_to_add_per_step)\n",
    "    \n",
    "plt.plot(city.displaced_history)\n",
    "plt.ylim([0, 1000 + steps*n_to_add_per_step])\n",
    "plt.show()"
   ]
  },
  {
   "cell_type": "code",
   "execution_count": null,
   "metadata": {
    "collapsed": true
   },
   "outputs": [],
   "source": [
    "#The smaller the city, the more agents get displaced, because creative density is higher.\n",
    "#the whole time.\n",
    "city = TransformingCity(7)\n",
    "sub_city = TransformingCity(7, p_subsidized = .1)\n",
    "\n",
    "\n",
    "for i in range(50):\n",
    "    city.step()\n",
    "    sub_city.step()\n",
    "    \n",
    "plt.plot(city.displaced_history, label='unsubsidized city')\n",
    "plt.plot(sub_city.displaced_history, label='subsidized city')\n",
    "plt.legend(loc='best')\n",
    "plt.ylim([0, 1000])\n",
    "plt.show()"
   ]
  }
 ],
 "metadata": {
  "anaconda-cloud": {},
  "kernelspec": {
   "display_name": "Python [conda root]",
   "language": "python",
   "name": "conda-root-py"
  },
  "language_info": {
   "codemirror_mode": {
    "name": "ipython",
    "version": 3
   },
   "file_extension": ".py",
   "mimetype": "text/x-python",
   "name": "python",
   "nbconvert_exporter": "python",
   "pygments_lexer": "ipython3",
   "version": "3.5.2"
  }
 },
 "nbformat": 4,
 "nbformat_minor": 0
}
