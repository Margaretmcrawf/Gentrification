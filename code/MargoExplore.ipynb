{
 "cells": [
  {
   "cell_type": "code",
   "execution_count": 1,
   "metadata": {
    "collapsed": false
   },
   "outputs": [],
   "source": [
    "from TransformingCity import TransformingCity, LandUseViewer, PopulationViewer, RentViewer\n",
    "\n",
    "import numpy as np\n",
    "import matplotlib.pyplot as plt\n",
    "import thinkplot\n",
    "import scipy\n",
    "\n",
    "%matplotlib inline\n",
    "from matplotlib import rc\n",
    "rc('animation', html='html5')"
   ]
  },
  {
   "cell_type": "code",
   "execution_count": null,
   "metadata": {
    "collapsed": true
   },
   "outputs": [],
   "source": []
  },
  {
   "cell_type": "code",
   "execution_count": 2,
   "metadata": {
    "collapsed": false,
    "scrolled": true
   },
   "outputs": [
    {
     "data": {
      "image/png": "[encoded data removed]",
      "text/plain": [
       "<matplotlib.figure.Figure at 0x7f112412f4a8>"
      ]
     },
     "metadata": {},
     "output_type": "display_data"
    }
   ],
   "source": [
    "city = TransformingCity(10, random_seed = 17)\n",
    "city.array = city.landuse # default array is landuse\n",
    "viewer = LandUseViewer(city)\n",
    "anim = viewer.animate()"
   ]
  },
  {
   "cell_type": "code",
   "execution_count": 4,
   "metadata": {
    "collapsed": false
   },
   "outputs": [],
   "source": [
    "# anim"
   ]
  },
  {
   "cell_type": "code",
   "execution_count": 5,
   "metadata": {
    "collapsed": false
   },
   "outputs": [
    {
     "name": "stdout",
     "output_type": "stream",
     "text": [
      "[[1 1 1 1 3 2 2 1 1 1]\n",
      " [6 1 5 5 1 2 1 1 1 1]\n",
      " [1 1 1 3 1 1 1 1 3 1]\n",
      " [1 5 1 1 1 1 2 1 1 5]\n",
      " [3 1 6 2 3 3 5 1 3 5]\n",
      " [5 1 1 1 1 1 1 6 1 1]\n",
      " [1 6 1 1 5 1 3 3 5 6]\n",
      " [1 1 1 3 1 2 5 2 3 1]\n",
      " [1 1 3 1 1 1 2 1 1 6]\n",
      " [1 1 6 5 1 1 5 3 3 5]]\n"
     ]
    }
   ],
   "source": [
    "print(city.array)"
   ]
  },
  {
   "cell_type": "code",
   "execution_count": 3,
   "metadata": {
    "collapsed": false
   },
   "outputs": [
    {
     "data": {
      "image/png": "[encoded data removed]",
      "text/plain": [
       "<matplotlib.figure.Figure at 0x7f10f54d5240>"
      ]
     },
     "metadata": {},
     "output_type": "display_data"
    }
   ],
   "source": [
    "#city = TransformingCity(10)\n",
    "city.step()\n",
    "city.array = city.pop_count # default array is landuse\n",
    "viewer = PopulationViewer(city)\n",
    "anim = viewer.animate()"
   ]
  },
  {
   "cell_type": "code",
   "execution_count": 7,
   "metadata": {
    "collapsed": false
   },
   "outputs": [
    {
     "name": "stdout",
     "output_type": "stream",
     "text": [
      "[[ 11.  18.   0.   0.   0.  30.   0.  16.  17.   0.]\n",
      " [ 16.  18.   0.   0.  22.  22.   0.  14.   0.   0.]\n",
      " [ 21.  19.  15.   0.   0.  18.  13.  19.  14.  17.]\n",
      " [  0.   0.   0.   0.   0.  17.   0.   0.   0.  20.]\n",
      " [  0.  19.  22.   0.  16.  22.  15.  21.   0.   0.]\n",
      " [ 17.  23.   0.  17.  22.   0.  19.   0.  24.  17.]\n",
      " [  0.   0.  14.  12.   0.   0.   0.  25.   0.  23.]\n",
      " [ 18.  20.   0.   0.  21.  30.   0.  19.   0.  21.]\n",
      " [  0.  18.  20.   0.   0.   0.  18.   0.  21.   0.]\n",
      " [  0.  21.   0.  19.  16.  17.  11.   0.  25.   0.]]\n"
     ]
    }
   ],
   "source": [
    "print(city.array)"
   ]
  },
  {
   "cell_type": "code",
   "execution_count": 8,
   "metadata": {
    "collapsed": false,
    "scrolled": true
   },
   "outputs": [
    {
     "data": {
      "text/html": [
       "<video width=\"600.0\" height=\"400.0\" controls autoplay loop>\n",
       "  <source type=\"video/mp4\" src=\"data:video/mp4;base64,AAAAHGZ0eXBNNFYgAAACAGlzb21pc28yYXZjMQAAAAhmcmVlAACKAG1kYXQAAAKsBgX//6jcRem9\n",
       "5tlIt5Ys2CDZI+7veDI2NCAtIGNvcmUgMTQ4IHIyNzYgM2Y1ZWQ1NiAtIEguMjY0L01QRUctNCBB\n",
       "VkMgY29kZWMgLSBDb3B5bGVmdCAyMDAzLTIwMTYgLSBodHRwOi8vd3d3LnZpZGVvbGFuLm9yZy94\n",
       "MjY0Lmh0bWwgLSBvcHRpb25zOiBjYWJhYz0xIHJlZj0zIGRlYmxvY2s9MTowOjAgYW5hbHlzZT0w\n",
       "eDM6MHgxMTMgbWU9aGV4IHN1Ym1lPTcgcHN5PTEgcHN5X3JkPTEuMDA6MC4wMCBtaXhlZF9yZWY9\n",
       "MSBtZV9yYW5nZT0xNiBjaHJvbWFfbWU9MSB0cmVsbGlzPTEgOHg4ZGN0PTEgY3FtPTAgZGVhZHpv\n",
       "bmU9MjEsMTEgZmFzdF9wc2tpcD0xIGNocm9tYV9xcF9vZmZzZXQ9LTIgdGhyZWFkcz02IGxvb2th\n",
       "aGVhZF90aHJlYWRzPTEgc2xpY2VkX3RocmVhZHM9MCBucj0wIGRlY2ltYXRlPTEgaW50ZXJsYWNl\n",
       "ZD0wIGJsdXJheV9jb21wYXQ9MCBjb25zdHJhaW5lZF9pbnRyYT0wIGJmcmFtZXM9MyBiX3B5cmFt\n",
       "aWQ9MiBiX2FkYXB0PTEgYl9iaWFzPTAgZGlyZWN0PTEgd2VpZ2h0Yj0xIG9wZW5fZ29wPTAgd2Vp\n",
       "Z2h0cD0yIGtleWludD0yNTAga2V5aW50X21pbj01IHNjZW5lY3V0PTQwIGludHJhX3JlZnJlc2g9\n",
       "MCByY19sb29rYWhlYWQ9NDAgcmM9Y3JmIG1idHJlZT0xIGNyZj0yMy4wIHFjb21wPTAuNjAgcXBt\n",
       "aW49MCBxcG1heD02OSBxcHN0ZXA9NCBpcF9yYXRpbz0xLjQwIGFxPTE6MS4wMACAAAAOdmWIhAAR\n",
       "//73iB8yy2n5OtdyEeetLq0fUO5GcV6kvf4gAAADAAADAAIceCvyHWMDfpugAAA1vMt7fNFb4AHJ\n",
       "vaOoe1M6/3tWCMqWh3ggKaYov5OSocNqtidWbjjiJQUEyVUS6cng+DP0POGKU15uQW+uw89xlQEU\n",
       "pcfq1tv7aJJ6q5BRuZqiBtLxtwobig0z0U6LqWjMQjKNTzaBqcFNnX6P8lSuPwB73jvqq+BxSZQG\n",
       "KKY25jwQZsYs7NbvoquKNGDYUSqtWpT8WdqEDwTK20PWi04qZ9d8Pg/Jg3oqG7si4XcRWJwHRVDH\n",
       "ouyd9+G6wkTCJm3EZSmGwWTuM58B9HE6m3ggRKelk5v/kVbLj+x+Wjz9SUeJ8GFZdPhowOlWxM8P\n",
       "bzZOF5lMwq6wACghj2pSDLvXghhdt+Q/grB2+ULpOTbbOsiJYkImR/Sc5qo3nh85WTxFKZM9yepW\n",
       "ahYJUl3ssBZM1tAVDXqNysw+x0BHL8O5HVFAJwDYiTuy7SyYDLKOgirhfy6qQsesi1xc+Wd0A2Oj\n",
       "ubA1Dxvd4w1Kzv3T6T8pOPiEBnrW8zOaFDu+XGy+CX3OCgPnezwBBLABjMLjxftWAkQgKX7YPDj5\n",
       "/cv2vstTDYXB5NY1tjl0jjAipmVQ9mKxwAofoDO73TMh/2gGLYlnZVBnomI4FUwZlTaXm7yvR6Dq\n",
       "9s+KiGzZouw8ZOLFE/J6Z4XR4nugj/mXW9ae1vq5K7ijUmRyERUt+fSxHzNjhTF+TzKp5IgV3NQR\n",
       "yGV0wMxj7e6GdK476BFnheygjSjIASM9KVD7PLt6IMfhrx4T0Ivbn7nx/l1KAXSTAsWRwvtgY84f\n",
       "FWWqMmW391/4/Il30M1pu46K7Z7BcMofqpx5DCaiqh2EVhe2Ee5A1ccWByRx5XOS4hW0VqN/GlqY\n",
       "62OE65WxKpboRD+mp6ED3x2j32UvHWB79DCMqZ9oJ0Py/wQz+hpYKmzhVXjIfA+N8ajydMZZp/xR\n",
       "5nJWhiDoy+kH5YirAhl6qndy4Rd+z+//q8cR/kNiwwvUMS+Dn2DfXMnaUMSXtRU67/qCfDeAzL5N\n",
       "Rcwaf5gHbUm6VIzBg2b+qFkwbteeAV2uOESwNiuqpxHF5yLzJEYvyAktN44tVNci6t/MjHSdbZjH\n",
       "tjLegq8+m6Ej08gqhEQocINW6tU/SCPPP7kMpIJj8z5GwYPddPYfHiHYXA8REAFWDWOHF2hLRg/w\n",
       "dBt+cu0i5ztfNeiHvIcI2bN5TJyTDrLherGRAWnkBeQiITyBP0TrQeAB+p+4RKWqlKgWT7OaLGr9\n",
       "MPSDabhfJUAZhevbZaADnRC1tEJQaiYnZRboALw82w7KnS9BSUGvJ76P2ZSc8z8BGfXDoqXWrQvx\n",
       "T/9yRJitaIg3qDU440tIouHK/QkkdPlSEBk3oaSJj7+Wjb2bmnlecaXnFPhfbKSdE+Aengg1m1h7\n",
       "T5+2IX4/6NBFeashKkb7N9JACjKXuiBGEK20Fv5QaocmD4HOlfuMy50DnmI+EAAbY/yQVG5+9z2w\n",
       "ZBjqfrm58rCsNKQrHnuungCuGKE9BCkqwFw4Wa2euTEGNmoIf7ZWLnWLIZa4aIqDU1L5+dM3upTa\n",
       "Lc5UUhBXKtNgveoV0P6pfF4ZJS1IeQwreSIu3DsiF6IAIgRd9cbTIhcuR89y1L7ddQ60EE0XtQfa\n",
       "n2bPlL2+ULs0p+azmJb18yA5H1pTUxUroMgtMJIMGV7iFwR69M9HEt91bLBvqRRkTU/yARLlS4FZ\n",
       "12ffb8+5Tv/rg4b+uIQmiNO6DQlrLhKKiN9cPmFMHdzTb4P2BSXFnibfm4capirJjhVr/Knebc90\n",
       "YdV72d9poKmjEbDzVfHXdCfjttojzTXHz79pYhGtsZTagCtiZv9lGYNnPCriMQ3liNhpDK7UoqyG\n",
       "xo+IdloqmGDkCbF8v6kcuJhhuJw4YFtk+kGFlXwJVEDHwpJ2NR/a2z4cHfci/r6IyySAv5UffFwM\n",
       "7VQHcMC73YkPJCw/abKVXeGBXQkV+qNztzBmjPKP+ZZTtt9kdva/fL8uAAADAnowoFJbdC7x4Xm6\n",
       "AYX0IGqtjlAsLnWeel5VyliSsam+U5OYM0sAAzIdwfjW/W/ydBOMGUsiUWzvSc320mVLoxP0/Z3P\n",
       "ytb1aDkfZlWC8CrmlaP/d85UwYkNFeUbVLNYpP8VfQQG58vv9d3sqIj+cpC/qYTYFwqz8YFr/Fqp\n",
       "v2PYTZUiMCjrW7lOAUJ/MrYhkEu+/brkNpTQ1cDoFC8ElbIPWdNeHiiP+d4/uaESxkvwcQHKDjPW\n",
       "2wh7NQI/DZ59Swhoe1V0OUVPbQ2eEerRw/gPeOfgi/RaEICQex9qjPLpbpOEbZnLgMUwziVmgYRP\n",
       "kqBDYxpJxnliO9S5m0kwbpfs/wfZuDR+Q9BcJBFVSF8M3GlvIdVwn+96EGq9qqhBOniSR0NEfuqi\n",
       "OREqFmUwlRsqRcaDbo1YJnjK3zGeT0CKa8NpNJw0R/nT3q9nW3VTB+AtdB6IM68TcEKJyiHB4mJi\n",
       "NlrhJcuJH//7KlIJuICrVyuf75mxhXoc4Qchl4z7kTk4L1FlN2WhbHs4QZDiHjYdwqNcy/Fs2LJb\n",
       "ZKw7+8bRqAAAAwBKJ8QvnJ6ED5svSmowbLzzXtIeWqRcbbzCP/FG+j0nVs/8/bpZfkqyQrpG7B/j\n",
       "KShAMNmBbtBCfl42tT8SMVYsoHxGGcgAAAMCzxrIbdVdn7oQiC9Hu2Mk9K7syfFs/fMHHOZN5C7B\n",
       "wO7ljvO2oc4WQwPMulDNX3+1envjm0iP+E1fPLtb8xDSji3ivQ8+CD4jKDqi9zfp0fiX/0FytNMQ\n",
       "fGNynSWOZ95NSL664V9SdL0eAzC6U28Kx+09NWGS67443QozvlO2rsLHRvhrklMiGYGksYnmDHFV\n",
       "mOh22L+5idfDaknBMIzGHtcSD7lL8gkmn7YHC5NyD4BGywWTspp3yYP8aQjKJ2e7FbK7++Jjf6Dc\n",
       "LaYzLRwbPeBmRxcIUENQ6iDgBXsoQNzm8GIB4CCTGApaPgOc9PrC0I+bdPRv4UyfXu7tN8JMPRpX\n",
       "3QYC6EIvWCBVl/R6OcdxROqfcZtatw27Il8E1UobE9PC0RtpgYz9yTvc0pmB4AijeNswfsuQixI4\n",
       "E4MmDZHXxA0+b/jZMLwmzFcnXwSvcVol75maiOGdQzesR7lXgtBOd5Lt+7WU9HGAAAGSB0N0RbOi\n",
       "t14pUHgr+LB6qhMHJ+n+02Eh4QutF8tvpMUdJBYiL/10VgDk64CrEjdCn9YzD69tRdzWiNMbQPLH\n",
       "f2AvEYrA4Sif8Np7okm3MlIrvhb2Qi3yMABjMZVij8DBtX43uOVXNQDseXLAqMsBzc1q5Zb79OqP\n",
       "pnF2GeNN/f6qh6Q57L/WxKrknkws2RniSiV50EpB7oEpzavOeR7GkKEGF1Vyj4mNM3YRsDXqrKEL\n",
       "rCFLWqcjbOKMRahzaeSZwZy8KSbUGM7VhTmtuheL2wFgOHJblWI9+sKwj4IeCP0PyIdNfUDUnUr0\n",
       "bHMSzxFpgvYxjVfuJByzsUvFuxC00rYY96EozyTa6FJKylE2QoSze2mcPPr571UBcDpVLQqPbzlb\n",
       "16POab2O4QL0kQK0lQtOTlpDdO0m4WdqPoNFLi57I1th697xYTnpyLXdvYq24IZTOTpwdpKAAA8G\n",
       "J7E8NceVDBpjLupxu3iegg7iMFNkl7CAKsGewG6K+H9z26VubX0EnuSPq6X+T+R86nOmYRQe94TY\n",
       "Qe+aFAXe9/kQjgCfNpRGoxIakWl033LOWA/rF1EYWgAJGzdNp3jdnhkFhUhzSEGxd4l6oTfIahG/\n",
       "GkTKp8Tai3qNaXyA3X3ML2VtCrLRJhGNX1gMqoZAdTWkfqXyrdM6uhfqeh1KCUt7rTN9xvx23uq4\n",
       "V6D8h0OsH/l5wEKXUQd1PSpvdLkRZUdzJH7/R6tU+jIpyWgkfrD8KfBdKy9l9P6eKbcqDTWqYPEV\n",
       "2nIlqM4xfELbQwJz23fBO/heNm81rOBOalGvYETElAtZ8M+aAovgNkI9Z+MPTZ3gy46AAvQAI2v9\n",
       "aKeqmDY3b9kdbu9HudaJjf123Q8CIZD9+ngZqw+BSXWUDkXp6GAlBwSnT8/K2zBd5/EAAAMAEF1d\n",
       "r/AGqqx7KebOn8IHj70b011MlZ/mdIlNWnsiR0XdAadVSCD0qtodunOLB8zTSJqTuWGUpATGB5wz\n",
       "lscxF/B3KpJ1M1c2FQJTK4q/77qbOhudFl0TkFSV8zvgEyO2Q0wNYnr0DkIf6bfkmYZE86DIt0+y\n",
       "jGo4W49UpLn+K78Ix/y7N3lDud3pEFQ8B0yxmhFAYgAABMuKew8Akr0K5IWQpPA9DVvOn101xWw6\n",
       "QmMfbZ87Qu/J8sDvUbQMeQgtoHqOeZ/wB0iDWYk2zYO4X3yGio7ASaZciFGoQGBYRlkeaYaoEfx7\n",
       "eTHTwknLnmV6pPyYRdBXXdrUbSLiwgnFJOSIJYZCKuZyJp/ExV7Vwf9npw3G6zgwLWU3VEJEpMQA\n",
       "yk10ty1ghBtsoZxyfErhBniQAAOrgtvbfso69iNJkF4Omb1vyVBOGCQJFq83gb7Q1f1aovEzpG34\n",
       "0GivLw0U2dZZtKfn+O+uJW/7LwNs7QjAWGCPzZzo6jdf5ankt6dks5jWzFug8ycmBwIQNp85dgZH\n",
       "u7EjGCxHM3yEqjKzwCnfmaHndCRZn1N3Eej4zvKhtzUfg+sF+NJzP2THe+HZCjT0p2KEDMiM+bT3\n",
       "T4WntKi6TyA/MrYjU7frYGCEWCmxR9rJvltftdOtqHOXvsbZrXz/lsHC6PrRKH3f+q45Mzm2KD9z\n",
       "JCcqwhn83UfG6rtg8KGxX0fZZw+83V0HY5DP41dyr/cLnYwVqiLSLDQL8lOSYtih+vaRyonaPbWN\n",
       "SmmPNQAAexWMiWKgydSknzULqG9FPUxb+fzS8wRZ8VEZrnOerJZ9387wAIA5TgABQwAACbRBmiFs\n",
       "QR/+tSqADeZAaABmiUUfehTzC7+r/TuqyG9alzKxfVAMt6aYyULyGI/4ahTQqpn0zU3QW8GZrB3H\n",
       "unPXB5Xtm58wczQjVNma/+dSCidjfeFe/d59snd36yM+Vku/YiJd6jWO9rv8P9mIW1392RKxcMb+\n",
       "VO4b+fKooZMzFmeuRitc/5PkoY6bBCqOZge0IX5Eu8ALvfoUsEmQcZgwwsnuLaJgbpgC8Ezb2Xae\n",
       "sHBiwhc/k9qwbSaTt9UiUBrcLnRAsqV/mBm/dOV+qDEHEs5v/cQGDq68iRkjeCIIk8sJPr9SGANe\n",
       "v9RjjGMwme+akEItT9qXrxmCh2BVDZD6aa/e5ZtNVPhtTmOLgdJNr+G8+bCJ0OMoiDZJDdfpmohx\n",
       "F20Bbpj8mfyAyaEzXaTFDH09dpGG5uRF+UqZxCMGhkKM5C+VXK5OQd2SrzJqnu0n8P620btCcTL1\n",
       "oxgoqjZct6wwuPlLESH9qFhCcS3lr4L1XD8aul+gg/23POo3UJ4cFPL22lbVp3+JylATm/niL97m\n",
       "diFfo1E85GbqulIkN+XifeoRTe787eR2XyJ9jUb9FkwkzwgWFTfj5HHPsCktxxY94StSunD4fZi1\n",
       "zUf16C8zsN+r6GS9J2sZz2uH3k1qrbw/VCdRA0is8xKy2jp13UTZ/hMyKruUKMY2ssz/B4oH7lzS\n",
       "3JzfYh8L5G3s2DsKF9shWp45gC08tfWRi9BzMYl9Cf4Og+f/9kXqUpp1yDvdK/yGvwrTWxXw2smf\n",
       "ueDGDRZHGuL7+IAQFTxcfl3wKYwT2//awBnkgLKD+ttE9EIww7VEkucYu3WPaIsOvAHIUMzNqJlX\n",
       "/UhE5a9Vle/iujEybx85sGfZbmh0cr3H36Q4ASYs6wQmcKxn15xfIf6ph2eOr6iEIk8i5M5vfhFX\n",
       "o5/mUX5NL/BxytzZU7V+AsIFytvlh2xu243EZZ1fS5PXN4AsUOlA1XOydNRi4umwDxT9+bePaKVG\n",
       "FCpTJuhYcE02exar6UScz7OM8oAvFWVbAsGPV8+Fy63qcUueOHWzvgP/+gOq3Axpjpthwpku0ftm\n",
       "g42H9h/uBB/qAGHmu2uGEYzVoBn4pfEBEQUxFSI5SsbltgFQNVPAu6cXqqIHaFDr6jgDV21WyT9Y\n",
       "tmSxFyRvt50SmsVfY5Aesdcds1NspHc0JPLrb4PWjrFpjiQW5eGs+zN8SwWSUiyyN/lRMlcaGvNN\n",
       "N5uz8c9zVAOyGwJYRYISs1ByaScMPjMhaxhv8Z4hrNojDOC3bKjQXseIY3Jgn12C+LFVOYCeuVl3\n",
       "6cg5NDGF917SHVwKUjtYsziZ9SO9/N8Tp3rPgBl4CZ4GLJO21fO6/6IZxbvZaJ9MfdcVLbR999Av\n",
       "JBiqyppbfo6w0tk0iHmc3kLx1DtzFydTLwiSF3MPYICmxfD023EQ/QdYbT2W8Vx7QeqVGptkakqK\n",
       "tpcaiIN1787lsyDSU8Z1nGcQ9Q3rQWPjjjve7+nMdjMEZC2Tbvrnfu8fbVT6FZ1n5Y2sYCgBD8EA\n",
       "FDUviUOHs4WUeXpN4sH/T3p5Zxs3TFgZF9Hf/M1Ir0iQJ5ZaqoNhRRJUQXQ4LlUOlL3UrnydkXri\n",
       "/elmuzC6VLVfTc0EYW6CzWlaRfFLSnKBe7aulOppncPA5gxfQ0aSNvmKES+OfdyLBmSdelHM9DVB\n",
       "vhVKAkrtJnk6DTfm+FW0iqf20mwNbIkuvivl4sAPGzFv2xWZtnCjDnZSDrGShn97/esWj/PQ/dUw\n",
       "qusNVC+Xx6tfPTKu8wNses0vuwWb43J4XDObtTRDy9i0pd30SjY0p3Xzsa98jWAuLtKF3n8RI088\n",
       "/sg2SPB98gcam+QJHj5IsV4ocNeh4JXhv9h3NclPuNlwjcCBGHJxUX7f9D0Q6USQjWn3o38NqYi9\n",
       "4LWa7eznMUW18WkU28Ai0mYIteDxtbWDLuM54NrYy7xzpYLAdQcnAXA2ivFALyFVKxDmHiRuBLGO\n",
       "F/3iqKCOcA/Cn77y+zDDs5b/ybZAb5pLSo9rDZVVp5xZ5DClvUA9BL0oimdA4sfJMzUyy7uGHZ4d\n",
       "cDZAaUC9XVJbZ2ED9SiGWKfQaRlUBT5OBX4WQuvR0rG1hckLy6WzVu7HcKWu47YVPXO9j4xNdOnl\n",
       "6sMmOxX3EaQktXst00TroBnmVL1I5nwhBbYIFOAAGdvWUmO5myWpj58LERZOyFL4G8HiCDVLpDzG\n",
       "OmRzxfzgZ1ZHGSlLUZodE8YfDr2vPKzGZAl9dLu6MxnCqvuphMslmu1YpD7HjlCmkWZi5D/YqjPk\n",
       "43iK4L98JCYyPlMO1/J/Ezc+cuIfMYU4a3fsUp92l8pjc/exNCFPkDwbjkeCT8bbfMHFJ19XH//S\n",
       "TCGhGpsPEleDp+Ga3O39DDUR7el7Qx8PopcDbAI7khsB6uyUhXd7+BvTxH8EQ/FI8acNOnz6Zn7i\n",
       "pXiXt060MK5lUdZ7xbR1XqU0OPMxmmSTs5u41TxNmMeksm+Tbu0bQve2mUhOKZFXHYSKb2t2pz9s\n",
       "Vyi9stl9EfJSBQ3Dg9XMINHekQ7wlczxqeKb+LNtR8C8Ue/I1/ByTnNJeuNLnSQP1b/Pwx5b8IET\n",
       "TzthxuS34W+oKrFlmswXWxq1U1Yk/r96a+3quomt1cHAmMzd+U4XVEgWV97CG0rSRMuT335tKGb5\n",
       "YldbqjMTAs29BXIoY2/UX4Oj33/JUCWn/0K/c6UlhzYJLkLKtgD5swdjtjet0jd5MsC2r/43x72L\n",
       "cub00uzlK8qIoJLTEyS65cylkkbYEZ7U8wdApuuNz2VSYLSFSS+V4g3Yzjn2dUL6tRZq3B1gUGJf\n",
       "OnW5AZaBLEINLSU4DQkHSdLhkjoN6N09g1AohqKb1nHJkP0f68q7g8tzoMbp8D1/WKAFYGHK/KIt\n",
       "XsCkupTeQMu6QK87asYBqQJrPwFV4gSHol/zWAD0t3O73BqhUuArBYbKEtJ6ha7l2+SSbF0IyuoN\n",
       "wwRKazq53M84PKN1CVuhGGttofzibsyFDvchb66l+2C1sK6Mxf3detq7WARXpMXIeuizREVxHxHr\n",
       "4gMuO4xO/zcJSqYXWI19xkOtl/0pOnX2N5fHHb4+KRbJgfGYPXgUzLbgIKV+zPZeCAzBbJth7GNr\n",
       "f/BNJesY62Q6xvJRLYpSi45DNTSNVuDibvzhUlTjNcV6ggZ4XK+lUi2mtyM3QzqoEU8QIE/MuAUw\n",
       "3qgm8cmNAd0dwJnyYrc4QbST96J1nLbVdRQG40HZLmpPcV1/Tc4bfQOYWxXjYRIs5ULltwx/JNwm\n",
       "9erf+v/q0kPGkYeSx+q3QtMFjsySt264IBbuFTAAAAk/QZpCPCGTKYQR//61KoAN5D5noiATEjQj\n",
       "mEVXX//saay1l/3nc4F7yYBSIAqhpFemN/pyTLN3kz9tclWB4kniw5gw2Oel2bR3yO4WXIfuC8Ej\n",
       "5MHMplUxSn7Fc0nDkFn+ZQpeyhut6Gq5JUG/Din/1sJryoenM2g52fTXEOSWnrmuLmV+YD5ITcai\n",
       "6vLgoUCykBZH50FdTJJSf5j+p9vSnDDhNcx7Nk2ECkkzBTZBve4vNqwFuFcRisyzVPNBG2OrzShk\n",
       "GqdIpCBJgLBdXgfRMeatf8/CjG1IZbkNBAVTRipu+dA/PxASN0Rasb+gVPwEtntFMr+k2YmyLVzv\n",
       "XHqDj6cq+poedfzj398cZOav4jAdB8hiwWm3BBSbVONodQ4c4a88IoC8Gt8M5kzvWFOB0QJStZso\n",
       "rKP53H6aF6RiOCgr7OKzeG6On24PGwnqsi0O+fbUidflFgcmYaWlrgbH+kr2TctGMLWxGV1iMvuy\n",
       "ToBl+iHN//k8PLj5DyFZ4fDAqCJ5glxlHjQiO5RY20U/HGxyb1WWMcW9DqSoWNcAEXiZjbYoRtxR\n",
       "B9wwXyxLWLx98q5XTYZVmwTvaUxUC/540EBK0CQKu4nH6HMx0hqoQsRCOgSa+Kpld9gyr3+yUvRH\n",
       "U64J/lFo7z38kOzwp6gJwgV6Yj7vwH3AYFsOIaPvKVmDA6vS29cmkaP1FxGiJ6Gm9EIMsWVEdwpG\n",
       "uaC108TrdPuGPy/JulYB7bNc9cjCBIg4bkSrdjRrHixEZr1xhqrXW6Awh53BUe9k5yrPoY1KykkV\n",
       "iNKZxZryTlMts+yx+nLb4CB8tPbPxfm84siEOITHCgHAUV3endsqU/6hfrU+lDsv04k0ZVPI5WuJ\n",
       "zrIadrVCy+fv+v3rzglFKejaLo85+wdHG+eqLvNqKMDEQKH3bLfuPl7GJza/AIzOUDenH/lZuzsM\n",
       "ZtEDRS8vY/6hpjEoTV+ezchBwuDvWSyiNmFYE30yESqttVIKvfWbsH0bGCQwSLDaE7Ah8/3RZVgA\n",
       "TIduSjFKkiDFCkPEq956r/+mBeIyaXsMbxcsF5/qFLVnIR8DFi91ldElfKras2OJqRVw8W/TQqP1\n",
       "RiDjxKLIuWKIh+0rZWCXsKN3+7CM92cuH164hYgjK+90NXxDse2ptH/Ge2sBdzUcdp3QXDQRndPe\n",
       "Miu/WfndiEmDxsxYqz1fiB7cWahfVJvfbCW5Ql0ILAgtCW8x4pv+PsVDI/soRZNfuO67uxdFF5rI\n",
       "iFaHIZIVcU+A0aoHjQeNhqsayE/Z2h5Ax2xN4cBIkCOeXnqW+EpLOMK/l8vC6ONn2qrJvQoVprKN\n",
       "ssYCxv0LgI43LEyP+r4J/egbotBuraqwA6qRC+IcJIudbhGPuWP1n7HQlG9nby9aY8YO27ovOr1g\n",
       "yN/rq33kHZVm1Zj2ejvWHr9Dkj+E0UhhFU4GBtjQ1i4oj1zYrCT7TdDCASP6nDhYzjd7QmlZ/vV2\n",
       "RrpyKjAgeaHMtJH1Vfcz35A0Dad4y4qJX3cFO00uRPRBYUv/TrQ3ySd2abtWLOfv0SXqUPPfoVat\n",
       "GZ4+lqShR6o2gJNH0RjPWYK0ZCiPSF3auaqSYbt3x5I/Ss4U5n1LphVXJaECZuusetjIjzGUu73b\n",
       "FFczeg9QVWgbWekte0SmUuc3KwsM+OVgbR4UYLgMpef4sEV4fMEFonUUfxmbQE5vYtJnigmTtvBG\n",
       "A2TAVAS5nBl6NJVVtb6wGn+WgudlUUdvVW1toCWUq7qgtB89Xsn30azD3X0YEmaqCI2H7emEf2Un\n",
       "DWJ9tYoVj/cbrnbQNfn+QdH2j71dcyx+jloomdVZuXEVflV8uUMnBJYqGvIAKxg2M+nb5XpvLWq3\n",
       "G/vZGBfNGhBHy4tJgBMuBh0ty/YFcG0uoTJd7e8+axOGM1XKT4hRiIkAs3H7xqdCRy7lG4Qu2Ful\n",
       "Q1/tDd/Fg6KqazSSmK2yN55Sa+UcO8sqY/c5WDgRduC8JEzwT4lwD9SmFAKeIuQl++/pG/xxPdo5\n",
       "jeV2O+RobQl9bBoKd9kXMFSyrZAGo2yKju8Gr+xBSoWeuGxtqSwSPxVRJWgmw3UxaCepD+X5D+QL\n",
       "UYnREFgcbJ13qchzhgjM1J3yaTv8m8B/gC6ebNPZKbvSoyBoVW1m5ys4eLpzmYBby7ZkclbZQpSY\n",
       "D02B6yJwoEWmhG0OIuXOfQFFVa2gaSJ2Z8Te/o/pvcUmTGOtUWqkdtNiL6miOsdKmXNiqpc/aD8/\n",
       "g0tJqeUmTUJDiN4LVvYe66gninJPCq/PTWr5W8ofdRElyMsaBo+Inel81kGzYAMsJhjGBxOGUvBR\n",
       "j6NJoO+6pwcX+HAbcUMZMHWKOaP2PByd2N4Lebai2ZoHv951wYoub3LbIaBqxlr6B8slfPNVxW1e\n",
       "8Fq4LC+mbf8pcw4zTR+UQEUfRJVyypFFYnKJivWlvFtzW4qQpv4RMr5daeHV80eJjYADoDXw09nG\n",
       "HtXjf2uAhdd/yB/qRMLvycS8r5MJsZW8wnE6y+ayqgHfmQxUNCHCWaMAbqTmmBi75OHD0BHQVkiS\n",
       "erVCupdVkWRNfrlumeSzUWAWO9qQWSKNFYSf4su9zkcumlEDkH/ut9v4TzZhURvoyrytLTdAEtky\n",
       "TqgLI5cwSn87C3aui3ALOz+fJvApYJn8jHH9tWFPrJLTLBXv+laNn1P4fCKzUpxrAhLaYe13+f2F\n",
       "/eLzMfa5stLgDo+t1/TzbrUsKyBx4pR7GCSvufrU6i9DdVd70zu0KDE/CUDQjhR2KjNoZGTferOh\n",
       "4+KrvPx/FFRLRf5Z6mq00ba1Dgsbw9KFZ8/J30vCceKrpjo2TR7H6RZtHbc+zO/T8vHpYzX7A9zc\n",
       "VtfwtATet/OD9Q+cqb8+vS826mbgZzsxfT18vVIyDX1UJ6/HjjhidqJopIpfEOP/K2tWAmB3rjfl\n",
       "9T43w4zL9kssq9fJ/Ki5RmVMlBpcYlq2CAQp91sAVMeoQTsZSWW6caIUY3FFRNn4iLsh1BvtL0k1\n",
       "n/c1PtIFRkRjhNPtwO1lvpNQCeJlLXBuDCNh9xFPNSMKyCMwYF4AzJozpIJEJdRGNU0ktmSzCu8Z\n",
       "h63AZARVkhHUXflj3SmmYIUOrpcg9/X1yYv/kOUeOfbDTZwT+c3qNvVj2W9R9gDQQ+dANrG6et62\n",
       "IQEwqIJPAAAHm0GaY0nhDyZTAgj//rUqgA3mv0gBLnS7OF9pljMCn+5cAunS3su8DsHOF6ht+dCx\n",
       "0+yF9saigUydUqyY//IpObL5VT8cwuMIwfnCvAKapd60Mgws+R/+FS6gpeeCOr7vXh9+TONfynW4\n",
       "Qf8ZwfFQ7MQenSFltk9Q3g6UtMha3Dlv4Apy3G71Wixy6E9pbNypipoFXzkO68zhS18+ahgBwkwz\n",
       "TXHLtX5uYp05ASD4NlWM5j5UTrTrVektqlCK0eu0F/H0phujaA4kd9IaOcx7xIueykavPnjtjKTG\n",
       "PmdDkdp4nRiW3sDoCJ5BLaXgCzrJbl8hITl//5myOWA92vDjYfqLl2Z2ePwgx6mbiPVPmbAnQjqG\n",
       "ppiJQT36fPO2sENPMe8ov9dRjF0KUuT6bJbNxwdHyCeuNaaK6K7/dfwi2RRKv5EZ6idjWMgs0Zib\n",
       "VDAQElU3Z29ppSBJdZWRVU/GUTtKn2HAVO0IlhrJElp9tk9y57jcn6koavcpqAae/HZtWqW6tHcY\n",
       "qy1maZrhoS7xpcN1lRj2rF14EUzfaQ25t2KNp5CHS+M2sLiTrCvQXwY9ave92UDXYHM62PqLoCfI\n",
       "qnwza//EwPOFqsNSeYc1rwSn7iDmPibMya/xALd++R+wKV8pFKZWOa7jv24kw+G7bpmjzG1F33I3\n",
       "sMrAzqBwJxJosnXUbkIXXKg/vCvz3nLUjwBiTjfDFhqB+PKB+tOAsKIprqGLQ/iJNL932GdL58bu\n",
       "O1rLA3vMCTE9Z3WsU4a/lL7+Hi1i16bBrvpP8YaRYbva0MqlsJULe8AZzZo+JujRLdtvjEDVjMen\n",
       "ScKxz5GbIzY6FD6du3/TKEP5KezplKdZ/uvdrIlcA52G45ryVn3GO2b0xiMg37XUBc81EA5GIbKx\n",
       "B7fO98pMbigq7ptgSItE6EidgqYIRLzgRqKYIRqc9f37br/Os/m+RntDITqtwBVQqrRDS2q4eKVK\n",
       "5x6HBx9AVcS3dyNfsDlfhx7fSpLCEzm5vf8dIqZYGPpbicBUQuZhQrQBC+EIjBet3PHzeDsJtrcj\n",
       "IGjUKPn/f2CQkl+qtYZjb6NQiiFeyqAXbCZoqdlAYutXvCJ+9cvwzA5QACqwoYTLcHwGkKFRDgvy\n",
       "bHHDSFMq08aLpnjFqAX+r6as6N+ZkZgsj75VZQUvngQ4BlNwj4K0YVojckiWzFlIFeEBVAROrtBq\n",
       "zWMAG5MU+xrrmbw9b/o6g3RwGHxz3zaXtdYh1NiQ+CiaJjik8hJ7kpUwBbvnc0UAcnlJoEzukUCT\n",
       "gWBZtKDb0UKgBqhdAH6DnLAjQQ4VtbH/I8vBmwLsPV1LLG5CR1sh2Fx4+V+sDlF9A+Diu9Z7Vfdz\n",
       "2pVJ5MGOU/At+9OPNhBlJ9PjMkEtJuhW365IbwI5FwVS72vvjaI0G8u/nSlkCTpy3I00GLGBuUJm\n",
       "w5u0TUjzUkRzD7NHJp8baCJTMYkU4ZvRwZQNyPpbSeF+ozvNI+h38N7O5sI3trqAwAAAF0+gdkf9\n",
       "So83FFlJESbpdbIyouY25baw8XTO+FVx0XKchES9Mnr9gjKLJJERnAqy1y8cc8Vi0aBKNiLxc/Nm\n",
       "Mf4x1Jme+Aa50l8r9UmeOrTnoi5VoYv0EdhRSYAyX4mLG1fiupyRMAFOdwuWpY1KeUoFf39HpCvL\n",
       "ELatvRLZLkGytvdoQNuNh1pFnruYWsC+u058NcmGXx3CfoXn1nzC3nTzSSOu2asspzkJJHuEWrsb\n",
       "8IuQJuIw0/Q4jAF6Uxs1SM0XiyC4lmhG3nvTepxRrUR6Mp2AcoqKPA3+G5/y5jSXG/4LlVAC9pot\n",
       "0I6jVPRVUentFybPo70G7tZPIc1BizIJiKIDTFYlBlvllOZkRZXDfMNuMu6C3kA0D2bF5h+vjYnV\n",
       "kkpZ0ZUBSqWEYQ90jE0sIgHk/aTLXkwja94tEfDwbf9kw+KI8OtJQBwjTespHX0zdZLKtnkVvyV6\n",
       "f7JrOtxFi7nBmL7ZATrnY5RaLunK/l9UQfn/9olS50vfMT/YOMVjtkgjHmTyFMjoblPZv0aYy50f\n",
       "RfeeRT24+gbe+ZzOQ/Dt+24aOid7Y3/TP2ehaC+gTh3dlduEuA5r9Qrrx3N4avVdrqXO7j6+/fdZ\n",
       "gqpQt79G7jFZjoTHsTGwy16RjXT5/8EgDelR4/FlV6DZ4FPzM21h0bTQlgtmLTwzA88WXYrnWKFx\n",
       "/QCgswLUCPuRJ/e7ZSRviN63tF1uWZrcqj1ib944qOYAbR5jk/brjU9b3idWn0UMGtJ68Pw3wZ1o\n",
       "++x9LWFxYNXw1nKr410nv8hk0fp6CVw0GZHkBoLm6EiFdtMkgRh9J44CoFrdh12q1rLzisCV8LWh\n",
       "h5ZBRkkC323HVpk2Fga631QZgpcYrrcohRSdphg46jZuPPNxhXmvW9g0Ax9NsYpaFRm8T+LvtGjo\n",
       "loQ7ocljr4Mrm0jx6jL9jSVHfvbGWB3W3gXIWde//I0Jhclm9TbwrtGLxc2Etva8wbl4GpvvI8Jj\n",
       "lm9W+zfAYRAa2T2NVAJds+p60Pa8W25hYUwFXbbBdzqJNasQ3ox7h6dShiAFb0v7CIh4rn8/tMc4\n",
       "T7VNaNcFB9OQrU/EtzU+A84MqAAAB89BmoRJ4Q8mUwII//61KoAK4K5LADgyNzK5IGb5meo0dDan\n",
       "m378djOvnusVbSDEmpQBBng4W6RGOfLLUXLtYOp+KTccbWHWf34cE0DhauwVXIB2HqsBX/Df/euJ\n",
       "d/AyQbGQOiu90OqTRUP3b7JNWs2RGNeJ+tXm4j8thenknHUnNjxgKmdsUkdfGZMq/JGGI9DcBrF5\n",
       "gB1ZtaLcldAZCh9N2NuTpmCemgx1oBWtHCyFn8FB2xf+h/yx6Dnp+Y+8/2lWGY/YZC6ZkmxySuNV\n",
       "90PNfQ6xQqJqsDf586pcexAtKgJJVlKXBjWRymVnNGns1wBXYsW+8PAE/TgotWyEKevanxPpO/2w\n",
       "7iRNXJ9CIFZAccLzzZUsUlozIoP1Ms9gNAjchZri69qnzC1sqFl3nG6SsSCrWf55ucaASfQD33jl\n",
       "WhhWQfQcZcXEhYovzUBVZ0bbTHkPpMUBYTt/XZW2DyAExkEEWMm5HBqlkCGEaKB3sWXZheRYi6+O\n",
       "W991lMUTZNYXFYZdq6e52cglfGzB8Y5tNqg2JIUlneHjUNs7bRmYhIXFUxqDCQyXELz0Z7/PxIjH\n",
       "LgybtsTs4e+NY/G0ZyMK/TJ0ttF7llD7hxM2awy6zmiYNX4jPfPJS49GVl7Cr5jdp5/Buojt5w/C\n",
       "F5LtExtsMSpK7GflPPZE+vrmE6WyoZMuVBbIpMgOkf4w6rIhBmuDVrcw+S0mf+vA/P5K1tCuKe4O\n",
       "tTN3NEfmf4/6WivAM9sz+fUSTLJLnu6inUuZSbzujeD3AeuvKJOt0qM8itM+Z9Q1kk7ARLCCEr92\n",
       "XtdO9uQY3LR83v90uO9psggIDyiy11wnzW3UssHOBNrUK5JFMvJ121lb8A2yVFeOoTZFhOHhoi0a\n",
       "Es898+IcIzlXDmXOgqApwdB/uQ9KLdE2HAxY9OkyyljfE5KJKqR5eWf8Ct90KZE2QUXAHn3PhBqH\n",
       "i1V2HzuP+NzRLbdrnJ14f5Yh/vfFqnaEZTmH2YfuoRkfT7JUxgG+ldHppa2i2nXrDIijXV5E7MQ5\n",
       "L+Ded+BfIqITyyMdaZnqFmQ7CJo8Yokpy/v0FLFbNbpVXZXMSZjgAZqfVEK6w/2KCWHPh9Rr1/p4\n",
       "mOfqBYsf875aCbdtzmKSJYm7ptOti6HCul4Fi3thJpKCIBFhweca3E7vfahwRYGcAbcNSN+1M3wX\n",
       "zDPJw+yfITsLlKhrlHR9PusoYSxk8x7f6YW90f5R0R/gjCPwqAEKRoxEeKJH9Pb6Aly71kOuHK/l\n",
       "lI+quWktQbl9MsiwVv9mr2S4hSFAqI5YDRqXZr2eZ0AwPRm74kratfeuyXGX5PuqbdgdCxhTeVsQ\n",
       "jfbTBMsxLxxp5AbtTRLT9Bm9C450/w1iJ4BLNqJrpPXWGOi2M+3fo+d0CpI+D0RgyFhUpKFpTuuy\n",
       "j/yVhLWGBYviR34MW8ZlzFGZY381G+5GICAjTpVUmmC1FiYbNtmtXYfpp/pyMiBrbUxfUsC2xehz\n",
       "Ist1Xfln9T7HA5ChB0Wi2m7F1FnThQmMlYZGvVs344eAH8cx6unBSbuRrWYlACDYjdNbvQzYfYLd\n",
       "zJwos9lh38KwlpJ7vWbmT2WZm2s5UhqbJV4jN640yJcDszcNqAEDN8p4s+9LWAnHx8pWA/fy5ynF\n",
       "wE+oe1cNtpM3ZnxQNPRW3NLEps5TB/NWHUC/72jC1Y9kkK/Qtah7fIgHpuhlhWxr7FR7Vti6AygF\n",
       "DauVsZidlUR6Qgo+pPrAy/Xet7q3cSiqBe5grfAadHUCY/EjGpblGH5abdx3CcdbOHFs1YyV9lRF\n",
       "L+hfyc8L/MDpX3CgKO8f19uqA6aYrIOwz/5RzmfQsY0mpv8bcINiA+2cZRXoNFnaH8vJVsOwzm1R\n",
       "EmwYen7IOQHKWXe/y7DGvns9zRVvV3RFToyMoG1thIs4NKBDO4kYHn/HxIW1IqplogVUTZ5JuJ8j\n",
       "23IMUvFp8SHDwLRj/lgQCDjexKwUPC5g9ztUjPnySWpO5sGqmOcAHBf1obOV8VXjbFvn1MsNPbcm\n",
       "AeKDxb7KiSow1O8NQ1QjX+ekKjo5ZWosO3WkdN49ywEl4+Br+XyD4dwy/C2+b/QtVaa1/CLi/PFt\n",
       "hpIcD/ii2Hu/YH/ZZ2Jp3Ew9nAHcM4UnGRkoDOW0rOLihHlslKO34DgvDS5O8DgQH59zMhdZPKM+\n",
       "dLAA1XssHy/EaB09/GueZ988BhupTxUSJPx7mzYJwAAFRp1w+jr+8odcMHXIwyYGc9GCrIehk8d+\n",
       "OnZgRrEe9ym3PNX93/t8LVRaIwFJ3vIe9VNZw8zffskYXXwzoO6WgtIQ+ejaSyf3q8lxAMCyau1Q\n",
       "6ujYHnZPXfnhIQTb03BnpX9307gotDBH3IO5GsnAB8usv+c9OqCJwYh0RmnQYX4rIKkUOrcR1dRy\n",
       "1R98Q4DYvQsrC73BK6M7Z3zCKejpOso6quFTAAIy++vq42+bANtkRm24JD1XY4xtUAyGZ41CoQf+\n",
       "IDIN/IdevVYXMkaE2wmVfSwSvowZpQuNcGJpAH6ZFwGiu5Wk3jBserr8mzQmCIUAIbTFEbBvPGLB\n",
       "gF7otdKFwmUfl0kR3xaPu10Vt05NA5i+MU0HkK/SuMFjLFSDHufdJn6vfsm1FEgHJFmo17mpEI00\n",
       "mTCdYK/78kG0+WcVmAA+zRUE0JReTze49EoZAAAHTUGapUnhDyZTAgj//rUqgArfWEMAAtyO0tRy\n",
       "bALqfi5IYV9S09claYCU5gsi9C/YKNDUj6upBuFlBhcl+2qIqS/wR71IVS99F5606h0OVZYOLECe\n",
       "bXFaMnoe1Ij9mUwouVrodwbx6zwbCfPTmUgg3vwgy2IDdaOl7aqZRngKnybrWWxlYbFclC8i8BjS\n",
       "CayBKlwWgYVcm3OliXcQAhLooR3FJBp/dLd6Q1hBxW2ArgjxMjEtc1HZuApd+HOmH+tAEQdNPFnR\n",
       "WaZlUInLxvpEB64Hyd6cGLnoxGlFVTkd4quMpXjBCHSXc0YkCEXFN1QsjbSFZs3wBHqs5m57UKFj\n",
       "jY5ZVQ5P9jZ7mF3WwJJJHP+pNTVUmfOGJwsFJtkOgU3ooArNMnz2NRQSbs3YcT3KoE9a94wqKqZz\n",
       "wB30rTUtRLPWhVACMK84xsRP99BDZBfRinVsE57OsO/bs+kF26ejwWxIgMzH1/XiO/6dckXGyC/d\n",
       "TfQQohjMvahAxzvtVrMV0gRoXW13RtXivkwRmaFxWVJTEZkWVl2x1y9Z+is8I7rpdLIL+6GTNUKk\n",
       "E17F6iXezbK2kifnM0B49tVfnyI3+qFAuuLmwmKe69OYtZ90p6UW5XPB+qQ8p+RdXhr9VdXqYMUs\n",
       "XVsqxA6EM4QwxMqAHyDvOkk+gOWk0b5zQiCo1X4EI0AWAas1eGCp+HKmI4jXk69CuRYyEhinrtiU\n",
       "/Jdqx2r2xaLioIqAC3JwDHKErKgyMZ7pMtZy2hmW9PNFBGiyWf2V1WiFXrgOZHrBuKw9iX/tjnFe\n",
       "Tt7XYaEvDoq5GrWrSHrGNJDRYdwz41jfgYLGo/0DZr9AgBQQtaOFQGtS7fRe4R4ieD+JufT3kUFe\n",
       "67uuNDu+HL5HA6LYcjiIEAbFqVL5iokq9EM821FiCOmHXATLNcqqX4+Fvce8EuSt+1oBxCqtcv1N\n",
       "BuoqmN/nXbnVEbEd/t2GsEar+SoNGHGiv+v4RJdUgqKl9SXF8fkFNHHxHD60vUdc1pOi9pTU9EFl\n",
       "wjBqL7XMnXY1oE7zc4CueviLQdcmKDsRu8OqJrX/5oPOkkaOyiTCJsybpA9K6G3vQcBP9ES5B9Tz\n",
       "ZQx+aqLAjdLFttzaD5XmLjs+Bpw5r956NPlT2DnpcCyV3ayYXXJgqzHFs6ssvqa1WP74ckih4egW\n",
       "6WbWodNm85ildtWThaHl+Q2I1mSyLd0iOlWU9Dg9j4V7Cq7iL39OdVNPMcPhDn8n9pkSdWGE/FvJ\n",
       "Z7FPxHuwuVE215d9ZqQRV6ZtokACM5AjJzKpuC8mqYOHqzOs0jHv+Ree5qziPkwwa/F6JNRYeRnV\n",
       "f1DHbh1miHkVA2Dg9wHdcsCQm5tgKh8P7jekO3PUhUjPZQtZu2MDVt+xqJZNNs5QtdBq9Dw1RdbZ\n",
       "3oiUnWJ8Y9arAgbgok9E2n14cPD+30HJrkUWEcAtbnyRk4jWcTh2kmm56gkwR5QaY0km8LQDS3O4\n",
       "tOAUpJhXoPdfHy3BrxYHrkQ2+2ZwpGa/812cMRJJ5S8KLJodY/EP/+5ulJwWz1cf8Ld8Cvz2iUMg\n",
       "KFFINGtQuHEanFVS5+GDt8RF8PfnYgvKtUHjHpHBO8UFPs/qHlmlX2wYsza5FpKfUUPhdnjBJmOt\n",
       "ZLUekKdnvX0Sa5DtC9e2QGJETXrKrLp75+ns1ZrRKy1t4FniGUXZrdLJ1VP3ZvwDonirDgF7pWlI\n",
       "0RvTm43dWcPtrVF5NMKlidAhaDAN3/68db4RYPGxkhbdS/2LdVChCwTSfb9ChlU97hgQbjK9Zw7n\n",
       "FwB1wb6cLsvvDvwSW65Ns7rBgO9tbB4Z46XAmPFP0av7eLnk3vSHbra0kPDXAqh5HioyS7CU5RNh\n",
       "qe9E8btDhqfHnJMpVhUnoBrJxomOthzC7vbOL9o4sJoFekfkUAWtKCcnOxc7fYAz+1mDOB+SANGu\n",
       "SsVWyPzWxHY7Lvlq0+8gw7OB5I5vpN2DJ5o5/jfhhm5ZQ/xPflWc/vD52Pe5wKVbzFsO/tVLNvCA\n",
       "FGPUtsHVlyRvuC5EsgmxwJTqri2MSxr9In1dQJPhEwTjYOYw2epqdnTd64bfE+LBQrST5gWtXBMn\n",
       "HIwOn3tdnh27EUG4FipEk525ompjsd9dJuxdgE9jHgUfOVgLOhL6PxBRfL2fVaTa+erXrBImZsRJ\n",
       "ybSeJmKa+8myEekWWJxUbFTTWh9TVDwlqtTvX24R3nOHvdx/ic/55wKy1YDRldHF/PHJOmmCeGtd\n",
       "G3QrZ5QPEakVEGoAAHEr0lRjxGVtgBTnG5+XyBgIgjZDZxF7yvo2FVhrTbvXlCaMQZ1kUteb1YdE\n",
       "cNeEkYtzdOI5Jey3fLZ4aP+CELw36dpI+Vm/UTdoWp6VC7XUa0ipFJaf9NtoY0f0K7P6SrjfIEhv\n",
       "jIPZMCC6fzEKS4IsxEFAxbCE8sbcACEf08Jm/bBXTZKxqyULpieOkK4yvRnmgKG+ypaY+s7QKFne\n",
       "F3bSCuPf60jwj+qp09AfnTwz4QAACBJBmsZJ4Q8mUwII//61KoANVtwn4d42AAWnFRvF/UjUBncu\n",
       "obzhdsygDHcW0ddTnyXV8eZFPifQJm27bxiT2f0c/SZpH0tSW/XNYE1Q5BogQNmTl+8QFfTXgx0X\n",
       "lzSdjZCRs7h+fTvLMa9MxPq/iDV6p1uRNPHsBxNX7VFuiNsyYeNxqn4HLZxYeyWJGr2EVM2hYA3W\n",
       "BpYlslbm954qd23Pw2vgX2SuLytEi9zfZsoZ4vDaod8ViDR1K1KVb/2Y3hsGe31v7Fm96Mu8fdp4\n",
       "9lek3D8/x03TOD7+xtRD7pxaJvqL28UZZ1yzKzx0cVuhWnrNpqc2sQa4cTHYJwKEWI7rNnoceEjK\n",
       "bgNVKwas+jGBHErcxvCt9DmImfmycdKvqna7E77vSe0CTTt5BtW0bOO0ihCQjU6wgyD3m1Y8hW4q\n",
       "WacMKPzHPSXLSxEGcOYGiuoOoBzRn1917+E8GDisRHxU/+Ujej7HYZw032VUftE6S3gTjNDNpk1w\n",
       "TjcdyzX2cL6A63ObBr6zdtvFkw/rdLN10MXjKUwqqg2HIY6VW5mOVsadWUmcrKGfYuC+p7NTYX+Z\n",
       "vqAxAiG09ck5Ju14fEzCsWBC6pwFF9XCE7tn9YZjQR47JchioiTvi4R9dNP51uuC3OKwSMH5jCh2\n",
       "awIROV6t60oc3m/tH/SbCnqXYfR28kDXwqTkpCxS/wXewRGZgRmoc9dvPiH4b1Ud/43bfD2z6H8l\n",
       "a6lSKBS2NGhdZ4wuVWjVurz03yD076yyMbFFUYd20bLdEIt1itixSjU7Ozyb/WttfKkNBBQi/Fx/\n",
       "YjwoF9YhCarGnef/tbvRs55ayEAkSZMgrK3b6qKLbX/cACkhH2FoYWdrpm9dX9isUqlj91ZcGHFD\n",
       "zxzEccu4tPkpwdjSzwVuQ9ZXawLi2DYhWD+C8EiW0FaCRjokZtwn8fGvPaMPb97rGtAkdZ6aeyqC\n",
       "YFBZfsNce9uVxPe/lMy5Ul7cWsGhZpfQhcHfTtEmH2pLEQGJiqwufZtVDZkXjZGFiVZgD79hpUEu\n",
       "jKLqSmqx6YN2c/TjLtOAF91e4L3lOWtZO2T8gGKr9xdxZ9Pa8lD8tAu13Wv+V16ticp3dE3KO1tM\n",
       "4TRHfgS1i3MPrLHtfbdJKXGrVvNqwPd69TE+sT3JdTHTGUzL87jjk5KjgFAFzx2148gPrFG+3wHY\n",
       "fkiJS1r3rvGIvpLDFJj3oMw7YOxVmNzZQbHnha1lUYhNS5ei1ea/j9t2WRFlzOQkbNIM5q0p4QVX\n",
       "YYKUDjSfKItlWzruezkXFs9b0yZEslk2SVpM9WZAnymtnhREJYM13UflPFDSDdiSd6YgAmHnwcbl\n",
       "iWcAY9jeqevPoJdomj4pfmIBTQKsOZXLwhFMCUcOnMRnml9dTrkkqvgoCNlvJHjbasbFp7gh1+tB\n",
       "BLPhO6Z+V8VyfJ/qZNMTsNjNFOgHSTOJLVN790OpfDFmIhwix0Hs6sUpv2g9rh5/L0jxDP0ZGuud\n",
       "sIjc5j/3lGvKj+R6PCQpEWkOeU0Okpv42wG428JFcp/XOTkzwjlBrkhaRGegNSaAz0o66hyJezTt\n",
       "YB2bKHpXA88+Ktmw61WbIE8yRMuAvDryh3w/9aox5n+ZUcAnQsb/WP/jQ/Y+k+bXu/55kDOQSlRf\n",
       "zr5oiSQsIikfS+1M0cA1D4XA9wkVHiTg+cAqDZtKnD7npA91Sh7WIQSk5w471ECMwcjGM4GSS2i9\n",
       "SYx9HD5qr+dHYmwgk2Mzmh93yEU6GGGdoVs7Z1vuzvgwGEPq8oaSpkHFJK8pM/lLJTAfWXfdc+4v\n",
       "59Sq9zrsZazpgCkMCpCa/jMV2XlBmlI5l36pMmekhKL3hfoWNtr3SZ3or1rQOAnS8iNPEl2j0obK\n",
       "8DVO7b6f8qNXqC9RKtxVK6SnqwElSA4Uui4WrCSb+WZAksFTTywEo+HsioVem/3QvGQp61FC6DY8\n",
       "a4Jx/4H9pkEUjiXTfGbXNvHNrS5dnKWdf+MSX9sUmq+JSWpzWS9vVeD6s4ocGHJGWr2H64KW4d8K\n",
       "GnwQnYh2DKAoFKR4WZNcX+Ij8uo2aCvP8H90uvAEeOz33gJksCXbCoVUfD6dgXuBGdQVev28UZXV\n",
       "HuYasv7llGYcQFodZKOQjn7fdeOoQop1lD0CUnn/XCKcFxek6LoBhV+A9P0rW78vJsmBYBo1swDS\n",
       "OnBlM9/G13Q5/1EvkVe0IOtgMtmYGJaxUu0xJ2/8vJ5/mhLZKTd8wfQ4LUbzX3HbJ5cWjVHlg7YG\n",
       "GlDX4gsvWoBy3EBwPBWLqkqp+PLRvz71hKzz4ETGMLq8c2YxJR6LSNCNlx2gZrCzOZykBZmlFA/K\n",
       "ntOd1CmCq9qlCi1y/hWy5GWYyf2WkSeM/QpTWaipALe+vGImrkM85eCpTs46H/++YhUsUgibXlF0\n",
       "eD2KV38PAw1ACGXscrvHlt9IzIJLuewlxrxm0EnKTD79a8M9yWZ2cHlGjCNMQ7dT24S6yyJroAC3\n",
       "bpxxPCDV5oe3OPX+NgQDgBPDw8L/ozLFS9atfKdLxxBvN/CRVcStt/U7iRwtrAMZNXxzE5kTRUuF\n",
       "XFbfLXkAI9YSd09LMygVLOWb5oaRoQXq+Wt6CyIYRHlrNm+kRpnnlDHxuvALnuw+BnSZyQlmkXun\n",
       "SD7pAFKkgTQ8/5nqH0frztSBY8n0L++z5QvdsGpsoZ4XTgxRxFTGQJqjDUi4FSZmGDPMxM2LeFgr\n",
       "0QOKFXGNR8+WR78d5wpxmbOwNab9jrViC+Z3otjI+n1iKbRjFwAABaJBmudJ4Q8mUwII//61KoAJ\n",
       "zmS5eb5xAAhPaOowPw+Fpzbmhp9mgm1kXG3ePVTpDWPC1EUkQ6bjgLLNDdG/yxpsV73dJro6PmHv\n",
       "GmYrrezS/0g4/socU1OE0Qv8nTel1LelBjO9C5tw3EO9bB3dXj3jLqm1jUWDkhY+/J2/9SGvPLBA\n",
       "9hALvCf0FirKMqMsHzshfBmWsEeNfa4+Lp/aQF9Vrj/sKTZrS584dKBkokJWAvIf2/CLHYMcSKr4\n",
       "qhTUl1PSXxidfuRgVnZrsGMfv3LkPIwlUisgI4xCmGmRG0Yr+jQFGoVTlLrgVHDdsmq2yMs+f4PU\n",
       "cKhjuKx3jK/xDcBF7ZtWseicD4xdzX3weWEfSPD/sO4F5RnLJaIYRtwZwzbT0vZfogPptWwGDht7\n",
       "jWXHdtTBI0p/zFQTYq/+vluMULpHwXfAWV34qbyD2iCwSnslzaDCSfY3fDuwk8nzTt6HOgSnPM8r\n",
       "VwKHZc8u5RLku9JjEbuTjT5cGZwl+JreGYmdEA+tcGlTU9+Y2Mzbc/MQyw0IrRGzlNG2Cm3S3FLh\n",
       "Q9rDekoJ+bgQGDdptUFjhA8Z0qoZaqdNlwZdBHubsecusylgCOv+sx3JmxVr/zxEgO6RtkcQ3Ot4\n",
       "PoWRruKyop22c94b7uTv43QEJUBjrTYqo8r/nywOySqfZtLJKqBUXWmj7ubXtU4RtxUmI+nDCbX8\n",
       "ZBO4N3Q4iX/9rK35w/J/+4BkhL6FGMv3ALa9MGa6Q66exRZ2Ql/nq8BtfGOQwJm+IKTO1ZgGS5yL\n",
       "rRoHUDNIFw9zc1dWGkR4Qxj1IU3+qkpCh32Y4yGWY7wy2Ajs8FDdHpyYrklUuPEsq8hg5CLFSV05\n",
       "amtq77PfC2gWNR4RVdCHuHl7xla6SZ3LJu9AFIwr9DnN6wZr+Pd9VAZM/9XKfsVlvBZ84cDW12s6\n",
       "XiHa9W13DNOPCLkVPiptbDD8nXHdKLM8RPQtRIa/le4ai8K0AL6k4poGn3jLMF5zTibFnn9hgvtH\n",
       "1e2fWzIuq11P+mm7gtNvEipsNxbKUOIElhXjC45soeMrSN92D8T9Uwwqvj1G5CqArry3qylMB6zr\n",
       "zSN34/SaxDdQtuOBdOxLQI3wyz5LRuAMnlOalq/KkEQLvagtewCc6P2YQauIRAqYpYDiqQ0ayzfa\n",
       "4YFnw34Jp5PDQ4WG5Gw0Xx/uYFtguNE2nwZvAGpAUriP4Ce49XCWkHIQ1OQym3bSk8CGqgNh3DEe\n",
       "FlHbV8zmUoDz72LsOrIGK/CaZNGKmGTCRw360R0dwFWP4esWaKz2/q/Bg6doQh9+6Qc6gWXc17Mh\n",
       "zjJsPINM7TWjTwyq92h62aRM0w6SqbUp4twjpZ29KsgOPCDQb6D6TybT47sb41PyOfUA5OfqhXXp\n",
       "f6ksK1IjQj9XQy3kwLO032sqqJ6BHwPzVyBb0LLRP6IoMt1o4ud8cD9JKuBONgr2hyCeYmcyMBDd\n",
       "DtShiYMi2pH0HbnQ9YatvUIyLgwPhsr2ZF7wpv3fHAddNA4QI8xXC53tYlIOug+uwZLszOZiOk9Y\n",
       "ETHB0Kx4SrfyMm7TeZMpSTKYTW2oqXswtVY1tCDzBDts4qVAaIb7VITpm2i04VMhFmPnMfdX60cT\n",
       "sxt77g8RrljjybzOncUwwAeeqE0PaDAGSnD5WrHfXCHPNt9RKoG/JLuVB99l+zjSPa9Pb+HND8TA\n",
       "Psdf3gZh1A2nQ65xaapJz5ZEjgplM3QMp7+ddVUekCFDQZzApRhyB6ZZZ9P8JwmyjROQ7maPiL0p\n",
       "XAfqShIcXtJwm8NfnKxGfdQUkuQC3kOUlKyV9/Bb/9NC3j1F/VTWhRbL5euNjtS+Wk3WcDyo6S/8\n",
       "TclAfir992+BbhNTN4CqUi/TjHUHa7E6bJSCnyvQP36scbXY6ooV4+/ATiqdtAAGDH3wlS+bAXdQ\n",
       "QQAABnhBmwhJ4Q8mUwII//61KoANTGgjwADeb6Y+EOkGN3vKyP1SfGU3MEtc14UbybAF1WdRZgVp\n",
       "CV/Ct2bwQhJzI/v1VSTrKOYeabF+rARfqTplvzPdkA2jWfZRwHWHIuD0nTH/Dy07XamoINOANIZR\n",
       "SwCRrnJhEl9k/zRscAJG9BTKhbnec8mINe3aoyJEkxbBy4wU/M282zkF8Zo6hoM2fdhDzZhekW64\n",
       "hjUFdJ7uufbmOD9OWcJKMS2uvZ76Swf2/esg2yAvK20BWBkLgQ1C0d/9oTp0goxuWHckMGCEK1gd\n",
       "+GMEVIykKl2xNNHc8ySCkf4YmTGVCFeFdf4DHdiOzjZBg7Iy8aE2oYy1P8HBIvze249ek8ePXIfl\n",
       "SyC4pcjlZI6iwo6ikwsWG+PJvW2TgOOga0WcMB9XigYgJ4lDdfE0MKwjMf0fV5XxysvXxg9zfo/6\n",
       "vYYIzB8D1AueK/qdO5CYYcE25kugSU2dN+Bs5XtU6ca6qtYXJs9Ie1D6ylhb22wzmmglQRNxGPp5\n",
       "98m+qNUiddosF9+zDVS4GgBdTGpVSQ21vfKRzoM0TvvHx10OXYOYeWl7gnS0GgWUucKfoOzOSDrn\n",
       "a+LsSyknivdgtokjMNJwikP/Oh7oAbBbhbsn48YM1mMYOgS9P1cmnzTDLrkkKDlUUlVqCQJrH5KY\n",
       "cGhTS2fZHgTYavTn0+BxVJc+thdMzUalWLaQsbDfdNDF3ZVeWGGmuCuGUdCIlr/D331ODsRObXEN\n",
       "GXei4IJ69mn0eu2P2/agq3rAqKm/yeyePQ9eJ6mIaJ7QGWXcJI6F2jr7b+ODCrEnJM+dAY9Jk3jP\n",
       "2PEUeSu9FQlmFRbCuLVhRn1LTHptyFjKnjgeG7cGnBIDW/reBEbSlfCerf+OZOOaE+FBsa4W3Bug\n",
       "1axQCJHBYvpowab6/R2KCW/jUn7Qge0cHbdRgjofUynz9HQXq97UCI5UxC3WgiyVvwhn7qQKJs0y\n",
       "VTwBqoc97juBVefKlO6/GUXRpeKGP0Aw7LjvA8ISiun8bnHohzq7j8HPuUdz0fos5f0m5QOp6X6Y\n",
       "8WPVwhB/UY+vdfBswtDeeOFddTCmO0wygyTBHmLeEx47jGH2xuXiXScimgXh8LKmYrbSNe6vNmZ0\n",
       "JfvFhiapZy3lizPRT2Zd3Ig6TY5cmNVgLyy0zPn1gWXMaGDxZN7/lSoMPVqauuWWoITVJhhrgwbw\n",
       "d5yox0xlsYvO0bf1bYNOLgvsebG9WqSu67sWuW2eoGs2IfbaDBF1sQV9OpvM8SyqOWhAftvHYmA2\n",
       "CH0q+aJC9Mmbr8BtFjK0iqUVaR7V2Xqrx2iecc1qT5FhHojkwgHk71NycdudXmdnMZy+cWy3drp8\n",
       "i0Jq0MBDLvbVcdJs8GRAvHaKNIPjt0V+PNYuWKRvgz1c/0HsSy5L0P6ulEQXD51KTtkUFjFO9Cke\n",
       "uQ32UqVm9SYWznjh12Xh43layp4glvg92zWOyi0gA+kCSfiqU4B8Zby8RPkenvPhUXAXip1xKjr9\n",
       "6YwNT0B8JVF/Ojyzl5bqEXY3TX9l99NDyRz1tdbo83gwkQRnsVUJix42zNLh1IgAZpxZbtmzCOm1\n",
       "W1t6QhsHjxs0mmXGbUw+YRiVDUrXhjMQ8+pyPRU8YeRc4AGnLfDIxEGKGO6S+y0rxgrDWXEOMK7L\n",
       "z6Vxe8T+VlQD4ut8DvYm3uxgGfkmENy997LUbzkcOXPPFl3jsRBvfuOc923WqWyT6JiF6FfmzQav\n",
       "8RT3pe8sm8tXkB8mr7kcXAc8k908RoPRIjI2xL551bSEa+oBvYXEkhaVBMBh4xDplyc4r1SN1YII\n",
       "0x880z15batcrl83gJBzG4ifXmTVDXQERkDpD/WRra9CSCBxp3TkvKogMQp9ffqJ389dgLTF5mkI\n",
       "yMz7ux0ePs1Kxh4Tyv10+NSfqJWgtCLc7cUEXuIIsB0vpLvINstqe3CmzH6FG6N0TBhQa2juWfHU\n",
       "goZNvLZq+jB35zwiIPOI01+A4L4smL2caMPbdAMLBv5o3TCgnI5oJisK2pqrPS5XAZKItTgv/WIE\n",
       "vMRWrChO3mr0uqZMetkrS44wCIaqCR7U8jhmcjTJH92RNLQtix2/43kU14qn5zLWwCd7fVR3/p8V\n",
       "KyxIdv8Y8eFNzDPWJQshZUSxrC1NY/S1HiEhx5xm9R9dl2nYM7zR4cmE7AeOvifq0AAJWLgSvo+1\n",
       "6u3FnojSD0gAAAXeQZspSeEPJlMCCP/+tSqADUTVTiAFh9/g0hKL1hA3+Hq9ptZWdtbTvPiOx51N\n",
       "oWo0UstXbxtkjyIgOnCvR46lhmhHeVUkTN1HlvuXWOScKG5cwJhybwb+fILaA3rPe55VYVTFMVsS\n",
       "OzRuVEWWXY85gb57fBkxt6N5tYLvFM8YMK35PfgBsktWsei5nIX4cLeiNWj9tWzT+J9ya6eLkVWB\n",
       "ydRpRKQP4tG/yifPEVF9G00A4sj9X1dodvUr71ai2Gseo/Lz2gp8BwSaPa9oSKobRp0gNLU8MK8D\n",
       "vLLs2z1/dfeq0lfzkX7ux+izbxpnzYiXvM/v+0bSvERfb+6FI5GOVKc8l6z2ZnYs+E1wxh9EOPW/\n",
       "HteBqQc31R7JD1JXjYg74uIB+naqHWfa6+/vqHFwhVOkxG4lbP+HslrUfe5QpfKmAj6c7OGaSGAe\n",
       "/CaLRYPplI+N1R+vkSy7W5+oPIjrNo5iHYmmjBji+hUUga6OdctiWdrF89S5Z+UR/eOf9BU0Itw7\n",
       "+C5IoqOffBsQ5iohx0ZPg1JWSoKaMCgKsWLRTel28v9sOuwK16VSAOq8kdlg5mjJjQR3MYM0Kokf\n",
       "TtqmUBxY8nMr37mS66peDkar04PxFT8dbv3iK/xQjTeexxLDkWSWjg5KMuS6kg7YLQwMEcIJ18hA\n",
       "+nqE7FyuQ7DQc4odp0egbQI3jJwFh1AHU3mRTc+AH9a/JO9tbYvXNTpEE+xuftDnhr7vu8B49Orx\n",
       "y+kcp3TC8zRX0AAGtqnFzSbU6VqI0/Kzg5i0LDJmn+2Umzgc1AaGHLUa89Ci8kSGJ3mxVKPNiaj5\n",
       "7pIDONvF47LqPoBHPPyTw8B9w+QCuM3ovMLpcM/ccPcg5XUGiHTzYwPSwKiS1ZI+71Ry25cLYPvo\n",
       "YYfi9Dmf0Y7X2e/5ARYHuSv3TgQ+3ROP/ZD7OtqLvwlxikfqDlGzmLDf+hOScFHCHTSgKCaGAMG2\n",
       "3XKsA5WNR7dIgTKH2JIxsBkA8h26Sljm6H/gQMN3IZQd5KODqne7/nfEbrhiX3+zGxQdX7cdfqNy\n",
       "CNSrm3hdX/Xe+czkaMbWdYEA+qruL2tpB60TuVdLLhM8eA5nWBHYv6DNpOMYpwSfinCJlrz7TTOF\n",
       "kTuTmyS1wnFyyXVSQlx8VJ67ftA7Fpj4R4eGvYvjyi7ZThwI4qIf8Ib00eISx3lw1DdumkUMnNBH\n",
       "1oN9W+w2e/u5PUFTKZg49uGQYCHFkMv1hqjfzhwgRXsdiUAs/57EITn7F1bygQu20dtrlnAyUGjb\n",
       "FSTsI6pJVlHcIR2Hqwax2IqQ4mOzzuL/NaH5ii/qad66zs8HfcT+uoTUxfE1CMNkOPOxUYts/9tM\n",
       "ILvwljCuD8nTNOmnEBE0QHnxLIBH1Qg9Q0VSWpmX2kQKZQNz23Fj2+mBdisD0j2SPVDejzTgfOyJ\n",
       "KZCBA1dTdQlOCvHGuGkNBdSeJVxP6w9/W32rucvKHK+W3dW6rhXl9a2XRPYcrlzm/AZ/XvbLIdWN\n",
       "3C7gdxJ0lbVtplmoeLaYDYDSDHzQA1h2HcJ3670t1bPI9/EHPT4waHMdAABe4Tra37BxeyGVmvZo\n",
       "w0zaF2SUwgkFOs5NiJKAfgmaKp6H5P1YlSGpcZaVahEhwRLvWU+u3MUnUAl/GOpaCeGb0HCyxCdr\n",
       "+QNxT10Izgm70TA3oIplL7PapLbuWSkbuyzrTJ4BdhYno+aU5Rtasti6PR8fwd2o1DW+2o2Un3nI\n",
       "jQPDkdy5/bk6jw2aQscPVWNBm4a95hbe/L9q2keDuWd4DrNgp92OnecsBld1UdJLRgSRMu0jFUHG\n",
       "Pkx81kOIG/gXcZAP0Jp2wAllt4TYj+nEArWqKzGVkv4lVxfoWGt3VGjiNSZspKyH3F8hL7Nxg/jZ\n",
       "Z5pxvaQrePTfs3t1neG+aKzcWs0cm4MRKnO8K2zxfd4dg7V8lm0KHSRmUHLf+uALt8Th+fbdiqMC\n",
       "GmUwv+OxpOVB+lDehnckLxDa2ObrNbgj0zz6SBK9Y0YAAAZJQZtKSeEPJlMCCP/+tSqADUUk9r5H\n",
       "zgAFk6pK0vDgrukGmH0PUqwnhlgSSW65NGHijRZFElQWRKDQm/m1YU6Rg91PQ1T2mv/QeKiaFFH0\n",
       "JkvpfvR0HcgGnmvEtqfwbXcYQqxCzrQbEEC/4jJ3+xZ/oCfsln0/T4Oy39xa3rbo6AvtLQmuyN8o\n",
       "TO8zTPkKrQr6wSPRkhIfpZF6518m2K0eybDF9jDlEIlNVXklYPBcJQgL48ZOQhwXF1HWyInZg5PU\n",
       "EHxW/nGaQtHBvDPzcdW6MLH5n8ihnG/BCdmjjp6v3lBpXGyM+vDH1ooT+qvJKVje88xgRVRsYzn7\n",
       "bldmcmDs0ieYEWkQnTjH6geNegaEkWT/atiDKIvWjdnY769Ea9UdGZ7Rq8n0G4gJlol9X1GUh6H9\n",
       "c6SlQM08YStqIxFfJw0JyTktrRgvJJoTsV2Xe/HZeg8sVw3zvT+Aa4Up/9aQxearmpHzyENmzOys\n",
       "/ixWjU+0r3lA9PVVJM7YFGVZLgFVBZswsXuypG94YHsXER98JXsKqw8BrWiCdh4WFTgDOQ6I3S5/\n",
       "vTCJ+NChovaN/vPpeVEm1VNb3ufmEn2lQNkqcxAbmxoDhbF1+B2lZi3J+ICFIcW+uRC/Q0saM1tP\n",
       "ye3OUhcO/72LvP/EPgo8mNPZjfQeKi2leNtl0VbtAYM08xHKYiDLBbRFrOBrpy3EkrBXDDUl6Q4v\n",
       "jhacc+Q+ciw0HNcNxEiaFLuNJXITjCuPU/Dw5UlT0k2iUmoWpLvw2Tp1D5oUWVZJVRM/XV7IRDlF\n",
       "CYKm53GfS9HTxCkKtSUcAolEGv0ptUKW9ZTiy1updABRwROggdhXPuTV8yYF5mmf8Y8TtPiWxHL5\n",
       "abvax4i+HX5wiATaQDRRh/zwQSlaPX0wirleNvMQLhKIo1XZ2VKvQmAsn7i0Zz9Ruz4+vUgNACGx\n",
       "36qplmWTO5UtCxXBqlnZ++ejBfFoUxIIPCdNw/ZhKR/DkbjrcM+ETN1Rqs+9PTjSjMhd6V/YF0bT\n",
       "xVxwUkE6CJJw2vINGc2FIJw6mbKIBe7b7C9Kr4cqa7z3E1MZPePO9+eqgc/IYpqnEW7LHi1pcLVX\n",
       "x+rb+5M6kGj/5U/REPfjiN1itN9brTlb2HTte1kCl16cS21W8fbeWhCeiWfcbha010MNzsjN/W2D\n",
       "4P5kKCWJk34R+U85k64MROG6dS+Is+hvucHn5cL59JdH2KR4AEQirdMV5Vuf2LPNozbmHs2Y0Gv9\n",
       "AfgEXMdGocE5Xjb9J56sXqaZqIh+G01XgYLMkwT/jKgX1rwm0HRplswWXJzVE9VL1Rs8g5uMdx82\n",
       "0sH+jgVlsGYBkAW8pkS6SgHz0gkff0xse+OpL3/VH8B3n8dCCk+j0tDbi+FwaadYPv83aEFZOy95\n",
       "CjUcshdbW8QKwY7euyJ4hiDTYuvGA+6PWR8Oej7IFh4XEKEyjQfTQlE8ks760BUPUFG7W0yzJAl7\n",
       "ulh02ufB7+uM234h2a3DnndH+/FS5TDMlQdUvs5ccHT7ulRWks5ibe1H8bp5tkW8Tf3o/uxXLKWU\n",
       "XQaKVa1mOpMR35aDjk1jfGHvyzkYR7kDgoMGJxLhY022wyU1zmVfPOsnC1Y0urgucEiGmhVKt+2q\n",
       "rcQEMSvlYYEZK232BbzRgx7XJ62ayZpN4bu+znl9kAIUgtYljG2EpSglzjLTjv2Pueir/htvwO1M\n",
       "jeDXQTPwBtOVaQCah8VjplIacIctdt89PaGMIHYSHplsTEakBKyjubY3r2HoTN8K470VETfDsBcC\n",
       "4GhFkjnB8XKzJ0pdyL3pfvS8kYsf7SUaFZ9XlTyD4CZlqBJ2zX9nWo0YdNKDr8eXyB6a6SpbEaMI\n",
       "f5JpM0DOCB6S8fvLXGYWpnaJqc7dcnAURXMvLT3Rlhm4QzFPgjXdRSqFn6NbtbAHBeqi8aemBdRY\n",
       "w27JKKAReXHMY7XlwNEBdh2ddL4EMCb+w85VRaV2cXTEMtea60I9r4nTMgb+Nu5bxIJjyOiFNk+8\n",
       "A4DetDfZHn5INFfKKSJrS2XExbxshbivFqe5pC9XIYgIX+Mr3GetD1Z6J9EGTwepAoYG+LUqjs+S\n",
       "rOVYIcePdMSUe2SmADONq/wYOPSaoqiNSIZcX4CoQhPntsva9uFhtTke7c/oAjsDKwAABZRBm2tJ\n",
       "4Q8mUwII//61KoANVZprOMAAB0xOyAKDbNvUsVbpO1uhEMEqDr1VClv66RL7WnFfD1ZftGNjnESP\n",
       "IIc6YKKpf/DUlKdd7HpD+QsIaB2Yp9vku8+DdVLVWzPOL6CpBeRnaWhvd6Sig0eX1+G6gaSgevHq\n",
       "faEW1cGkHknwwVl6BzQ/Qf8lR6kX+pg5L/QT1QLmyu06aeimQ7MjWRKGmKcC7FkUdyKhrjCW65JQ\n",
       "G/ZWqrham0JlAuoFFf7IESBgZVF2swdvXKpU9tTdPQZQ1INcZr6nXQm2g1hZpi/Dpan8ixdzfytC\n",
       "SQhe7bKDyFHV+3A/UaXur+h7BGD+ZYNMdC2sEKrOJl+uL05ufycRGp/Trd3/UecOFxeApU0e81sR\n",
       "RDvaSxh+S6fWSqmrkzrTK7zqKcTGgk/CWUwZLPtiiWJc8MvDoJt72PA4SPnicThtIwjnXYE2Wg2p\n",
       "9H1TUQ6WTzinKZioGM7dJ3kGD0bCWmzZT+PsBddHFY/8vG/xrC3XficgdIpUb74jrqybdtxhBApZ\n",
       "xzuBIcXIV7h0YDueC60g/dfy7DZv26Yz1lEJJGIFw5lypoiHTz0ustBet8We7Q6QMdLJXHLquzJD\n",
       "Il9enDvqoyp7+ipN+5scTLYYilN6oABX2Lu08aXMaKBGpRl8mc4ITTQwgVWEZom4gZNVNnojO1Ba\n",
       "OR4+rY5IkgkFJ6/sEgr5LKIRk7h1YBcY+eU7Rri6Fp30QPPTYFz+PYwVdTcHXC1DMGecaYM5EqoG\n",
       "z1tXxdvY7cE+FM6SCKFdWBAkau9Ooounb9plghrgEWQeRpOp9OT1qL3TL75YU9jMOBLKgFcL94oV\n",
       "gaXdp6WZbGhDbceS1X/uaaG3MmOEVq/q1hespUn7CQvRWdW1LRmjERXvMjv9/R7rfzAwCAEHTEop\n",
       "oA7EeJ3pArRrRamff5DfnZDZDVJtU0uu++I84UEqfeMnJELjgvGvRt3S6apdssr6Pk8Rk3BZwZ17\n",
       "gxLh3ULXWnLKwq3CygIgIQBLiT9Giv9P3jCbVEsF5dArLT1etF3TaBNC/B/OC5H81SBvVHiiowYU\n",
       "Xzl53fCpsyR1fI/mFcVh1Bn/RxjjdW57YU6yaH2uvo30Sn9Hfu2MJxdPjKl7LsConNd3q7PvH/fO\n",
       "xKz8l21G33biCPWrAOlKes/k5KliIjO2qcfhUbSm1blAhMMGi3MX4WJhdAaUek5EqBI8bW68muCJ\n",
       "iWoeD++BWiN5lUHtf1zPq7OBo1dGY3V7lfKKokjD+56EUee7rvg8rc8Xf07xTtGRWH8EiWrWNd2l\n",
       "yd8WDokfh6IxTiU60VMKK/xcIqYrnrB4Sqn5yGNxF1WWM8Vj2XdQ1dAIV2jx+yhy28OZMqo75cGR\n",
       "gZyPzCWLve183VKAzrV9+wUnf8N3f2WBYA159+MYwvZMjFVpldQiRPGIoZoVHE+rvRRtebWGZfay\n",
       "Amcp+2iN1mgAB5QxC5BXVRWXKNVe0EV2qrWgDS6DO23J2e+FRxq1s1wRpB7CZGjZnUkqsHCg05Pd\n",
       "vFj3uYJg8cxn0BzkNVHHngwZ5ELRqe/ZTGA61dtg4TGMKDIQpkMoztmhQYiQRXjrOfiZ3qw2wTl1\n",
       "2aWGi2EMo3dzBrduLuHATFMRyy1r50QTZoeHpP2yVSPnB25eh0G18/PPiJR3GtF70TmgkzUNPZzX\n",
       "Hv8vc4VckfMLR2UZUOX/W2mbVcH/rv44JkJrVQonFBFtydEoG0ZD2/SraINs1OWuoPk8fshPOFfo\n",
       "1NyEcQiwHB080eDY4c5n8gjhI3HCTjLsB1BLTPDSVZMAM9ZTVvNCIkJ6DrnJXvCcL8Ux1jNl5M39\n",
       "1XejBjBEIksL/YBkNsCFBJdFtGiFVmLdVjdyIwG0WY5ACBrUGZaqzrdtW+oRzK7u05PPFtOw1IAA\n",
       "AAWuQZuMSeEPJlMCCP/+tSqADUxoI8AA14xow3b6C7dE3Vwwkpu4HgjSv96u1WG2zfiZg2bK+GI9\n",
       "ndQXI+38BWC4uvo9H17bDbZ1fwIl4DrFq2uWqoCChSQzuzLG41qILq7o25KY8BnNOvTrr19Sgp0N\n",
       "DStgslsuG9iKfEXs/TByJvUIT4UH8Vi+fwWwNXHk9sqWyPsyxc6B4jYXnGdX8ScrGGi/3NRv/8z3\n",
       "s0USSKey2AYQjn7bUPexWCBVmBfuckcNUTldiVk7GYLdET64v5OQIjUe7XJOQfEu/T+2ogAvSQIx\n",
       "hRbUgf3afYo4WL5wBP2+40AUrE7XhJdPwLB+imYKhTK74aVQTi6MLk0DYDaBZk9FF4jRkkPRJOWl\n",
       "rLKet/9nklcUM6G/ycElMkKAP1Dk5Khcy4Uo7RSLsWeZggwtgylzf+LbjykvYaySqleZ0HK+8aRl\n",
       "8WfcLcjsBnoIaDh0CjVCxbl3XZ+bp4brb+GSX6wCx4snYA76M19KaLXWIg8CNIG32ydvnpqy6Dhp\n",
       "20f7iKhnpmo2SgLpCkLvWhplXCBD31uKrr1lP+ollIX/xCsGMuuTj6k7YQqUOTgV6FYj2ve9RIhr\n",
       "TpV6yXn23tAkPtdKqQ5SFSfKQ8wEpLe1J3Ikb0sfx+tvVViJI3g2f7yJaHAsbymPkzX3wzQ8vqrL\n",
       "gcNmVdQ/IBRycIhedNvmlCoVdhxoE0HgrHHI1SZ76SmY/jtQgjZoMniGld5MUILwim2hYOE3j2C3\n",
       "9li5u1bzPCEt2knMc3CYoTtwMje/TswjO2VJkupbAYrI25zYiXbyXQ0J5wjF42dzd7cYzK4lr7yR\n",
       "wS/Nl8/Kw1rhr2qAvlGmEm2iFdxNpd0zdWEKaa82V+GtcOWGCG2k1Wh+rXbU/HTcBWpC+BiSJR/8\n",
       "7hJGr3pRzlpxbNX8dGphQcPhC5B8RPVk3ZldwbjodfcKjGnAIVNweza1Vc7v474WiSe3Z19lyJYJ\n",
       "liuDfJSc9NcapJ9qjcNm3Wj9gnzsiZkaCO1bqv2bfT35KPP6ObC28bLfl/nyvbEC3gMQ3gQafxJr\n",
       "cWeGgcu/OZfphTdbfvrslxmcY2QfP733UTMm6GThOTTHpBrJYIzIh4lIcsX5+9413pCJAdplIQrM\n",
       "X0rxdNKUb6aH1OiCJKZLnkxAWAGX+bU2foWFyxWzAZJOWxZoyoPX3u6h/51IiCB+8P7XNmQrXzJR\n",
       "jtHtbF45uKNFa9cWJk7OsNLE8TNJ6Y6Em8hhcQXmuti1HktX+fgC5SASG9eRxbfUDWy3L8JpfII0\n",
       "/l9373lhsyoO/aO/Kx2pYHxMoBuks38CQ27jzIFNon/Bm0o2H2QRMm1t0tAbxRuQ9RzgD5NqL8qL\n",
       "Jsj8x/pU126460586J+3qyJlKyVC2Gw3fYBpWAX51YIGvl7d5a2BFiX/sDRfWXx4gaC28SqjP1TF\n",
       "KAzDepSlohMdg8Yaj6t1yK7Yj5px3ly9Mn7tFAprRCMLEhGceX9zk/8SyKa/Te0nkBLMo/fE33/K\n",
       "Q6wHA+b/wlyfNzY3471VC1LxvZr87ck7pV7WrDadTrzGm8ZTZ9bxSJ3xtcuYIRoNywsh6tv0bIWI\n",
       "gebkfo8Evfs2NWDG5d0bmywKJTg0ar8CtV8JfcFe/QIzSBRI/HlGg2lTHQoG0pE/nXEmPuise3kY\n",
       "4CvJSTujJStExWkbCHL3NZfcB2mvOq5/suf/yOQcX1e0QZ7v42MAHeaUmdXSb0Ry1o95bs0ol+jt\n",
       "OFPz1C+XkJVP7sp3fwW+ZBtH4Fa88Ku5HlKW6fEOcRH4pWdvV7LF/akCRQooEHugW2Q9INBcZnf/\n",
       "zBr37Qa/+XVG5Qv9H+5cMQA+0x7RjmWdFXnMErn/nlykU4qvbc2roUcR5W7yjmHFmClq+6KNqJxJ\n",
       "PT3P4ChAX5MkXjYjZ/y0zuUtRS4BYQu7KG57ZWN0MWAAAAWGQZutSeEPJlMCCP/+tSqADUUk8flv\n",
       "o283BhgA5PqiZsXCii8+wAEhQ1jf/YCgqU6G8qOjGjlZbxhYoOg/KnL/I3viZc6GYealLqM2v4RQ\n",
       "bslEEGvH+Nhm6fugmAUp9T3Ygc7APxnLGM8p2F1IKfGZ9+qofexFikw0Z7j3xSu78KcJuoUYwPAF\n",
       "XO5xid6RWkTRS8wV7k4CHeGMKl+57ckRl5NkSIlxAGSiBtJ+Yj40KecDuOKhxlooUmwdZdJMe1MQ\n",
       "bfNsd/yRbGLBqJY0y5Ixx9mhjfoAFtwR0V2iJTPnM4XL6Gv0ddkxAeqapW1Oiat22RI3DdK3B28p\n",
       "yHicgGOTJKkePnlTLomvG/WmoELwiA2IZaAcv074XOesH172hFmZ2CiDqegejSqPLpRcfJWjkKfr\n",
       "t0qjY10zEuv7AspU65znSUMnvSxED4LszqHPqF+395nlx9p/BQIom9ILudU5ZOjCOXq4ko/EcbDG\n",
       "Pund0FkdB9vwPKgapKQwB2T3B/j8fR9Uhxv5jgcEmNIe8H2JSZ11LxZOyGotVbxs+2I3rYOrIL8V\n",
       "uO+n62ehG1HD3H0Egbzd4v4xNENpuTwloHFmYu0i/anwuxiPJ8ftJ1VJTZR/EVd24Ek4zesdUFv1\n",
       "HIYiDZ2k7MB5ZU5Oo3NtovHxOpiSrC6TCGDLIJOp0ct08eZ1cMgm539wsRnS76rIT4pp77mc9gu8\n",
       "Ah8WPW3gogkQRKz3wMB5oAHIisU13yR7NB2hCCBzFfFCIblr/ZlEieDfIcII2TXC0qqbENEhUhbI\n",
       "0acQK/ZmVzFDcleIniwTXEl7L2Vf5AGbOTLB1XPevZipdKC9GZAImYyQRS270NHHMulIAFT+nfr8\n",
       "icseXlCMjmcX6Qt90kxXnl/rz1qeydpkZrN3qtUAzr0VdFmcW+kvRhK0TtimZ0AN98nbbRVSWrK4\n",
       "lGNkr/QjtSCoQY9HqpMxzlW8SFYbYV6ry1mzWNKUrE7tcj2rAzl+svs5+9HoZVVbvh4MSDdhVV5o\n",
       "Zr+wS2tGHzsR6XfVcVkjTVXgBPFDGFp7EPHDjunSGY6L75My8xYxks7VoUZuJOvMzXd9diwYu+3b\n",
       "S/W2pAd9p1aqXde9nzqj44+5fEI44ajfPq52K3ov7bb4S5ENkupqxgfta26vW0A6TGFOI51IpzE7\n",
       "Zq8UZpiTQHafqD0o2oUYdiQzuRNkXocb5pknQGkpLKK3UIhVi5Ge3VmFCLJsUadZqCw5nOX+DARv\n",
       "r0tmFG7uuzYZUFHSPAP6+wIqj6WZkX1uW0f3Z0K7R867zX0yfRjtW3DJH/Dd+oQIzdEE1+6BoXbD\n",
       "JAK8gjebbfR1e9f16IcSUvPupEjMXz/4ILprJthf3bPShmio/BVHOZoZRST97cJ1zhSPbHc/qR4A\n",
       "0TmlFRTe53He0P2Uh3fX2Kp1cWhYmZ2OWXEOEGQklM/Ps25/CwXX5GWYCGC8hQMpv/fD/6mTUvH5\n",
       "BDpDkQfll0BsktIQ35KLgPoMsN7WODB88vMZaodHGubOBMn1YAYmbj+4SQ22el5Ll+Keb7WhW89l\n",
       "yrO870S3boocIf6pVkM+kLz6kROWFOvD68tapFIdEjoqXnWHSR7QNsq/kSIRVzKUGxtq8/nDct+o\n",
       "Zck+Ah9UCM4zjjJ+lz+VVprRTRGXJoya1EN+OV7Z2Z7E+oDMzu6gfdZpJqWHgXrfdzRyYfqp9BqJ\n",
       "qpVjMZT+tnjmtujenJQDlISEco7fi4zJoI9YmoMY66gJxq/q/f/ofHVtuIlCHaaq+CFU4mxwteeg\n",
       "u0pMVIwOMAQR7cmhkvt83I7+i/YBgG6POFNaEDji0rmA+lswbKzhDoIsL7j/DNJjz5hP4laZ00vj\n",
       "nKdTmu+rRFleLeFqKmersT6mMsqk3Usy4QAABSRBm85J4Q8mUwII//61KoANRsRagBIhHdsaQ3ZD\n",
       "iGof+hUdtrad58R2POptC1Gillq7eNskd6ndwfSjQNHTiHYM19Vy3WSj7bv86k6UytMa42OxH/P6\n",
       "jYt1VJOtJq0m0Jz3/mf2tf1g4No8NRaBpMTjc3YtqyPXU8fFoJ/DYXlrGHalhmAzlCHik2rgY7es\n",
       "iSStMMaq915h5e9+GRP4tQ30i8Eupa/rYn1I1rGh9wa1n6GVPHkKEnD9BK4P/U/xTzXWlfEBgMjM\n",
       "qNLIxER5NKo548kUad6o75nNHXp1khqt9fNpWexPaCTJnabLjQc6F22pvMkRbqYfUUTyMCAEdmUF\n",
       "Xf59gfpUpGAWI8Wf0mwBzjULWru5gz0qdatB273sc40XIJcwhnucYOVo8pud4OkMs9tpK9UO/dv8\n",
       "7/p1wwIwXtyR3qpAV7B7Re8w6+ZU8rdqi0iybndse6oWF6/JOT14ehQqxTAAO6Q5mNc3XjUikp/l\n",
       "6n4infBBzcU1w2UA0Pj+NlT21hTTXTWeNu0724dIafp1UPR9OGzXJLoSgtlVX1G7c/4AQ6VFv+MO\n",
       "MRBGN0nr/TwFeeIIG88i8btXvsPDxJI6IMbJ0WGU232d+eqpM4bf3NQ6T9aLaK5VDJHap649MRLb\n",
       "UiyOI7cnhhdKdwUnBt0Kn7Dmk8RIyn90WDAO02qaxTwysGYRJggFw0QT1QpJU7BWdvQK+yQi8zZP\n",
       "kFU1+qmdH3bGFu4W5rohK05Ib2BeUSSXmu5X1P2L7SJ+edmapxnW6KHhxrfpSL9QfIRfl2FpDbAI\n",
       "kpKdA1hznpX6VXjfXO8yd863JUU6xxyjjjCeta+ZgRYcqzmW8PGAGLY31Vd+X7FyKNcn+sAD6JMN\n",
       "DQN4YStAUFbbkufKdzrR/7KRRdsP8tkwKgvwNPQaC2ndYjm4owYx2FGGeAHThK4QZSpcfOxNXony\n",
       "b1f4mw2wAZ5El8X2bS02irAAh0eubZdkqWhtmAAOXpnpjQTsZroeXkUElPdcnv7h2MY5Fc231GLw\n",
       "G23IeI4A3Zwc72KWdvrDSwufPvN6vEE+oa1+g017nyyX1Ywz6kMiRnyqfRuUFguJaMuZZ5BpwR+x\n",
       "q/0Gj+L3fgzLCDmTD9S9Cv+w6BIrUyCVTJKuo3lVkMEKmXjrsxlS+pYTESEKpz+JB+56kC/aqwPe\n",
       "0/9cDw34QYVuFOS9ximvqqdYcwortVaHZnOWK4dBYNNAMmHI3Sx9hfi4wVTcGBTfFeDnqOtIzZ4V\n",
       "9ff5UTAwz+3uU1yE+rpliKngwPM8oBYzoIp5RD7ymLto8yIAllgGaIdm53LBrUgH9vcF4qUy3e4Z\n",
       "x9zruM831hSKeqDPZU8MEJ7COxK090/dvh5tImNB5IeDupX0iOY0TLwopz9yHZvUWmsZB7Zu9quq\n",
       "6bLFxR4KmUsr5xzzQrJb8WtQgAc0h7WCeEcFZ1bWT7Khn2OewTRBr2hJ4ZDMApxR/575pD0Y0AAs\n",
       "IdrOXt8ORX920JLLv3i/57fidE485PSja/xa8T7bnT2F3HIPD0yYx1tXY+UtkNuxJLZ4aHEZrGik\n",
       "nNSYh5S+VdD/vqGYGj6lIf5pLfFnBiknvOjUE2aAVG8F5/sXbUkFEVfK4PIdmHsagZOlL+IBhaz7\n",
       "FcJyRsXjVq2w5QS7BAEOsNW7v1EcP4nnb/+cuZ/tfvPtfHmfSmhweh1rTuHAYrOaZvbE/uYbqudO\n",
       "uARkIoOMq/WfnDGlBMOZqjhl+MDYP6KfXA346m+GbR939QAABSNBm+9J4Q8mUwII//61KoANRNVO\n",
       "IAWhcWnyArMKZWHqzttAEvAgkfdQ8q+RQqclhCVvJuuzIl9u+PXOW1Getql91FBaPTBULYwGgOda\n",
       "TehKJaGqe01+ivgbyooSs9h1KPOC4vKBmmhfsgWIGHa0+69isPoBpLZRn9FIlpYVExzeXA80XVnF\n",
       "f/Rn/nGVFDB6kbpwzMmJOzrA0aj5uX/Bmutd0fz7boY3rHUzM6SlZdIG893V3Zc2svG7dO4TPVoV\n",
       "tCwNC3XVSSdHarBE7XJjt8S/V/Jzhu1dgcdCMtK+hoope71RMuUyQTBu/BgPmOokNipz5M0Ik1SH\n",
       "pQyZeQZoDi605soB3jQrmrZUPc+ESQZRSAoCWIyLCdM5UNtBa060bC3n0jd6chT1Z2c8QcDKthGk\n",
       "mEwQQN/J8n6o/51OnRxZ3OsiLJ40M6tgfWD22gGHpZ2rA6IJLNPl+fW3qHupTcxpp0iiMdy2EvP1\n",
       "u5uNYq0NAaLvya1h0GbuSDtf29vGhBLqCpTmRiQ+ZXmH4qEwYFOPZJhPFLq/SfTsJGDU3lduAJOM\n",
       "3tnmYpZ4VS6/PIFcLO7nPmRURSHJbwYFvGOBSAqkPj/12OLNF5rnNlvPH4ZP+Z8ua0WRMBMw9cxg\n",
       "KWHFl1uHHF3xZparuu5Wy35S7ZGyz8y+kMhJjb7YR09Xn+LGg/CUk8C7czHeDavN3VrWrFqB/m7s\n",
       "OnFnFdEpiSoxFTnDsp03somgirG1ZfAD6Y3rZQhPZhKCqTR7gn7YtfD5Mkuv/Wsrd1XwHoSt2w6k\n",
       "hA9AKa4NGSutD0irpmljQFGTKZjxol5pxOjjcuReyhRBpeJ+B3zzf7Hh9EIPQNAVtQ9qYSIdRxfz\n",
       "rGjqFdI/Ko6sde7aJRimNBAfyXkqbELKQ/5Jl5SwqXo0z8C9VfAoAbaEy/JKxQ0myt0Twv0cxY9p\n",
       "GBr97aFfeAjNWWapQj7xofNxsdhuS/guga5euegXQCnh43CCMDcw/ShimMYwjMfOEL33mGeBjcKO\n",
       "kX9hrJrCLtG2/f3TTfr2R7q3s4eDtVmhvqbFHVGZlQTFSNVBobuCrRFkRbBgY/5RZHw1yjJ+yDoc\n",
       "5K84IQ4+J3cmcTRr7Rd2Zbyi510obSxm716cacz2RSiFVmmZ24GGs39JYgmdHe5DolyDZ1SPKqug\n",
       "JXFnbX9pfcow2dErsJIW9QVb8euhNzWl9U8dsHnLM3X267wFcRotQ1pONNp1odFRF08Bu+c/0LaO\n",
       "eUjfZzoAOSvNUlLA40dD2VtdRdr3Oxpx9NyZI17Pwg2GRsuW9FexWJpoxzjjn1tBnrCB0WD4Ig32\n",
       "1vIGQUW8KFtawLR1O4NnPHtJ53ISPyICcasTGQUd5VgMm62SidM+rzKQnTGvobGQrn2wJ1Dyyfa7\n",
       "TEdDtR5NU3DkJU0WYZD0leJzglTPN6kgUOOzQGuOfoh0R38JA1CnuMJMj6sLnbPTuMHq42SGz9Mx\n",
       "OFCfCjdP/X4bz4xL7Vqs7OoXVtRaLy3YStWq1j+OngUvozHH+p/tvNq+m+eWjWoLLtjFOOvlMud2\n",
       "ClvB28ego/E6x/nVqv/8S/tf+Olc5KEr2+Z8ERpkG1hwKUYITRiHpE7YHjFmwWAr9nm2W21CGSD7\n",
       "laSfGHqNMm77fU+6ecjO7miv8zz52m4ckb5KTtS7A0+l9SfAL0pxyQuhUngpWAlAEkRR5hhFZfxy\n",
       "LgAOzc6lkJV0xIFg16qme/CNzYiEn2AfnFpiVf3Phd43d+3tNKdvjANTAAAFXkGaEEnhDyZTAgj/\n",
       "/rUqgA1E0YeNLPyBM1ACVpvDs2a2ejWfx9mbs9CsiKFzad7B29YAN1z5CTLw4P3dXrxjbrkpzxI+\n",
       "b7tlAvxAYOP+yP4S0FLhZ/KPcgUZQaic6uQG1z2va1vZR8hYQtc9Sxia5mJWXNWV9xJTSv3m1H32\n",
       "rMzkna6gKZ7z+fBeJbcc7PeZi6TJOfhqNt383WlJKgkk+o8aj2RL9+FDHIXce5+1NHPeoIpRJmqh\n",
       "WipH/w6TQEWvSu4h1XtVPrp5yoTDMERSn1kT6qSqxDNwizRlalf4bXGcSTTa5sY3FuuvJ4kTfxfq\n",
       "2RYkf8C+8OOssSp62Yp+TrF69UdnW1Ac5PhPqR1NNlJ41DFAJfSQcOLQxq17OyuXdrAHLqJuvFlq\n",
       "/1NEOfciXbohZo+gc766uBdzrKcktheVGC9tXEpRA4ZECmGHm2CZHxrRiiS0QGy23Jc/5IRMPX12\n",
       "iZsNVDG8yg7+nuN1UCDLB/M5yl0IT/5SSqWnTAfUvDXlQQpMv6bkiAvW8zvM1dKyrdkidhXjyhfT\n",
       "tqJRA7gO72aGdpyMVnS64iB3KmB5uTTwXs7aslBCbCEVh/bvJgx0wVIZkmKPFNind0olxOA8ofXx\n",
       "CZm8UUlqOh0TfjSfTyyMuJ1EZuRuhMsiSmTU0hSYf84sDvrZ4q5QsZgKE2iaw/S3SshqKZaL8whf\n",
       "wRnuQCnCBIQxP/AtYmKMoag0dYA0wS+9rx7ACG2ieJk7yBk8euSHK7LtfEdvTkR80CEsmr0ndRxA\n",
       "r7ttnX1JkX//vOXCM4Wx3Ci043WyWR1RYYmCEQM696l50YpxnSToCf5oK/XR7LSrIl3OprZo1n1E\n",
       "pSMmnLNjiYl49iMZv4toK2cS7Ie41IJnCalWdnUI9N3r5d1FwDaUEX7kgx0K54vf9H40ZKyhLR/n\n",
       "kfIw619uKhItWDO3quBYeSwigJNcSPKmKyt3C5ed7+MztM8Li7jCWko4BxrPomJYikA9p0Iw7goe\n",
       "m8bGWjaWW4hmRiinYpRi4Ly1FcAWirbMbWiHUPOhvR1hN7Pj4DvZNXY5shWxYeNn9GnBmOQul6as\n",
       "RHcYtJFzR8Ikijn5+SR8yOmGOFU/eLKnVhxV4XQaMp58tsAE2i70zVkOvYyeV6SnOXJ6wM5Uulwy\n",
       "TZocjRR1D961yj64b3mSV094QLtvgr4zf3+kguR+Vdp/ErsXAlYTCpuUtkFitJr5zsN0U/C9qcv1\n",
       "2BPnQh6ADgMmzv4b6ZFQDdHpoIkQ7ZZUROLxdmQd30lV0oS64N6BLRr3iJAyL1+f3zzzg3/FpG4A\n",
       "R/m+9naNrGjlPJEC//oXGq1A4SZ8vHx7F2PtiKyus/5PWWGx+MpJ/MTh971VI2Grp21LzklAjoZB\n",
       "RnYFkxIsN6TtKbJ3hun2t2KFFTgqYy6FBuaeX1zXdlkxzOnI81Je/32G8wqx2lJTCEVSf3Hiq2I5\n",
       "+2TKNP6oOREoHXdJAiAkmEaKODxgb7VxJGvsFB8JZfW5wyhh++jOjhXJcTBY2wpCUUSBoIGMhBa5\n",
       "Wte33fsKgWEtXdnI0+ucow9F4H6p33QoFfHkPTESZCFpFQpu4ecBD5hnuvNFHfaDFEXN2r+54ChJ\n",
       "U6zrKv7f2YzOnhMUjdk3MOQEAC0GwW/OUrSjc07H/iClf5kygaCD//QwiXCMyxAWPc4jjIQzh7q4\n",
       "0guF/j3DnTPl8hBfo+pQuqhk+Fp+1cftIQmEnEbm50aRQ6gsQ72qlcBPSL/0LA1oUBVrJ7FogdFk\n",
       "ylvCE6FqNrv5zJnPtlasx9/ECN4xT/sE7zNgfcKB9TzXo7RjffiyHvwFyd2LHpZfDcvKSAAABJtB\n",
       "mjFJ4Q8mUwII//61KoANRNVOIATA5HdNfspRzPmTiWdh9pqfkREozEE5fIQjH8qUleVAatTaRktF\n",
       "Li8vnSxQ3aEJvLt7EhYj9fNZnUnTS1ssZ93Ge56xUK1TXRMCUBP/zNMBulO3axsvtdhVH19ZAdKa\n",
       "N/1E3bIj+1aV08Zy7XRYIsioxvwC+VIYf3j3TJhnpvi41kK/xnrmJA8+45DA1wcUDJMGZHuceReH\n",
       "Sm/FJwd8aJLV5MM5c6skCXzI4/ia16exijtya01i0OcCISMaFhChZtrWclmfAfGzP1+lJ8+FnO2c\n",
       "ICQIQScG5cfL7WdfnOEjaXiOPlbJv41BahnC1skri1zr3yr3FOkCrIfJX15rwsBYTK+DNFBgJtVH\n",
       "cSm4uHyPdarnjIKcTBcwc3Td5xkHLbUSTFbINK7OW4ccMf95FrD49Pdhjh/BqaUGbFwy+Wx3cFxT\n",
       "Muj/eGE3JlKr/efH0ghW0RvVMw+kaPFx5s3WnBywDLL2Hg0cBDJiEwOnHIy3tztOcH5Rt1AicbM8\n",
       "AP9V8wuHbjS9fQ/BCzDlskhTr6n+svSYYrOiLPC1SC1rA4JBloaMzeTRgiNqXLot36NpxB4JQpaD\n",
       "F6+2B9g3zjcO+QmVXSeieOhtHkB7XEpbESdM6IquzcjOs3FgJ9qnDDsI4TEekSPWQBLJ/aNB8Mlk\n",
       "/AVtp5Ok9cIdi9G1Ok8a7lblwOxmzwkksA9Eoxm9D9aH20bbHI8/jR1y6OpBYYNWhXTHBzRJYtGM\n",
       "DrGzWe9gR0KPGSb28HDQhr1g/pR50jEQAMuYFZ0yQl3Qaa2+TMlsElJBRkheWf+jvAIS+WYonL9R\n",
       "GTl1DYr/KEHILGYiMd7mrGFMsBnCEVBAyqVkARtYsmWJRniHl3pjdsLPZnrxt8lpm5kk0naKvWwt\n",
       "gdLYerwFKJYVY+WWwdCMQW9RUCwzpew+8J5EjMLzNndZznxj2U3PtbPP68X3K9UEJ7C12yZzA94e\n",
       "NRmTRELvMGf0FdFIjhiq4zd1Q1lVSVbftwbKy4UyZroaENe/tY3tIxMQZcS9kMS3PetsV65+28JA\n",
       "jNjfftCiQuq6UKa7qAeXK7EMmk8CXISi2D00xt9XC8heVUYa1h1IRt1rte6UKSdsZpGJMvuHehsJ\n",
       "GQVlhJP7/9+OpjT1bWwjWfAv15AmaHeIarYcqra2KNMOvCpC7aHouXoLZpOxqB3L49SkBzhEY5sw\n",
       "b5wZDiXe7IBB/a53W40I34OXy5cfEKGn3ZAufv3pW9ptGpUYsBt1hdkE5lIJkjeGs3ORj9C+3Z6W\n",
       "lF5gE4PRYdz3bQEAUCxTs6u+If/26esvgoGppQW7/5d/BmVBQcdUPlYJD6uoLRvwnAdm4sOJAQGN\n",
       "LeDpu+rzOuSTw+X9ohWhlw+3MbVYLrZ996mwAADdKrYOq/9zT0/ZDNqfoaJlaHbr4fMBxwizxhgD\n",
       "nCXC7325fnweu+1mxsqTApS6LZk9rxXBTaVab35mjI7G1gQvlMwBZskeaVw7cVKUhF4YSbaeEAAa\n",
       "P5Je+KxFHurf39WpahDe7Rtc1TrQGyah6sPWDlV+ASytdGySakAAAATxQZpSSeEPJlMCCH/+qlUA\n",
       "GowbMIATM+8AAco/p74OSr4fEXD4ZWS9fuX1idnlxA3LvhjQ0rd4UOHMmnfnW/Ii9Av4ZgRjhOeb\n",
       "QCM1zo+2YJ3dFMid+cRqJqIRnNOzKb3QoVz8NmyyXfoeZsn2b8bnIXqMw6CVovtT5Nnv9MXhKGlU\n",
       "/iUbDLa5iCGMd0o/qWjqdXN9KWtkOjAHrLI6SYXgHpxVOnLYV7w25/bO34YKCF7EuVUAifsKfalq\n",
       "saNhZj7/qUEQWO9UfgKcsob0DhNiqsawdp/sLGuiOPtdVT8qK68bQ+9SXSfEE4Y/+p+P+fKFiJB3\n",
       "Te9MQsth+pNMYt4NnlQ+ymEOyNVfF73NMt1PanelQP0WrwgNwZx4mQqXkGkRKQRtsuOHERM4zIbo\n",
       "9ty7luwWm7RW6UTUeSuoLL5M83Om3d2ws1Romb5WremHqkweD1cSybD9GaYqF56G9FiBTeM5eFct\n",
       "9wMWIq9eTDTDSaSVHS7fsyYt8JNR37KZXPkgz5dNT8Re4g/+5QRA7Qa9QhdoCBhb+ZMtF1pFh+vQ\n",
       "DyXsBeaW031GuTYRZk7ok/KWSMfBXdYWn4rEx4iWkkIjyrTMFZOcNLveq1lUes0eZwYsSkw1jy9m\n",
       "DuJH7kh5A+b4TRoDAs60ksybQmNmyycUHDY1egn6FZHbcH+fW3YnYZyNVK9qXr20zOcHhypLKtXH\n",
       "hFQHRsDOOtseWUCTsTt9MxKJoV+kOWaNd//CfXeMt3QmuhUdtkS8OqYLwffo2zRNRsTISR4V29Bf\n",
       "C9EIoFibCHxeP2QkF+AsSfROLGykL2bGrDZNil0laP/CnNPRCEuINpj/m+f1b0Qn8wP+FT5PVTKk\n",
       "fa1onPGonX7r/TvCfj8h0vdzB0ZIlx9O6fhuLhEcEc+HI0V/L1JL8wxt8ZlR/n6/7zhigOxQ5kWs\n",
       "dBR/A2mWRUIa+nWybL7HKgaKH7JnRPp5ij8/L4zxscHMIwRbcljA2mZv/AKEw2QYNtTST5rY2qfw\n",
       "5rQkWzTtXqO0lcH3iex0FvQCans/5/Suo+F7ZvRLsNg9MGEY9HZbgCYR+ZwuypVlyc6isDZLmJ7w\n",
       "HMJM2s94Avh0zHsGMHanxMkHhTQv0qglzfPt6z37jGFp7MDhd1MvXW7H0rvH80oymXj93+DM/Mi8\n",
       "OkcnX7M/dpl4MpjxcZN8BrGepLkfQScCcgX05S0I9ZiWrKc/Mf4p8EfIBTGZXhqsHK4caOU2AGCv\n",
       "+0zYk99YSJW7gfLiGZlG9Jch+3I3yb1KoG4LPjSOhFi93iBOrpPruwwldo+tcnb25COGdt8EAr3I\n",
       "jR3usn42C3rMHU1I6bAwtItk9I824u3axHPlx72xx3vwUZ8PByCzNxmjxjzjifnVVE04S9zgQ1rH\n",
       "gU/fpVJCaozNO5UCo19VQvIW3ptLd5eRn/nxo2MkIeAlF6uZjK7kMJyf4CIGG8txfuE1AoM6fdCc\n",
       "ygzwebkm308WznrLzTtgBuTKayEuJFJtMAZnvQsNqulHGgL7wxAU9fbH7KCNM4ngsjQGBlz3ksqV\n",
       "NRHO3GMnu/WfAx42kVZ3iVsfyBQIHFbAw8JmmtBD8AJau3gRcfWMnPXrJauwW1r2QLU6WLltIjL1\n",
       "K2aXHzrmXyZLI4T+DA/bv0lCKz5slf4kJ/FLGCDZeJF7u0ilILdFf6/iEre0E7KZPRHIYEEAAASM\n",
       "QZpzSeEPJlMCH//+qZYAZ65giIXria/PtXoAPRqnTQNv4e9EmHoEGWvOqPXeQeTL1Y08RNno62KD\n",
       "OL3XhmRCjNFq/Bham6EVPbVQv1BW4EPdyFxRUxs2wbcZmzszjWqtGIxtIR4liUii9M4BW07J2Tyb\n",
       "9Myp/A//3/UnmB21eVRYncMWBCrxeeLlOM9+BzmSN4qrwcI+a9uC+tOattywh1YFvpJz/cT6zafL\n",
       "G0s/S/o9Ai3nMWgHHRkLKxdDlJsxMB/LMNJam01t7wsYZH6Gkr+IQSFXmeXpi5CzURTP9Wj/b4q0\n",
       "OLUOJIyfmCjEcBcG68SVD++pDnQn0MAo0sEvA+lh15Kcrb1qz/euCnzBMnmyQF4Pk6qRqYRXRFEL\n",
       "pza/F1AemqomHHFuecu/MezFdWSRS7Jyf/SUGN1M7kHni/6BJTLFvZiGXIf/AmX8HnHKxlAAfoEa\n",
       "MVNm51JKqKwHl8lTs/gAYwalW2QB/IVAyhDkumuh5+Sa9dTnbp9U8HadIAkzMMoniJANyBFkyJHE\n",
       "tbqbvprIDiZszj7jnHmGPlFfia42ao4emNbdjajbSVatws/8bmhrLWRMIcY/p+bYGn+XAjau9GqW\n",
       "4sdrLnjedY6a4hDqEtXJkgO0oCU3alLFjDuBhoMN34vJ3mw7YpmUr+45+bdtBxfZSUHzCtlC7Juf\n",
       "u3pjagk/yDlHdZM6pXd4eHbPZlULxxYm5Emd6MwNvutIJSb1lcIJLdYsfY83oOOzcBiCFC7f9kvs\n",
       "+tOQWZQS8DdA3ZjIr0nnJpolcsN+8o/mXlTmZxex5/MJlXhpdEeEn5wrNzADKFagTf2PE+rd2EUg\n",
       "PsvwNQQcd76vi/B2pbUFVAAk0pWA70qsGiRMWv03sdUcN1ja3y+Y4p3EppCJa2ymQ3dS6hwweJy5\n",
       "+g40Y5utJlGTzRDSrHVcQEr5oGYDRaJ1nEbycQX7/79xqt4nnIAAkSAtS9wCIikzL5K1dFVAYOqL\n",
       "UvA2oYyznUsUN5LqI7Lmw5wdlbVGjgwxEOxIMgan2yWZNL5ROdn6Qt0wmD5/ndsNCeXUmHxcI0+t\n",
       "xtw+a0EIAADrcsm4Kh470upMzw+hCxElN1Wmjck/CvCwQ90S73EwJPOm42H0YkAIK/Cq/V/Odwgv\n",
       "6qYaPR9lL1HNeb3bp2RV6nvBDxb4Yzrkq4zYTw8PEtHAIlq85tVyftzaWlQWBP1CJaDzKFkasbnm\n",
       "KJn0M/jj/nIp5tZqmDGtOj0r6wo4arUtAkHLH6X04B2CjKdjVbanLfZNv6S1kx8NKNVg31osJWuA\n",
       "7bSmoyaiyUiyxw84Gkfu90d1t0549b1XM4Hoi4JHgrZPrko44pls+dMhQ25B9/1OcTaU89rTe9rg\n",
       "G1o24BS8F4X/PIGo1QPiZ83VskC4mBCyAAAILp54ns+z6LHJ0Vz2bDsshAW0/81OwrPZ+ib4N8o2\n",
       "6+pKLZ5Fu9dwxq07RKk2nQe7stwaz2Gnf4SB8wFInfc1fbizqISOJN48Qgtw1mLH8Qm+GNGfRUYb\n",
       "6/d921a4Ylf3kZlH7JVr6aGuZg7jOwg4AAADh21vb3YAAABsbXZoZAAAAAAAAAAAAAAAAAAAA+gA\n",
       "AA+gAAEAAAEAAAAAAAAAAAAAAAABAAAAAAAAAAAAAAAAAAAAAQAAAAAAAAAAAAAAAAAAQAAAAAAA\n",
       "AAAAAAAAAAAAAAAAAAAAAAAAAAAAAAAAAAIAAAKxdHJhawAAAFx0a2hkAAAAAwAAAAAAAAAAAAAA\n",
       "AQAAAAAAAA+gAAAAAAAAAAAAAAAAAAAAAAABAAAAAAAAAAAAAAAAAAAAAQAAAAAAAAAAAAAAAAAA\n",
       "QAAAAAJYAAABkAAAAAAAJGVkdHMAAAAcZWxzdAAAAAAAAAABAAAPoAAAEAAAAQAAAAACKW1kaWEA\n",
       "AAAgbWRoZAAAAAAAAAAAAAAAAAAAKAAAAKAAVcQAAAAAAC1oZGxyAAAAAAAAAAB2aWRlAAAAAAAA\n",
       "AAAAAAAAVmlkZW9IYW5kbGVyAAAAAdRtaW5mAAAAFHZtaGQAAAABAAAAAAAAAAAAAAAkZGluZgAA\n",
       "ABxkcmVmAAAAAAAAAAEAAAAMdXJsIAAAAAEAAAGUc3RibAAAALRzdHNkAAAAAAAAAAEAAACkYXZj\n",
       "MQAAAAAAAAABAAAAAAAAAAAAAAAAAAAAAAJYAZAASAAAAEgAAAAAAAAAAQAAAAAAAAAAAAAAAAAA\n",
       "AAAAAAAAAAAAAAAAAAAAAAAAABj//wAAADJhdmNDAWQAFv/hABlnZAAWrNlAmDPl4QAAAwABAAAD\n",
       "AAoPFi2WAQAGaOvjyyLAAAAAHHV1aWRraEDyXyRPxbo5pRvPAyPzAAAAAAAAABhzdHRzAAAAAAAA\n",
       "AAEAAAAUAAAIAAAAABRzdHNzAAAAAAAAAAEAAAABAAAAGGN0dHMAAAAAAAAAAQAAABQAABAAAAAA\n",
       "HHN0c2MAAAAAAAAAAQAAAAEAAAAUAAAAAQAAAGRzdHN6AAAAAAAAAAAAAAAUAAARKgAACbgAAAlD\n",
       "AAAHnwAAB9MAAAdRAAAIFgAABaYAAAZ8AAAF4gAABk0AAAWYAAAFsgAABYoAAAUoAAAFJwAABWIA\n",
       "AASfAAAE9QAABJAAAAAUc3RjbwAAAAAAAAABAAAALAAAAGJ1ZHRhAAAAWm1ldGEAAAAAAAAAIWhk\n",
       "bHIAAAAAAAAAAG1kaXJhcHBsAAAAAAAAAAAAAAAALWlsc3QAAAAlqXRvbwAAAB1kYXRhAAAAAQAA\n",
       "AABMYXZmNTcuNDEuMTAw\n",
       "\">\n",
       "  Your browser does not support the video tag.\n",
       "</video>"
      ],
      "text/plain": [
       "<matplotlib.animation.FuncAnimation at 0x7f9aab77eda0>"
      ]
     },
     "execution_count": 8,
     "metadata": {},
     "output_type": "execute_result"
    }
   ],
   "source": [
    " anim"
   ]
  },
  {
   "cell_type": "code",
   "execution_count": 9,
   "metadata": {
    "collapsed": false
   },
   "outputs": [
    {
     "data": {
      "image/png": "[encoded data removed]",
      "text/plain": [
       "<matplotlib.figure.Figure at 0x7f9aab786be0>"
      ]
     },
     "metadata": {},
     "output_type": "display_data"
    }
   ],
   "source": [
    "#The smaller the city, the more agents get displaced, because creative density is higher.\n",
    "#the whole time.\n",
    "city = TransformingCity(7)\n",
    "for i in range(50):\n",
    "    city.step()\n",
    "    \n",
    "plt.plot(city.displaced_history)\n",
    "plt.ylim([400, 500])\n",
    "plt.show()"
   ]
  },
  {
   "cell_type": "code",
   "execution_count": 10,
   "metadata": {
    "collapsed": false
   },
   "outputs": [
    {
     "data": {
      "image/png": "[encoded data removed]",
      "text/plain": [
       "<matplotlib.figure.Figure at 0x7f9aab6d72e8>"
      ]
     },
     "metadata": {},
     "output_type": "display_data"
    }
   ],
   "source": [
    "#A smaller city with new agents moving in means that...\n",
    "#more agents get displaced, because creative density gets EVEN higher.\n",
    "city = TransformingCity(7)\n",
    "steps = 50\n",
    "n_to_add_per_step = 50\n",
    "for i in range(steps):\n",
    "    city.step()\n",
    "    city.add_agents(n_to_add_per_step)\n",
    "    \n",
    "plt.plot(city.displaced_history)\n",
    "plt.ylim([0, 1000 + steps*n_to_add_per_step])\n",
    "plt.show()"
   ]
  },
  {
   "cell_type": "code",
   "execution_count": 12,
   "metadata": {
    "collapsed": false
   },
   "outputs": [
    {
     "data": {
      "image/png": "[encoded data removed]",
      "text/plain": [
       "<matplotlib.figure.Figure at 0x7f35950ea080>"
      ]
     },
     "metadata": {},
     "output_type": "display_data"
    }
   ],
   "source": [
    "#The smaller the city, the more agents get displaced, because creative density is higher.\n",
    "#the whole time.\n",
    "city = TransformingCity(7, random_seed=55)\n",
    "sub_city = TransformingCity(7, p_subsidized = 0.5, sub_housing_rate=0.5, random_seed=55)\n",
    "\n",
    "\n",
    "for i in range(50):\n",
    "    city.step()\n",
    "    sub_city.step()\n",
    "    \n",
    "plt.plot(city.displaced_history, label='unsubsidized city')\n",
    "plt.plot(sub_city.displaced_history, label='subsidized city')\n",
    "plt.legend(loc='best')\n",
    "plt.ylabel('cumulative displacement of original agents')\n",
    "plt.xlabel('time')\n",
    "plt.ylim([0, 1000])\n",
    "plt.show()"
   ]
  },
  {
   "cell_type": "code",
   "execution_count": 13,
   "metadata": {
    "collapsed": false
   },
   "outputs": [
    {
     "data": {
      "image/png": "[encoded data removed]",
      "text/plain": [
       "<matplotlib.figure.Figure at 0x7f35952b0550>"
      ]
     },
     "metadata": {},
     "output_type": "display_data"
    }
   ],
   "source": [
    "#The smaller the city, the more agents get displaced, because creative density is higher.\n",
    "#the whole time.\n",
    "city = TransformingCity(7, random_seed=55)\n",
    "sub_city = TransformingCity(7, p_subsidized = 0.5, sub_housing_rate=0.5, random_seed=55)\n",
    "\n",
    "\n",
    "for i in range(50):\n",
    "    city.step()\n",
    "    sub_city.step()\n",
    "    \n",
    "plt.plot(city.num_displaced_this_step_history, label='unsubsidized city')\n",
    "plt.plot(sub_city.num_displaced_this_step_history, label='subsidized city')\n",
    "plt.legend(loc='best')\n",
    "plt.ylabel('number of agents displaced')\n",
    "plt.xlabel('time')\n",
    "plt.ylim([0, 1000])\n",
    "plt.show()\n"
   ]
  },
  {
   "cell_type": "code",
   "execution_count": 2,
   "metadata": {
    "collapsed": false
   },
   "outputs": [
    {
     "data": {
      "image/png": "[encoded data removed]",
      "text/plain": [
       "<matplotlib.figure.Figure at 0x7f3597e0b048>"
      ]
     },
     "metadata": {},
     "output_type": "display_data"
    }
   ],
   "source": [
    "city = TransformingCity(7)\n",
    "sub_city = TransformingCity(7, p_subsidized = .5)\n",
    "\n",
    "\n",
    "for i in range(50):\n",
    "    city.step()\n",
    "    sub_city.step()\n",
    "    \n",
    "unsubnormalized = [x - city.displaced_history[0] for x in city.displaced_history]\n",
    "subnormalized = [x - sub_city.displaced_history[0] for x in sub_city.displaced_history]\n",
    "plt.plot(unsubnormalized, label='unsubsidized city')\n",
    "plt.plot(subnormalized, label='subsidized city')\n",
    "plt.legend(loc='best')\n",
    "plt.ylabel('normalized displacement of original agents')\n",
    "plt.xlabel('time')\n",
    "# plt.ylim([0, 1000])\n",
    "plt.show()"
   ]
  },
  {
   "cell_type": "code",
   "execution_count": 13,
   "metadata": {
    "collapsed": false
   },
   "outputs": [
    {
     "data": {
      "image/png": "[encoded data removed]",
      "text/plain": [
       "<matplotlib.figure.Figure at 0x7f9aab4384e0>"
      ]
     },
     "metadata": {},
     "output_type": "display_data"
    }
   ],
   "source": [
    "np.random.seed(40)\n",
    "city_quarter = TransformingCity(7, p_subsidized = .5, sub_housing_rate = 0.25)\n",
    "city_half = TransformingCity(7, p_subsidized = .5, sub_housing_rate = 0.5)\n",
    "city_threequarter = TransformingCity(7, p_subsidized = .5, sub_housing_rate = 0.75)\n",
    "\n",
    "for i in range(50):\n",
    "    city_quarter.step()\n",
    "    city_half.step()\n",
    "    city_threequarter.step()\n",
    "    \n",
    "quarter = [x - city_quarter.displaced_history[0] for x in city_quarter.displaced_history]\n",
    "half = [x - city_half.displaced_history[0] for x in city_half.displaced_history]\n",
    "threequarter = [x - city_threequarter.displaced_history[0] for x in city_threequarter.displaced_history]\n",
    "\n",
    "plt.plot(quarter, label='25% rent')\n",
    "plt.plot(half, label='50% rent')\n",
    "plt.plot(threequarter, label='75% rent')\n",
    "plt.legend(loc='best')\n",
    "plt.ylabel('normalized displacement')\n",
    "plt.xlabel('time')\n",
    "plt.show()"
   ]
  },
  {
   "cell_type": "code",
   "execution_count": 14,
   "metadata": {
    "collapsed": false
   },
   "outputs": [],
   "source": [
    "\n",
    "def get_slopes(cities):\n",
    "\n",
    "\n",
    "    for i in range(20):\n",
    "        for city in cities:\n",
    "            city.step()\n",
    "\n",
    "    i = 0\n",
    "    slopes = []\n",
    "    for city in cities:\n",
    "        slope, intercept, r_value, p_value, std_err = scipy.stats.linregress(range(len(city.displaced_history)), city.displaced_history)\n",
    "        slopes.append(slope)\n",
    "        #print(slopes[i-1])\n",
    "        i += 1\n",
    "        \n",
    "    return tuple(slopes)\n",
    "    "
   ]
  },
  {
   "cell_type": "code",
   "execution_count": 15,
   "metadata": {
    "collapsed": false
   },
   "outputs": [],
   "source": [
    "#linear regression of a bunch of runs.\n",
    "slopes1 = []\n",
    "slopes2 = []\n",
    "for i in range(100):\n",
    "    city1 = TransformingCity(7)\n",
    "    sub_city = TransformingCity(7, p_subsidized = .1)\n",
    "    cities = [city1, sub_city]\n",
    "    slope1, slope2 = get_slopes(cities)\n",
    "    slopes1.append(slope1)\n",
    "    slopes2.append(slope2)"
   ]
  },
  {
   "cell_type": "code",
   "execution_count": 16,
   "metadata": {
    "collapsed": false
   },
   "outputs": [
    {
     "name": "stdout",
     "output_type": "stream",
     "text": [
      "4.03441353383\n",
      "4.60058646617\n"
     ]
    }
   ],
   "source": [
    "print(np.mean(slopes1))\n",
    "print(np.mean(slopes2))"
   ]
  },
  {
   "cell_type": "code",
   "execution_count": 17,
   "metadata": {
    "collapsed": false
   },
   "outputs": [
    {
     "name": "stdout",
     "output_type": "stream",
     "text": [
      "25%: 4.540270676691729\n",
      "50%: 6.494451127819548\n",
      "75%: 5.276413533834588\n"
     ]
    }
   ],
   "source": [
    "%%time\n",
    "slopes25 = []\n",
    "slopes50 = []\n",
    "slopes75 = []\n",
    "\n",
    "for i in range(100):\n",
    "    city_quarter = TransformingCity(7, p_subsidized = .5, sub_housing_rate = 0.25)\n",
    "    city_half = TransformingCity(7, p_subsidized = .5, sub_housing_rate = 0.5)\n",
    "    city_threequarter = TransformingCity(7, p_subsidized = .5, sub_housing_rate = 0.75)\n",
    "    \n",
    "    cities = [city_quarter, city_half, city_threequarter]\n",
    "    s25, s50, s75 = get_slopes(cities)\n",
    "    slopes25.append(s25)\n",
    "    slopes50.append(s50)\n",
    "    slopes75.append(s75)\n",
    "    \n",
    "\n",
    "print('25%: {slope}'.format(slope=np.mean(slopes25)))\n",
    "print('50%: {slope}'.format(slope=np.mean(slopes50)))\n",
    "print('75%: {slope}'.format(slope=np.mean(slopes75)))\n"
   ]
  },
  {
   "cell_type": "code",
   "execution_count": 18,
   "metadata": {
    "collapsed": false
   },
   "outputs": [
    {
     "name": "stdout",
     "output_type": "stream",
     "text": [
      "CPU times: user 19min 48s, sys: 12 s, total: 19min 59s\n",
      "Wall time: 19min 50s\n"
     ]
    }
   ],
   "source": [
    "%%time\n",
    "\n",
    "end_25 = []\n",
    "end_50 = []\n",
    "end_75 = []\n",
    "\n",
    "for i in range(1000):\n",
    "    city_quarter = TransformingCity(7, p_subsidized = .5, sub_housing_rate = 0.25, random_seed=40)\n",
    "    city_half = TransformingCity(7, p_subsidized = .5, sub_housing_rate = 0.5, random_seed=40)\n",
    "    city_threequarter = TransformingCity(7, p_subsidized = .5, sub_housing_rate = 0.75, random_seed=40)\n",
    "    \n",
    "    for j in range(20):\n",
    "        city_quarter.step()\n",
    "        city_half.step()\n",
    "        city_threequarter.step()\n",
    "        \n",
    "    end_25.append(city_quarter.displaced_history[-1])\n",
    "    end_50.append(city_half.displaced_history[-1])\n",
    "    end_75.append(city_threequarter.displaced_history[-1])\n",
    "    "
   ]
  },
  {
   "cell_type": "code",
   "execution_count": 38,
   "metadata": {
    "collapsed": false
   },
   "outputs": [
    {
     "name": "stdout",
     "output_type": "stream",
     "text": [
      "Number of displaced original residents after 20 time steps for 25%: 503.559\n",
      "Number of displaced original residents after 20 time steps for 50%: 795.71\n",
      "Number of displaced original residents after 20 time steps for 75%: 881.217\n"
     ]
    },
    {
     "data": {
      "image/png": "[encoded data removed]",
      "text/plain": [
       "<matplotlib.figure.Figure at 0x7f9aaaca24a8>"
      ]
     },
     "metadata": {},
     "output_type": "display_data"
    }
   ],
   "source": [
    "print('Number of displaced original residents after 20 time steps for 25%: {p20}'.format(p20=np.mean(end_25)))\n",
    "print('Number of displaced original residents after 20 time steps for 50%: {p20}'.format(p20=np.mean(end_50)))\n",
    "print('Number of displaced original residents after 20 time steps for 75%: {p20}'.format(p20=np.mean(end_75)))\n",
    "\n",
    "sub_rates = [0.25, 0.5, 0.75]\n",
    "means = [np.mean(end_25), np.mean(end_50), np.mean(end_75)]\n",
    "mins = [np.percentile(end_25, 5), np.percentile(end_50, 5), np.percentile(end_75, 5)]\n",
    "maxs = [np.percentile(end_25, 95), np.percentile(end_50, 95), np.percentile(end_75, 95)]\n",
    "plt.plot(sub_rates, means)\n",
    "plt.vlines(sub_rates, mins, maxs)\n",
    "plt.ylim(0, 1000)\n",
    "plt.show()"
   ]
  },
  {
   "cell_type": "code",
   "execution_count": 14,
   "metadata": {
    "collapsed": false
   },
   "outputs": [
    {
     "ename": "ValueError",
     "evalue": "only 2 non-keyword arguments accepted",
     "output_type": "error",
     "traceback": [
      "\u001b[0;31m---------------------------------------------------------------------------\u001b[0m",
      "\u001b[0;31mValueError\u001b[0m                                Traceback (most recent call last)",
      "\u001b[0;32m<ipython-input-14-4cda3b3d2a8c>\u001b[0m in \u001b[0;36m<module>\u001b[0;34m()\u001b[0m\n\u001b[1;32m     18\u001b[0m \u001b[0;34m\u001b[0m\u001b[0m\n\u001b[1;32m     19\u001b[0m \u001b[0;31m#put data in one big array and save it in case we need it again.\u001b[0m\u001b[0;34m\u001b[0m\u001b[0;34m\u001b[0m\u001b[0m\n\u001b[0;32m---> 20\u001b[0;31m \u001b[0mresmat_perstep\u001b[0m \u001b[0;34m=\u001b[0m \u001b[0mnp\u001b[0m\u001b[0;34m.\u001b[0m\u001b[0marray\u001b[0m\u001b[0;34m(\u001b[0m\u001b[0mend_25_perstep\u001b[0m\u001b[0;34m,\u001b[0m \u001b[0mend_50_perstep\u001b[0m\u001b[0;34m,\u001b[0m \u001b[0mend_75_perstep\u001b[0m\u001b[0;34m)\u001b[0m\u001b[0;34m\u001b[0m\u001b[0m\n\u001b[0m\u001b[1;32m     21\u001b[0m \u001b[0mnp\u001b[0m\u001b[0;34m.\u001b[0m\u001b[0msave\u001b[0m\u001b[0;34m(\u001b[0m\u001b[0;34m'displaced_at_20th_timestep_25_50_75_sub_1000trials.npy'\u001b[0m\u001b[0;34m,\u001b[0m \u001b[0mresmat_perstep\u001b[0m\u001b[0;34m)\u001b[0m\u001b[0;34m\u001b[0m\u001b[0m\n",
      "\u001b[0;31mValueError\u001b[0m: only 2 non-keyword arguments accepted"
     ]
    }
   ],
   "source": [
    "end_25_perstep = []\n",
    "end_50_perstep = []\n",
    "end_75_perstep = []\n",
    "\n",
    "for i in range(1000):\n",
    "    city_quarter = TransformingCity(7, p_subsidized = .5, sub_housing_rate = 0.25, random_seed=40)\n",
    "    city_half = TransformingCity(7, p_subsidized = .5, sub_housing_rate = 0.5, random_seed=40)\n",
    "    city_threequarter = TransformingCity(7, p_subsidized = .5, sub_housing_rate = 0.75, random_seed=40)\n",
    "    \n",
    "    for j in range(20):\n",
    "        city_quarter.step()\n",
    "        city_half.step()\n",
    "        city_threequarter.step()\n",
    "        \n",
    "    end_25_perstep.append(city_quarter.num_displaced_this_step_history[-1])\n",
    "    end_50_perstep.append(city_half.num_displaced_this_step_history[-1])\n",
    "    end_75_perstep.append(city_threequarter.num_displaced_this_step_history[-1])\n"
   ]
  },
  {
   "cell_type": "code",
   "execution_count": 24,
   "metadata": {
    "collapsed": false
   },
   "outputs": [],
   "source": [
    "#stack the data, and save it to a file\n",
    "resmat_perstep = np.stack([end_25_perstep, end_50_perstep, end_75_perstep], axis=0)\n",
    "np.save('displaced_at_20th_timestep_25_50_75_sub_1000trials.npy', resmat_perstep)"
   ]
  },
  {
   "cell_type": "code",
   "execution_count": 22,
   "metadata": {
    "collapsed": false
   },
   "outputs": [
    {
     "name": "stdout",
     "output_type": "stream",
     "text": [
      "Number of displaced original residents on the 20th time step for 25%: 77.344\n",
      "Number of displaced original residents on the 20th time step for 50%: 215.208\n",
      "Number of displaced original residents on the 20th time step for 75%: 451.067\n"
     ]
    },
    {
     "data": {
      "image/png": "[encoded data removed]",
      "text/plain": [
       "<matplotlib.figure.Figure at 0x7f35951a2fd0>"
      ]
     },
     "metadata": {},
     "output_type": "display_data"
    }
   ],
   "source": [
    "print('Number of displaced original residents on the 20th time step for 25%: {p20}'.format(p20=np.mean(end_25_perstep)))\n",
    "print('Number of displaced original residents on the 20th time step for 50%: {p20}'.format(p20=np.mean(end_50_perstep)))\n",
    "print('Number of displaced original residents on the 20th time step for 75%: {p20}'.format(p20=np.mean(end_75_perstep)))\n",
    "\n",
    "sub_rates = [0.25, 0.5, 0.75]\n",
    "means = np.mean(resmat_perstep, axis=1)\n",
    "mins = [np.percentile(resmat_perstep, 5, axis=1)]\n",
    "maxs = [np.percentile(resmat_perstep, 95, axis=1)]\n",
    "plt.plot(sub_rates, means)\n",
    "plt.vlines(sub_rates, mins, maxs)\n",
    "plt.ylim(0, 1000)\n",
    "plt.ylabel('Displaced agents')\n",
    "plt.xlabel('Subsidisation')\n",
    "plt.show()"
   ]
  },
  {
   "cell_type": "code",
   "execution_count": 23,
   "metadata": {
    "collapsed": false
   },
   "outputs": [
    {
     "ename": "NameError",
     "evalue": "name 'end_25' is not defined",
     "output_type": "error",
     "traceback": [
      "\u001b[0;31m---------------------------------------------------------------------------\u001b[0m",
      "\u001b[0;31mNameError\u001b[0m                                 Traceback (most recent call last)",
      "\u001b[0;32m<ipython-input-23-3e4a995ffa34>\u001b[0m in \u001b[0;36m<module>\u001b[0;34m()\u001b[0m\n\u001b[0;32m----> 1\u001b[0;31m \u001b[0mprint\u001b[0m\u001b[0;34m(\u001b[0m\u001b[0mnp\u001b[0m\u001b[0;34m.\u001b[0m\u001b[0mmean\u001b[0m\u001b[0;34m(\u001b[0m\u001b[0mend_25\u001b[0m\u001b[0;34m)\u001b[0m\u001b[0;34m/\u001b[0m\u001b[0mcity_quarter\u001b[0m\u001b[0;34m.\u001b[0m\u001b[0mstart_pop\u001b[0m\u001b[0;34m)\u001b[0m\u001b[0;34m\u001b[0m\u001b[0m\n\u001b[0m",
      "\u001b[0;31mNameError\u001b[0m: name 'end_25' is not defined"
     ]
    }
   ],
   "source": [
    "print(np.mean(end_25)/city_quarter.start_pop)"
   ]
  },
  {
   "cell_type": "code",
   "execution_count": 39,
   "metadata": {
    "collapsed": false
   },
   "outputs": [
    {
     "name": "stdout",
     "output_type": "stream",
     "text": [
      "change in % of creative space in unsubsidized city: -21.6 %\n",
      "change in % of creative space in 50% subsidized city: -19.4 %\n"
     ]
    },
    {
     "data": {
      "image/png": "[encoded data removed]",
      "text/plain": [
       "<matplotlib.figure.Figure at 0x7f9aab5057b8>"
      ]
     },
     "metadata": {},
     "output_type": "display_data"
    }
   ],
   "source": [
    "city = TransformingCity(10, avg_rent=10000)\n",
    "sub_city = TransformingCity(10, avg_rent=10000, p_subsidized=0.5)\n",
    "\n",
    "for i in range(50):\n",
    "    city.step()\n",
    "    sub_city.step()\n",
    "\n",
    "print(\"change in % of creative space in unsubsidized city: {0:.1f} %\".format(\n",
    "        (city.p_creative_space_history[-1] - city.p_creative_space_history[0])*100))\n",
    "print(\"change in % of creative space in 50% subsidized city: {0:.1f} %\".format(\n",
    "        (sub_city.p_creative_space_history[-1] - sub_city.p_creative_space_history[0])*100))\n",
    "plt.hold('on')\n",
    "plt.plot(city.num_displaced_this_step_history, label='unsubsidized')\n",
    "plt.plot(sub_city.num_displaced_this_step_history, label='50% subsidized agents')\n",
    "plt.ylabel('num displaced this step')\n",
    "plt.legend(loc='best')\n",
    "plt.show()"
   ]
  },
  {
   "cell_type": "code",
   "execution_count": 40,
   "metadata": {
    "collapsed": false
   },
   "outputs": [
    {
     "data": {
      "image/png": "[encoded data removed]",
      "text/plain": [
       "<matplotlib.figure.Figure at 0x7f9aaad7e0b8>"
      ]
     },
     "metadata": {},
     "output_type": "display_data"
    }
   ],
   "source": [
    "city = TransformingCity(10)\n",
    "city.step()\n",
    "city.array = city.rent_diff\n",
    "viewer = RentViewer(city)\n",
    "anim = viewer.animate()"
   ]
  },
  {
   "cell_type": "code",
   "execution_count": 41,
   "metadata": {
    "collapsed": false
   },
   "outputs": [
    {
     "name": "stdout",
     "output_type": "stream",
     "text": [
      "[[     0.              0.              0.         -13064.08373194      0.\n",
      "       0.         -10972.80007723 -10375.89293729 -10257.44954878\n",
      "    1564.15743801]\n",
      " [     0.              0.              0.         -10742.79426028      0.\n",
      "       0.          -5532.78180766      0.              0.          -8402.46671749]\n",
      " [     0.              0.              0.         -13469.25205468\n",
      "   -9283.58692098      0.              0.         -12690.27703786\n",
      "   -8729.49862971      0.        ]\n",
      " [     0.           1039.87399294      0.              0.              0.\n",
      "       0.         -14189.97298239 -14544.68488451  -9175.53383852\n",
      "  -12441.17652156]\n",
      " [-10113.18954503   1266.35169745 -10002.24776876      0.              0.\n",
      "       0.              0.          -7358.24557626      0.            871.09649016]\n",
      " [     0.         -12081.30847587      0.         -16023.31967249\n",
      "  -12085.27024017      0.            960.30586878 -12885.07905414\n",
      "  -11871.85521737      0.        ]\n",
      " [-16770.03246026      0.              0.              0.              0.\n",
      "       0.         -14044.28989712      0.              0.          -7156.91697701]\n",
      " [     0.          -7313.67888223      0.              0.              0.\n",
      "    1610.06898302 -11429.75102045      0.         -14007.42900856      0.        ]\n",
      " [     0.              0.          -9679.41805366      0.         -14838.90205147\n",
      "       0.              0.              0.              0.              0.        ]\n",
      " [     0.         -15214.31268416      0.              0.              0.\n",
      "       0.         -12531.546735        0.              0.         -16940.44878086]]\n"
     ]
    }
   ],
   "source": [
    "print(city.array)"
   ]
  },
  {
   "cell_type": "code",
   "execution_count": 42,
   "metadata": {
    "collapsed": false
   },
   "outputs": [
    {
     "data": {
      "text/html": [
       "<video width=\"600.0\" height=\"400.0\" controls autoplay loop>\n",
       "  <source type=\"video/mp4\" src=\"data:video/mp4;base64,AAAAHGZ0eXBNNFYgAAACAGlzb21pc28yYXZjMQAAAAhmcmVlAAAQBW1kYXQAAAKsBgX//6jcRem9\n",
       "5tlIt5Ys2CDZI+7veDI2NCAtIGNvcmUgMTQ4IHIyNzYgM2Y1ZWQ1NiAtIEguMjY0L01QRUctNCBB\n",
       "VkMgY29kZWMgLSBDb3B5bGVmdCAyMDAzLTIwMTYgLSBodHRwOi8vd3d3LnZpZGVvbGFuLm9yZy94\n",
       "MjY0Lmh0bWwgLSBvcHRpb25zOiBjYWJhYz0xIHJlZj0zIGRlYmxvY2s9MTowOjAgYW5hbHlzZT0w\n",
       "eDM6MHgxMTMgbWU9aGV4IHN1Ym1lPTcgcHN5PTEgcHN5X3JkPTEuMDA6MC4wMCBtaXhlZF9yZWY9\n",
       "MSBtZV9yYW5nZT0xNiBjaHJvbWFfbWU9MSB0cmVsbGlzPTEgOHg4ZGN0PTEgY3FtPTAgZGVhZHpv\n",
       "bmU9MjEsMTEgZmFzdF9wc2tpcD0xIGNocm9tYV9xcF9vZmZzZXQ9LTIgdGhyZWFkcz02IGxvb2th\n",
       "aGVhZF90aHJlYWRzPTEgc2xpY2VkX3RocmVhZHM9MCBucj0wIGRlY2ltYXRlPTEgaW50ZXJsYWNl\n",
       "ZD0wIGJsdXJheV9jb21wYXQ9MCBjb25zdHJhaW5lZF9pbnRyYT0wIGJmcmFtZXM9MyBiX3B5cmFt\n",
       "aWQ9MiBiX2FkYXB0PTEgYl9iaWFzPTAgZGlyZWN0PTEgd2VpZ2h0Yj0xIG9wZW5fZ29wPTAgd2Vp\n",
       "Z2h0cD0yIGtleWludD0yNTAga2V5aW50X21pbj01IHNjZW5lY3V0PTQwIGludHJhX3JlZnJlc2g9\n",
       "MCByY19sb29rYWhlYWQ9NDAgcmM9Y3JmIG1idHJlZT0xIGNyZj0yMy4wIHFjb21wPTAuNjAgcXBt\n",
       "aW49MCBxcG1heD02OSBxcHN0ZXA9NCBpcF9yYXRpbz0xLjQwIGFxPTE6MS4wMACAAAALSGWIhAAU\n",
       "//73x0/Apuj5ZsudRT0hMIrY+kgovVjs0DJ1AAADAAADAAAFnee2pBQbyohmAAADACxSxX3sBQs4\n",
       "AEV7FD4l3xj5dUbRvViDLfZe2XW7TzzlyVJjNguRnjwkGmRQXpUWf/YUh5kXpDNgCrTG8CAT4tBO\n",
       "xBlZLEXcouc2nZYxkjddXQCY5stP8n+6L/G3xPLqd+N1+ntoStNwFB+zSOXQz7haY4dmAc/N4+ko\n",
       "aLZRgfUdmHLAXMGtUpeO7Ha5UOEIcEQoIKvi2AHG9BM0pm4+z9a2CiWSEAvn+SUUaxhxKR/fB9Bv\n",
       "O7ACs/pQcRoehCYU6gSdrUdyLPSWkvPwAQgGOLsLEmYXapEQo/iUdC3ytFrvJWtXv7oTIqAe+xgh\n",
       "m/C6zPUvkFXNvXo1U4iNFgxWlAJywNyhdAv9MKuDnnd0pRTk/eis4G0mrLYxI7W6cq/mFeg635X0\n",
       "FDfuowGNC+BlQ+XtG586zPX/KscLZ1kcpaJcNCMq/dIM/QJrja+5hS7aulppXgOznjojptelAGqU\n",
       "9Ag2g2XFYiShffq3v/1y6BS3vjU+ey3/qTN1Yixb6F585wevGg0E/aV7QJTVqfNa0EfSibRfPm+M\n",
       "O2jdo9mAm96D4itnQY71oseHltQZKU6qK2bIxunPOTFPrd6LsVGEzpxsihcdcEUjAPpdHDiwEcjI\n",
       "jIcKhRRsEmRTRo01MkLGtj/yuDRuw0ySkwRWx7mmo9FwnPhBd1/wXuf+G2cTYclYuerd5ItEKVA4\n",
       "UH2T+DHhbQU6o4VJxxmewYG18WqwNt+XGqaXX/JGQDOzIYLLqXSKkvUWU4Mh5NlAMysaKWZrvebD\n",
       "DoFflPUlVEC15vlBp8bGxf4hwc4l6WUBkabM/+qv9OJYQPof5xoLgkiGTZUA3e6v3nI6+M2axyZM\n",
       "Y2uSxwxBRStciDmkn3hi+qfXVuHwpADY17DPRV7x/ksiqcxOcVKoH+4eUWp5OHQ6KJWqMBmyxJtH\n",
       "aMmgIlnjS/eDdyXNV723+uRg3ANwyJwGYVTVVbRZoxwmglzk04IGi4rQPnhDiXan4qhzbHQV9wFY\n",
       "vqFG8GK1xbJV+bljW4rq+eNVwNphpCst817FpIChpsT33KkA+UHbAFcaVE+3ChIqFUphnd4D4vwy\n",
       "qurpQ5UONHiMeUASah3yCAtgPzEfV4E5sJvnyvHfIYiX6BR+WjOOx7rNOlavdr7cOEVM7PSqEFoE\n",
       "SyJ05EEZelIL5GutgHEdcWQKCpRoDNq2Uwi958E5Qc9Nbt2ao5B2j3gcy/sbKurMs4DPzbp0sjhs\n",
       "rcusuBCtw3n0ETLksKdQg42m8c+zv3tw0uj6kSeaJdrNYIgY5Yb5b2OQSrYKP+RtAko6DNiIu7w8\n",
       "aIuHpCqq9QfPJ7fRDQMYnZeT0BoYUuG0bJbFAXPTJoVBhremExMq28ZnlNHpN4Omps3Ano6srQ2B\n",
       "+7zcRxk20gHYnX3DdTYGv8QoA9goQfeUdqmrfSrHDlHtPeHc4wK6pWr7EbJJJtrun1rj65ngnE8i\n",
       "g8euu2rcAo2ezAXlsSV74ZO+ePx2AvsO+zRDwqkz9pPEN9nFacQA6r44eVWAh30fiiTBQ60FnbEQ\n",
       "tnViKOMb8epOp3Kgjs1bSuqNyuGaIMzI2fPvtsrMI2AfaEeBroCgrEp0R5R+HQmw/Z1+BIGYuw0N\n",
       "UlPsQ8vUeR5A5l3jnlZzZA8hhVnye+s/ldSBaP4/EFPU3cAJdgPXIZCnGs8B4dbhO2F8Bwj2zQIF\n",
       "rS6+03qyb8x5XkGRvXVUuXFEgi2/j2PjdrjgRUbotbhMFXHCHIzp1ZzW1//hIN9+QRWU0GpHg0X4\n",
       "3Qm16yfVB32rn/0XH2lBhnXmZpoQT2AJVQIvdICRScZbzH3/TCR7pFI/uj4P0I0b73ZHBhwzrlXe\n",
       "1kB9txWr4hgEwiRJvy2N6cUA0aqIpaRQHSkqQKe2W1NBiLe1VZLABv6EeAr0GnyE4OnwfRA/9zFS\n",
       "q9r6ZwSAghAtiqnW8h9N5LI8+MbwWfSBrdgBaE+dEk9dZw9jaasVDNdG42m5iDg2RAZJLu8aO/eX\n",
       "3TKrb2/pWs5Bs+JlUSiR0/4BnJrH5jfrCfwAAAMBeS53yMnG8ptOUC2mqhCJASQYiv8xxna1QbDZ\n",
       "kUfwFgQdbi4oDUWUS4kkG41W1NsgLef9L2llHKIazaqkRYWtInIrpp9eS+KSLfe89+Zod3VJ4t5Z\n",
       "890QKU+KkllLolwzNw5eV1s03HlpDfqzuRgGlryZw0fQeThwqlkNFs7fJ25wn32n7AVI0K5cnAJt\n",
       "QBXGxG3E6oYPiERFTWpIPjw6lYwxv4JihCZU2Np2KtCzXMVA6lQzWgrNo4e2RVM+jWytqM3xuK7S\n",
       "4zpCfWkX+LzaSmWol1VxbxyCI9cDpMqpVhec8Kd1SbquRmpnsjOqN16pY8HyJ9JtB7sYCIZw85zY\n",
       "a3cyp4rLW9ix9QjE/VYHrmzXGNQCgySzITgtFE+1kZ3jbWD5Y/mK1cV5vTkmJkTrJK5CTp3kJE7w\n",
       "XzpZBbMxoLaRUo8QgAABSomjbQ2hBMtLPGWlKQpbO4rdTZ6mjeXp6WQp4sPnA/HWuBPu6JSxBWYZ\n",
       "uJEpFHYNln1T8Y49dc666dXHFIUPLUuL7w/RbzMbfwxsxt9m1nyReBpC2Pcir14SmOy7VxxJb5bj\n",
       "CAXl1ChpIiu7EOzCBeGX1L+5aGysnOIgyiuOOGKXiNyhe3m9ntx3WrGLULXy2lUNhQ1xIOoqMsLo\n",
       "471MsGHtvU1JxiqrH1wlYgRVTNjo1cLT9gxhUmi2irIdd4VYw+FpvByCB2BAnf/9ck9sZaXqONAO\n",
       "AuxpzA/TGp8Z9nJ3KdfZ0GktZfba7pLuVBBIZA9ZLXX2Zvx8YXYKIak+c+l5tpFBDkklZBN5Z5uv\n",
       "6TrkusK3iidpLP2VcejIoJYHQyPlzwlnF43uhIgLqURkO9YPR6TpaolttFo+hWo1MzmldOH2gAAA\n",
       "AwNA6FL7qb8VWAL85Qpy2vfAxq74yYNkZPmJBRYL7fkUtsV94cqdfvyzAOJxjJorQADDtxgoW3tx\n",
       "XQfECF+NU9FiwIHANLOftSdajjRrSPWHBUxlwzCKdYRXzW8GSBdZ8mdv3cnzviikA/8ggnj0fKAH\n",
       "cLOmc10TccibWQu+qIF09FA34fkGNQt6OzswNcp0wBNmyes9tdrbtjpSmX0WbMACiiFx++DF3AR6\n",
       "WXp2Rene/ZQL3Iuf6TVmh6Cmqtnomx32YGXJagMgYBuzAzmp/hW4NtSfyOiJz72NWfE7u9yJZLbz\n",
       "+ikae82NbTLJXPjt3tVpthaUFlZ7lQKJiudjCBkzUQJtOgNzMDF1kVHAfxeGHpZAtkTN3qDriOdB\n",
       "WG8Jj8Ka/Mwaxvo9d8+zkhhgoPUY7tjb/OsI41UCrt93VQPg0B7ltWBc8L9EMPvbcQWtaszDL0bL\n",
       "pnCOMGEKsn7BB1dnXCRIesx/dkjsRfA6AACWsH/9/nUmCv3xNi0k+bT8TGBDTKTQ27Wd2J/32vAJ\n",
       "MDuZSzy960BwWz/kQVz+h/44Sxva2S0Tl9e0ioMd1032pM+m29kP2KLqJ0v86iAR51S4ivadOaEP\n",
       "WO3zZRReSoFpxEEEvgAB5D8swFwZIIq6KFApr+gE196zHXR4LRaDkXhrVL2k9e70DXq5e914jUEl\n",
       "+zlCYAbVb/Eh3i/djytIJL35lFcNZrWingz4SFFoyHThtP8mu5RBmN4CRAwXsJ8/6x4DfdW/lD0r\n",
       "tyP3z1dIvzd8lo/VJ1g8r+FTUVyK6xGunkRVK5/mt38jfoMqCNyHaApzPtF4fYE/Yvl6hREgIUKZ\n",
       "sAGmvJUWijgevVbzF8Dp3AAAJiAvbYDy/JgPotAAACzhAAAAYEGaJGxBP/61KoAAACk9lbIKgEy6\n",
       "OL5JOcvWpzq9EmLikCj1ddVVhBu8Xki/QfqfnLCmt29zlj8Id7wcaXC3uZwI6EFXnAtr4+YoKGnk\n",
       "HLthdBPd3Q40IX1nfdkHKVxiwAAAABhBnkJ4gh8AAAMAM3Q6aM0AC+qHX9lG1gkAAAAYAZ5hdEP/\n",
       "AAADAHEr2ZIwg/7aVA/sw7tSAAAADwGeY2pD/wAAAwAAAwAl4QAAABdBmmhJqEFomUwIJ//+tSqA\n",
       "AAADAAANqQAAABNBnoZFESwQ/wAAAwAABWS00OYJAAAADwGepXRD/wAAAwAAAwAl4QAAAA8Bnqdq\n",
       "Q/8AAAMAAAMAJeAAAAAXQZqsSahBbJlMCCf//rUqgAAAAwAADagAAAATQZ7KRRUsEP8AAAMAAAVk\n",
       "tNDmCQAAAA8Bnul0Q/8AAAMAAAMAJeAAAAAPAZ7rakP/AAADAAADACXgAAAAF0Ga8EmoQWyZTAgl\n",
       "//61KoAAAAMAAA2pAAAAE0GfDkUVLBD/AAADAAAFZLTQ5gkAAAAPAZ8tdEP/AAADAAADACXhAAAA\n",
       "DwGfL2pD/wAAAwAAAwAl4AAAABxBmzNJqEFsmUwIf//+qZYAHHNB6SywVYAAAJeAAAAAE0GfUUUV\n",
       "LBD/AAADAAAFZLTQ5gkAAAAPAZ9yakP/AAADAAADACXgAAAEF21vb3YAAABsbXZoZAAAAAAAAAAA\n",
       "AAAAAAAAA+gAAA+gAAEAAAEAAAAAAAAAAAAAAAABAAAAAAAAAAAAAAAAAAAAAQAAAAAAAAAAAAAA\n",
       "AAAAQAAAAAAAAAAAAAAAAAAAAAAAAAAAAAAAAAAAAAAAAAIAAANBdHJhawAAAFx0a2hkAAAAAwAA\n",
       "AAAAAAAAAAAAAQAAAAAAAA+gAAAAAAAAAAAAAAAAAAAAAAABAAAAAAAAAAAAAAAAAAAAAQAAAAAA\n",
       "AAAAAAAAAAAAQAAAAAJYAAABkAAAAAAAJGVkdHMAAAAcZWxzdAAAAAAAAAABAAAPoAAAEAAAAQAA\n",
       "AAACuW1kaWEAAAAgbWRoZAAAAAAAAAAAAAAAAAAAKAAAAKAAVcQAAAAAAC1oZGxyAAAAAAAAAAB2\n",
       "aWRlAAAAAAAAAAAAAAAAVmlkZW9IYW5kbGVyAAAAAmRtaW5mAAAAFHZtaGQAAAABAAAAAAAAAAAA\n",
       "AAAkZGluZgAAABxkcmVmAAAAAAAAAAEAAAAMdXJsIAAAAAEAAAIkc3RibAAAALRzdHNkAAAAAAAA\n",
       "AAEAAACkYXZjMQAAAAAAAAABAAAAAAAAAAAAAAAAAAAAAAJYAZAASAAAAEgAAAAAAAAAAQAAAAAA\n",
       "AAAAAAAAAAAAAAAAAAAAAAAAAAAAAAAAAAAAABj//wAAADJhdmNDAWQAFv/hABlnZAAWrNlAmDPl\n",
       "4QAAAwABAAADAAoPFi2WAQAGaOvjyyLAAAAAHHV1aWRraEDyXyRPxbo5pRvPAyPzAAAAAAAAABhz\n",
       "dHRzAAAAAAAAAAEAAAAUAAAIAAAAABRzdHNzAAAAAAAAAAEAAAABAAAAqGN0dHMAAAAAAAAAEwAA\n",
       "AAEAABAAAAAAAQAAKAAAAAABAAAQAAAAAAEAAAAAAAAAAQAACAAAAAABAAAoAAAAAAEAABAAAAAA\n",
       "AQAAAAAAAAABAAAIAAAAAAEAACgAAAAAAQAAEAAAAAABAAAAAAAAAAEAAAgAAAAAAQAAKAAAAAAB\n",
       "AAAQAAAAAAEAAAAAAAAAAQAACAAAAAABAAAgAAAAAAIAAAgAAAAAHHN0c2MAAAAAAAAAAQAAAAEA\n",
       "AAAUAAAAAQAAAGRzdHN6AAAAAAAAAAAAAAAUAAAN/AAAAGQAAAAcAAAAHAAAABMAAAAbAAAAFwAA\n",
       "ABMAAAATAAAAGwAAABcAAAATAAAAEwAAABsAAAAXAAAAEwAAABMAAAAgAAAAFwAAABMAAAAUc3Rj\n",
       "bwAAAAAAAAABAAAALAAAAGJ1ZHRhAAAAWm1ldGEAAAAAAAAAIWhkbHIAAAAAAAAAAG1kaXJhcHBs\n",
       "AAAAAAAAAAAAAAAALWlsc3QAAAAlqXRvbwAAAB1kYXRhAAAAAQAAAABMYXZmNTcuNDEuMTAw\n",
       "\">\n",
       "  Your browser does not support the video tag.\n",
       "</video>"
      ],
      "text/plain": [
       "<matplotlib.animation.FuncAnimation at 0x7f9aaadfe4a8>"
      ]
     },
     "execution_count": 42,
     "metadata": {},
     "output_type": "execute_result"
    }
   ],
   "source": [
    "anim"
   ]
  },
  {
   "cell_type": "code",
   "execution_count": null,
   "metadata": {
    "collapsed": true
   },
   "outputs": [],
   "source": []
  }
 ],
 "metadata": {
  "anaconda-cloud": {},
  "kernelspec": {
   "display_name": "Python [conda root]",
   "language": "python",
   "name": "conda-root-py"
  },
  "language_info": {
   "codemirror_mode": {
    "name": "ipython",
    "version": 3
   },
   "file_extension": ".py",
   "mimetype": "text/x-python",
   "name": "python",
   "nbconvert_exporter": "python",
   "pygments_lexer": "ipython3",
   "version": "3.5.2"
  }
 },
 "nbformat": 4,
 "nbformat_minor": 0
}
