{
 "cells": [
  {
   "cell_type": "code",
   "execution_count": 1,
   "metadata": {
    "collapsed": false
   },
   "outputs": [],
   "source": [
    "from TransformingCity import TransformingCity, LandUseViewer, PopulationViewer\n",
    "\n",
    "import numpy as np\n",
    "import matplotlib.pyplot as plt\n",
    "import thinkplot\n",
    "\n",
    "%matplotlib inline\n",
    "from matplotlib import rc\n",
    "rc('animation', html='html5')"
   ]
  },
  {
   "cell_type": "code",
   "execution_count": 53,
   "metadata": {
    "collapsed": false
   },
   "outputs": [
    {
     "data": {
      "image/png": "[encoded data removed]",
      "text/plain": [
       "<matplotlib.figure.Figure at 0x7f7e8f1fb3d0>"
      ]
     },
     "metadata": {},
     "output_type": "display_data"
    }
   ],
   "source": [
    "# Testing if random seeds for initial parameters remove some variation\n",
    "city = TransformingCity(10, random_seed=17)\n",
    "city.step()\n",
    "city.array = city.pop_count # default array is landuse\n",
    "viewer = PopulationViewer(city)\n",
    "anim = viewer.animate(frames=10)\n",
    "rent_start1 = city.rent_start\n",
    "rent_end1 = city.rent_current"
   ]
  },
  {
   "cell_type": "code",
   "execution_count": 54,
   "metadata": {
    "collapsed": false
   },
   "outputs": [
    {
     "data": {
      "image/png": "[encoded data removed]",
      "text/plain": [
       "<matplotlib.figure.Figure at 0x7f7e8ee25e10>"
      ]
     },
     "metadata": {},
     "output_type": "display_data"
    }
   ],
   "source": [
    "# Testing if random seeds for initial parameters remove some variation\n",
    "city = TransformingCity(10, random_seed=17)\n",
    "city.step()\n",
    "city.array = city.pop_count # default array is landuse\n",
    "viewer = PopulationViewer(city)\n",
    "anim = viewer.animate(frames=10)\n",
    "rent_start2 = city.rent_start\n",
    "rent_end2 = city.rent_current"
   ]
  },
  {
   "cell_type": "code",
   "execution_count": 55,
   "metadata": {
    "collapsed": false
   },
   "outputs": [
    {
     "name": "stdout",
     "output_type": "stream",
     "text": [
      "Rent Initialization is identical for case one and case two\n"
     ]
    }
   ],
   "source": [
    "try:\n",
    "    np.testing.assert_array_equal(rent_start1, rent_start2)\n",
    "    print(\"Rent Initialization is identical for case one and case two\")\n",
    "except AssertionError:\n",
    "    print(\"JK\")"
   ]
  },
  {
   "cell_type": "code",
   "execution_count": 56,
   "metadata": {
    "collapsed": false
   },
   "outputs": [
    {
     "name": "stdout",
     "output_type": "stream",
     "text": [
      "Rent after sim is different, which is good!\n"
     ]
    }
   ],
   "source": [
    "try:\n",
    "    np.testing.assert_array_equal(rent_end1, rent_end2)\n",
    "    print(\"Rent after sim is identical for diff. random seeds?  That can't be right...\")\n",
    "except AssertionError:\n",
    "    print(\"Rent after sim is different, which is good!\")"
   ]
  },
  {
   "cell_type": "markdown",
   "metadata": {},
   "source": [
    "### Exploring how city size on a 10x10 grid affects creative space"
   ]
  },
  {
   "cell_type": "code",
   "execution_count": 58,
   "metadata": {
    "collapsed": false
   },
   "outputs": [
    {
     "data": {
      "image/png": "[encoded data removed]",
      "text/plain": [
       "<matplotlib.figure.Figure at 0x7f7e8ef30310>"
      ]
     },
     "metadata": {},
     "output_type": "display_data"
    }
   ],
   "source": [
    "# Testing if random seeds for initial parameters remove some variation\n",
    "city = TransformingCity(10, start_pop=1000, random_seed=17)\n",
    "city.step()\n",
    "city.array = city.pop_count_cr # default array is landuse\n",
    "viewer = PopulationViewer(city)\n",
    "anim = viewer.animate(frames=10)"
   ]
  },
  {
   "cell_type": "code",
   "execution_count": 59,
   "metadata": {
    "collapsed": false
   },
   "outputs": [
    {
     "data": {
      "text/plain": [
       "array([[ 1.,  1.,  2.,  3.,  1.,  1.,  6.,  3.,  3.,  1.],\n",
       "       [ 1.,  4.,  0.,  0.,  7.,  1.,  3.,  3.,  1.,  2.],\n",
       "       [ 1.,  2.,  0.,  1.,  4.,  0.,  1.,  0.,  2.,  1.],\n",
       "       [ 0.,  1.,  2.,  2.,  0.,  1.,  1.,  2.,  1.,  0.],\n",
       "       [ 2.,  4.,  0.,  2.,  1.,  2.,  2.,  1.,  3.,  0.],\n",
       "       [ 3.,  1.,  4.,  1.,  5.,  2.,  2.,  1.,  0.,  2.],\n",
       "       [ 1.,  0.,  3.,  1.,  0.,  3.,  0.,  0.,  5.,  1.],\n",
       "       [ 2.,  1.,  1.,  3.,  0.,  3.,  3.,  1.,  3.,  4.],\n",
       "       [ 3.,  2.,  2.,  1.,  0.,  4.,  1.,  0.,  3.,  6.],\n",
       "       [ 2.,  1.,  2.,  3.,  3.,  1.,  3.,  0.,  1.,  1.]])"
      ]
     },
     "execution_count": 59,
     "metadata": {},
     "output_type": "execute_result"
    }
   ],
   "source": [
    "city.pop_count_cr"
   ]
  },
  {
   "cell_type": "code",
   "execution_count": 60,
   "metadata": {
    "collapsed": false
   },
   "outputs": [
    {
     "data": {
      "text/html": [
       "<video width=\"432.0\" height=\"288.0\" controls autoplay loop>\n",
       "  <source type=\"video/mp4\" src=\"data:video/mp4;base64,AAAAHGZ0eXBNNFYgAAACAGlzb21pc28yYXZjMQAAAAhmcmVlAABSzG1kYXQAAAKtBgX//6ncRem9\n",
       "5tlIt5Ys2CDZI+7veDI2NCAtIGNvcmUgMTQ4IHIyNjQzIDVjNjU3MDQgLSBILjI2NC9NUEVHLTQg\n",
       "QVZDIGNvZGVjIC0gQ29weWxlZnQgMjAwMy0yMDE1IC0gaHR0cDovL3d3dy52aWRlb2xhbi5vcmcv\n",
       "eDI2NC5odG1sIC0gb3B0aW9uczogY2FiYWM9MSByZWY9MyBkZWJsb2NrPTE6MDowIGFuYWx5c2U9\n",
       "MHgzOjB4MTEzIG1lPWhleCBzdWJtZT03IHBzeT0xIHBzeV9yZD0xLjAwOjAuMDAgbWl4ZWRfcmVm\n",
       "PTEgbWVfcmFuZ2U9MTYgY2hyb21hX21lPTEgdHJlbGxpcz0xIDh4OGRjdD0xIGNxbT0wIGRlYWR6\n",
       "b25lPTIxLDExIGZhc3RfcHNraXA9MSBjaHJvbWFfcXBfb2Zmc2V0PS0yIHRocmVhZHM9NiBsb29r\n",
       "YWhlYWRfdGhyZWFkcz0xIHNsaWNlZF90aHJlYWRzPTAgbnI9MCBkZWNpbWF0ZT0xIGludGVybGFj\n",
       "ZWQ9MCBibHVyYXlfY29tcGF0PTAgY29uc3RyYWluZWRfaW50cmE9MCBiZnJhbWVzPTMgYl9weXJh\n",
       "bWlkPTIgYl9hZGFwdD0xIGJfYmlhcz0wIGRpcmVjdD0xIHdlaWdodGI9MSBvcGVuX2dvcD0wIHdl\n",
       "aWdodHA9MiBrZXlpbnQ9MjUwIGtleWludF9taW49NSBzY2VuZWN1dD00MCBpbnRyYV9yZWZyZXNo\n",
       "PTAgcmNfbG9va2FoZWFkPTQwIHJjPWNyZiBtYnRyZWU9MSBjcmY9MjMuMCBxY29tcD0wLjYwIHFw\n",
       "bWluPTAgcXBtYXg9NjkgcXBzdGVwPTQgaXBfcmF0aW89MS40MCBhcT0xOjEuMDAAgAAACpVliIQA\n",
       "Ev/+963fgU3AQO1rulc4tMurlDQ9UfaUpni2SAAAAwADjh6zXRyJfwTsJAHKKyfUHESnzniLA280\n",
       "B6vYfo8su0WZ/MAQ7mWZgH1FVD8iw3O0Gt6pbg+SOWpyrjXLVLa33dJb6ODATN2/tFqXP91b3pfc\n",
       "W/6aLLbDkHgJdkjry2h07xUv6ZGVF2xQqPmV4bBlruZZplgxy5mKXiYn7mwh5swPZpsbfDsMpaGZ\n",
       "p5hSDTLDsBeirARVx6so0hDDbOtys+6zWXQADqgAxYLEpfemQpv90Ax5AnPrkU8MNxQJqfxKzLld\n",
       "bQlAGZDWrk6EHOgWMBR+z0bUwSLXjgY+1WGG3V0izvAV5g5RVHXVz9l34BULrwtaWl3B04gpp7vf\n",
       "cL30plbtdBfnFRAApoBaus95pR4FMhOsWBLq+KbLsk4i63BrA7XFgDqA/D+5oIv4yjYWmfduV5OC\n",
       "+EgTewFz1SZcOrRUI0bUWleOPhuBMLL+YGM53fwKqSsZwovNU0BMV9CXFDur4qryg4YQe4FeXFAd\n",
       "BTtmnT3WTwm42QEP2GN3Asxd/NtzaKSDVpFCIT7P5aczJsJDNBGccKCzOadg1B4nCb7nBccH9fY6\n",
       "hBw/QoIiemweKSMpEDwsp8zSH6VZuF3gjfNlbq1Gh2N31pOL9RWcUSZWT5QfzRuD2YpMWa2cwxwC\n",
       "W1hwgi4bj5+36mNUKXidqPRTVXxC8vuEFKhs4NpV63G40ifzu25rL0+quWyfrNmkWAoLo1tdvhaq\n",
       "wOm0/hM1Jzb+N4qt7vvw5Pek4CQE50SUBW7JSSXhBJtpxwzmcIbAAlGAtvtP59IXmGiSopUg2qJM\n",
       "zd+vMpPye88ekHKrdxnP2GNsjYWwvMHj+YRzWEN+FVaeD8hBvq4S3QJvtJvidzohpaDMoG5nOv9Y\n",
       "Fg+ZYgt+kUdcln14lHLa/654Ybhditi01I+R6yfeOxj4H06puh/kYNaKxmBFGbk0HKXiiFXnGnWr\n",
       "9Ed2AzjMGXP5tczgN6I3vcEOAxUjEFGAi/S09F87D3V7DIiu3QpbEQiBQSYV+xgUd5UFp3tMvKD+\n",
       "jYzoriNQXzR+QIgLGURC9qbq+MN4xvckQnfRqUoMYpJp339mD9O7N+biphCMTMHAltrHbMJr0JXO\n",
       "I5dDlPxqjhHElRS/3yfz3b/L6tJXPVPICDyA2To8dEAKEHK+mBLJJ5h3ZSP9tI1/jDQ1qYjBdCP5\n",
       "hy/ZhilKVYG7R0JO7oBwkIZe7n1tNyCGx+ot+CgIkxHU/Ty2wzZKVdcW/pDVpFSPGuRZNJyfxrpM\n",
       "OD2wuawmuGUGjQnf32obOKcFPMmbeDW1BaXPEypvH2e4OU9GgF0teAOyqqti9bzu78/Q1yCcBeoa\n",
       "56xKuLzLc/mc9XnrQ3BrJc+QThpR3znbRGfP0GFqHqYvQdtwfcxsKpBt8a3dDcmAQ2xbPMF+pqvt\n",
       "k6hWeAO1nByc4rS6P/2jbZh279qBo0K/yk58r3rDpHnzc/EAfbL0nHe3KGHhMKVSrZEekrdJcZK+\n",
       "zui6ORY7ZwVaTlL3VfqbPZIxxl+JbA2r8Prsx8ytFdKiwh87/JoAoc/d4FV+8BLJ/wyrF29YeW0+\n",
       "tVLwtAvgOhdjthRxWv4iUe2z/wv8yG2URxYKEbZCDZD3NAS9olwPGKNaWIutw5zJ9kKepEXBTJLR\n",
       "6BHWfFRHppH3GzxuhhhTH6j4nLjPj5LY1jN0vnN3o2M8QlRtk8ZffA6JoQPF+F8WOcP85UoiLB/T\n",
       "sT07XNWddbJU+LeaG801lYfu0bNklANLNL7BMf3XXpXJefO3kAYu3yWzfD4qm57pPlXdtNGDtJ6S\n",
       "a3fgeXJBUpwZgVrkLSvEwB2ccFeJII+v2aHpv8uAbYGwYF95/4b4jBhJqDshq+LOl7fiA5BvZvwT\n",
       "DHW38CnNmAsm3WmkjJMaNBt66AqNZygXIGlrjnuWkbX47d3mGPLC0pWijicWr5fvmSN3g3GSEkaZ\n",
       "KDW9vvJDUOOCciZWhNwCASecDfwu0McZFRbP9vAlCj8tO0y5/Q4zM2ahmFwL/CHYRPtEHrjiSfT8\n",
       "2n+QuHP+v9iqxGx1oYOJnkhShOxFB6tdN43Iy9CdhUNGAtUuROQtEMdP/GKg1XkbdNob7fDNHMOB\n",
       "ory0ocFU3lTgTKWnJQoKnTgd9HSISz/0nxzx7FRNL1xQSV1h/MGynxyXhx7znBBTgd5Vj0TwV3gb\n",
       "Ht0opMCRl74Kc6Qpq2BAZkrj61CzbKb1d3ymTSpZh0J7UmnB+iB5VozuS6evsHYxqUUdmo0R38P+\n",
       "AckcfbW3uKEBGEZOjrBz4udaypY+vHshgXGWn1boWsf8Uq5EMzqPEN7is0WXF0gVY49uOjQS/Q28\n",
       "labYwKDhfwn/G6lL3i+PNxTBG2y3NPDzG26KkzVJZxuBuvYQheEP5basy3km8v4uMZwXdlRMgBgQ\n",
       "ln0M9HZxbtbr8nG/bLma4n3glx52ogsYHM6Iz24uMrl0zLB2/uHGPGUr33GPBQvwssQvuWqJ2GaN\n",
       "Ik4Gm1BVZ/9Vaklpya//deTHLWYHeiK8oy9h/nN/ZJBdf8gjmAikNisnUK94IvJwfK7I2J9U8u9p\n",
       "3O4Z154aIant7H1LmpXuJFnF1gHayC05cRHzoGqe3/1MHjb/OyscpPAJAlEUu6mbp1SMsKQItrJs\n",
       "Si40VgjIqpW7ITaPojqLAFYQ4wNJtvKx78WkU8+U+DsFnhD0l00EQKXaDhKcKGKSH9oLpG1rmKuy\n",
       "o5XIUtVu4dGJt0kQuKYwEwCnzyyRL79heL38W4PH1Zn+GDrSEmWUSdJkkUSDRY5z3F/Qj1RfCx8n\n",
       "OvCXzHaqOJMcXo4YU38odof/eZrIyh/nADV+iqvKdCMMcEvY7/wBeUZ8De4jIgKRIqr7puAMbsKR\n",
       "AagfFthPZFokDS8gepsPsLxpMkxnBFmlyXGg++jeAGzDk/he38E+Xih/Z6HzQK2pz6Jz6JbVWsPR\n",
       "c6UQWLukr/2LA7wExa9DE97hLRBIJPo/a+wErrH6Z9o5SRLzu+g/EGHM5+bB2QBES5zbb/r5vfK2\n",
       "WPofrmInSjTrklSUUbz9hviITaX/BurSySYBD2UMGpxsKm1atmP+PLDH9fcxM08vrgkWkExe5Opu\n",
       "o2k9cWlzCpKmixTVLcRiR206xR6S7Bu8msP7gWQNmHLPiV51UIVa+uJHCBvS8utHUFHwWP1+gWAV\n",
       "2Su8D4BD0vvbWFII3HjwhhIEqB+8H5aUq1A71xm1qXI/iCpZgLxkmoqK8rQzvDVe49IioaLh++Z3\n",
       "55R14pyfE7QO9SYLXQAOTKfEwbyMoRzm1QU25XOXiQkTuNoGoY5aSQ3TJJPtfga8FVII5446L4gM\n",
       "mhbYTVKGrt5bGAe4HLiuMwA7S581sMC4g6Ih0iCV9VYj6Eov3DERNRtw+RnRKz8Lf6h6zOCssfw3\n",
       "xnQmElfP4FttR79nWf62+9EtSaT/CGDfanUzAhEWebbz56LOpu2lw0aYSDa6lOVxh0Zd44JB9FjV\n",
       "93PcSh7yYml2hP2E4kwLMvzfuRr6xnIVRJHQjAEo4EW8dPkE382H8sagXxks9hxjLGk5kyXW7Fc8\n",
       "nYz2DBmn9LSYEhuQAdAd+dh5MR8wDP27BOUAAAlrQZoibEEv/rUqgaBDqAHS2kwj/o4jgUTnR9A0\n",
       "Dg54d3Jf//kMjseuLrsF1iaOrZGJRcUGU/PgyU02MbRaxXHxa66CIgcfsJKtdRD7Y8bewfXY5bjP\n",
       "iwF4iZR7O95uTHxdNb4D8cH+6Yw0udhn3OKsSHgNTVr+HiefSc3ib0iP59LwxmY2eNhFdZQRF0FD\n",
       "uxter7JHMlgkFeqV6Z3u87IcLghZf3i9ONsG8kEunx44rXr+usbFnwd4ZYhBBWL8JTNlDfWsbJm9\n",
       "uw7EUVGFx70MHqKwjRRDH1T2guULfGXDGM8qlSlIzQ7sZPd9YamX9FSjafnqMErnU5piReg5+GLV\n",
       "oIHItPVg3KyNrauzCrpk4SY++9PbNc5PxWdBiz2cN9A650MmM+L+rcLoF6tgvl6AW2QRSRcENvVQ\n",
       "bgvTqL8zcGTIMEh6eSnv8WZ0CHxvAgFBvl6Z28X6wz2IsjZF6sAUSuVqlPQZaMszMWRAmorWeapR\n",
       "Ktcgykr+6VFKXkVMX3pgfs7zTuFHCzs5jajs4HlMOYvrN4NoyHt0ahC/a5xuFmlGndpTp+PpcP9P\n",
       "QcPAcj/rDfaspO2RVZmzE6BUR5tK/uPq5u0uYlMz650bhynBs54t9stwnRUFRy8bllJTg3GlAKBX\n",
       "LZjqqTosvFVemfZikDZUmH4ZWugAHq+srLy9WyVLwIjFfS/VRu7+SV9k1gx67k/6gObuF5ws7hxT\n",
       "ejG8/IcEYuSb2L4dIY9AhLEZ/85ahV4L/HLaVftrRq3u1aPnaclQh5yul5/WAgKwaw0NUPSBRKRe\n",
       "/ehwv3P8neUoLNkrHuXsfKN8ErpsONPNufxmpi1l5g8tKaAML+6MhdgOeEW57P3XZAsoJihcf3/8\n",
       "4Gg6qZFI0b4OOi4Og5obSk3da8E0XvOYU4zkHQ6H9kOGkMfg4wBXQZBX+iogedwsP8I8uzbo/mMK\n",
       "xuHx7wfCMwoFeZRpgS+KZiWKXskKJYFWwzdEOXUWyDqf9bcQ4awmEwgA2BXINN1xqcBDBqK+fo18\n",
       "m2wpd7wzxXYj2gzV4gpl6R/y1yW+R+zFSbaLkBXgpt52ELn5kvoYXe7KD7plQRi9Ssr2rU1/yRGE\n",
       "2Tcn0RJpW5PCWULbU1ULcU3KKeXnIut6NxMqamLOUFFuriP3MsPG4TJyLX/2mPjBpgQVqcugAoHZ\n",
       "AR8Ua79Sax24WJlLXFglLjPHYfxYjxi0qAdMALaZBbMDV0RtzBVyXrJwWWdlnXoXOdgD+linNSof\n",
       "MdEN4YduMEa2M+o6xasLNy1WJ372kYAlKr+r/BG01eYNqa6OUtoNvZ8pOMzv8p7ejRdrpOZiOx6x\n",
       "04v2JaUYCqE7vOcarbtw1bpYk94KKfi6MUQoGj2euAqVj9EwrltmS68m13QDFf80JX2RsxdmJhZh\n",
       "Zb6uTy8GtGSVwcjAjZiAwjHdj3g8Qxb6ygBo7dyi06jItsvWDGSjreW6904gCYE7pMBjBRN/izwu\n",
       "958yE6KJqAx3zTCSoVLECWnQ0UJ3fcJP94Nf/7BiVdnUhfRLUEjFZwFy05MkOZCWVh2x78BLgO5U\n",
       "+D+HtdGfxEV1KZ4DjgS8/igCZKNPPtfIbNYkJa8SFJiY+1vQAoeP0Tue8zMz1FkSz0p9wa+KvKgW\n",
       "Fz/R4lHNEudYNVQ9w7gPrDiYJ1UZmsLww+8Hwg3PpT7qHOqV1kp8yAYqtku/cvX++5m4JAJxS1Uw\n",
       "4AR3MTycD0/Ny3Ckt40PeBijeWXJy3Ycm9EAkrsSbfDMfISYHWELIa9DWHC9PEMWbdnw5zSdDsS1\n",
       "z4A2akquSL1iHgJmRdglGWGOPmeZqS7CrtjqovNk6VrWeqAjOTYTvIhb9sWIj92LqrpgUMN/jWBv\n",
       "wvO4kk5EKi6iPouycjqybQnPrZiUNEB7Pc5G2BFRrjNzxzW3LPx0mHCysjKrt+DNFQc3H/9g8N5/\n",
       "ieBgbBxqgaKkJ8Jud0eIy8xj8sFBEB0MFe9xvCgh+mxDdBe/+wgTUASv+j6bNFhCejGyMNAqSzsh\n",
       "IfH9SMxIg8VCqi7CxEJTMlUztRoQ6nI5wILfN3JQLf91P3fNU7fecc7jEOrcabQoqIjBw3MuiIPx\n",
       "Ew6Vxw6vipgps3/tcwteWydrIW/1T+dYMOr6yO2vDEXtJZ58AGgc7ObospDPy1GbqU50PHUud7sG\n",
       "NwGQCF42ddMS7s8Pe/FZv4FO3jCUzlTX8bIrTGEZGTdGpBBbZGzDLlu9yL9gb1uSXqpo7xuYItC+\n",
       "1rqKOxSWnTeEYKrYdDuFEj1xld9UKT7Uu44ibdbhoDt5rGs4genyjIWZn9rpKntDAIolqOw/5qMC\n",
       "5uwtCoWlZoDY5xOuiDLsGleH2z1hF4PWhjRsviRJIkGtkCQMhUcodLP5u/EMLIjNKXBH9HBXdVzO\n",
       "N8bYsboBFC++zct3xhJtKqqIn3fXPwm3s4ARRJM3VWdBsO4reN/6kCWZojtRzpJuhwNZi5r3/BQ/\n",
       "1W14kbMzXyUATlLDHKQfZkIRIoILM1bnApQvMWaOv/WPxu+Tfh3eFgDdJTg4HQ+VPEhPd6lGYSsA\n",
       "m01owWoBfuzhdROvJ2bpeaSU8d+2r0cpapZNZBWOAlnS/TZrcG0bL3LjahNZnyUUwPkb+MhEfRDP\n",
       "fuxV9JNDWQeWQlGBXKz6bIhN465p1RbTcJa4DNlRn7y/U4Chu3FW8r8Lm6RJLov6K9a7PGt/HnWY\n",
       "9a9WoFsTTfjZEgP9sKaNLNrQMukvZO8rNWpRTZaRTYYTgkBAZXJM9g+hIyqvkXTFxSS2pZbnBje6\n",
       "pTXIusqQTFiATABHB7tH2BirEwR4i9qm3AeSdgv9TIuaNd3OfzflRN5g+6PZ60hW4KO8bcNI4Qmj\n",
       "drJWtumLTdJ8DOKn49DnPDA7bzS8yF4fbrPljKQmaCHojp+JgSMHJQqoJRBusHAQbbXyEiKVlQjY\n",
       "YKq6ph33s0LQoQS1vTblRBcbAv3dCDXBlYBLMUH3BfnHmgGrP8XkzK3EccD7QrawUrs7q26wHZPM\n",
       "Vi825opp+tXmLHuEYCGc4U3O2t4/lMrnDKVG4NYFMBSNXIM0qZUCw6DCBtp1qc1Efp1dgKwZDadq\n",
       "QQMTclDshsVwg8RwdD3ChAhe6Qy3Wt8wDGQUZs+iyNm9+m3vy7GOXce4bLm4u/Pcvrk+YtA7FhQx\n",
       "6qausCdWEXFfxCLkNtVaJTkLKtzjw3kmn9iGKLBKK2EIAAhzR+MLoU/IPyq0CfMAAAgWAZ5BeQ//\n",
       "AMmJctpoAPYOh81gV6tx7fqEHrzkc/9oJX1sL9VYDM85+wnFhpl73Z6sY39vxZLRz/0NvsCpsaFJ\n",
       "NsnBplfdOXyIl2t0Hnk9d1cggD/4dztkIQ+jhauXple3grZy+M7C+BtBpz59zj23iigofezsHbk/\n",
       "itmWBjE6aRVOQqkC5hPWXAWVxDCvezGe8Le0lZRMm1FWwqzqLAnFk+iW4l4sD+j4bNIolVW+6y63\n",
       "sWrwOpUplhLToxhmMa49s27xyYHwD24r4Qv4PAAA7z6Xygmq9XXaVk/i7EufbMsi6iew6CBZ+1EL\n",
       "wS86r0Ppkl6e96X4OLpHEewx8tDhSRbTey1T3qESwETRRZskbOaf0iP0ecTC977wdF3PM2mwYdRz\n",
       "/la27cg6PzAatHpU9ZlHVmUSNWxaciwsDGwF8vOTufnU5954KHMpKapAG0c0S2ZIcBN/p85F3Ahy\n",
       "nArPq4UXLxYpAaEDywD563nfdT/fUTdNURv7VVWZTLbM8U2/57KvS46BSI2zjjgv0tEJ8jMUCkXx\n",
       "UkoxaIoL55A1VcgxUNZwCiH1d9i+PZxkdrjSSce190lxZIkf6asb94otl5tJ3y00CnUcTPQMueF4\n",
       "35rWNUB74Nb00mYm2LY1+gvsbaj9ne7cELprCUG4ydsLMF02EckYduyYkfZSN84BGb5KxFVo0kzi\n",
       "SmR7INE2TlM3808GtPy2KzlvGshHfZF+PGsN+ee33pbTE5sOXG+PrNWYozKomYPygR3BnPMhcHOn\n",
       "h/BJ0GV4KUd5oL552AgKxPAjLYWXvPvIV7bBQEG4Qf8r7ks0smchpZ7Fp3NIclbMSHoka7Yk7q61\n",
       "4ZIRuT3FeuOrHeXDn+M1f1puc4VmsgBfuaktdP6EBG1G0LxqG2Cur3xizoXYLg8u306sRTREUCZ1\n",
       "0C7BLZvf3Vyf6Fy/DrbbfgIHke0hNUj9Cv3iqOBYaZ5eO6zHuuvQ2CRgKLRFPVkcJfgPboDPbf0K\n",
       "np3WNXJcJQDB4F0TEnm2voZDn9aM7cXQPCp5SByU41O48VB7Z70Ku0YTKjiFiS71LWeg0ZEqMpCw\n",
       "O7TCzTDh9Jbwe0U67CfxMAN7r7ej08NTa8xV/Tc9tP1+m1QJNUfyV0a61nypd2geyYZmQ6iM8mJl\n",
       "BRocnn2tqVaB0P3rbepKrU516sbmLYOgkwn3ypQPPL+FE3WNWJ9HjZyAD6w5gxC7LkEvHQpF1iX3\n",
       "Ah4otnbh8aWhmMiOvM6ZXjRaDfkGirO3qTLD65+oO2UzGWY8qpHEsXT9HLH4xRqYQ4qrUe4QHD5r\n",
       "j3BO31NKT+hDA9E+nGJw3T/HZiB5qT0jTJYU+Liwt4XDvfcNaEJb8PKTyRS7wfWNkDg3vAxpBDc/\n",
       "Vp6jOjUNWnjIq6GqcY6ZroJu4LpfeotHTtSq/Vo6r/V3PW+VXo92s+Xj+MQRJJrByXzv/F9aKHak\n",
       "FNiIjOFndhcbhVFtB8Elv5U0ATSsazMVLFUMz7H1zkEYc7a7tWv+0qO4n7irhtDKdJlUwmd/6PwD\n",
       "hk/7tVLeBB8d/HjRv/tGDX2/5OmC9kFGhqw6rQ1n1NDsu7JpC2Z1/zGg53waH5lygWVqeg6AF6TF\n",
       "6cp2ykALEynJLJORB1qyYKoh6BNkzqXYwJXptiLJak2R9IgsZAZD44csUqB3uhL0Qn6wCLGvp2vt\n",
       "Lpr6tg67kMW7NOXGTcLVdi58XieSHZgskWPenCZEuijxlsKIJs9H7pP3B+ecXGnAfZ/JT5lTDcwT\n",
       "mg+FrcWeWe0O/4WqpdkPYQ8JYxgku1cJ0XUDXpqAgT5n10cxXqXFgaWOFylF4f3UIJqcEyEy2vGV\n",
       "yzVa2tUDq/EBRmxKQhpdwdcMm19KpVFwy7EKrLfI5XfuvBy1d7Uz2fDXVKYG99Y16ETJUASH/uuH\n",
       "/USYyzqAvD915JE3iGqwzX6o7rxTQXnBWDXLFuea5W1myi18ky68dO5UymQOYHhLRnDPugWLCXmb\n",
       "BPYai0GisHFyUlVsn/pCizX2+NlIP9ml1LVGA9RS++KlA5IwN8DJ2kbSKbdcDZxDSYFhDTCNswUk\n",
       "Gy+ps0YAF8SqXvwdyFSm62SCBTDnptW547rlfmRePUTgnhSufK2Nb1LMTXROor0m6qnMZf5OR+LV\n",
       "qdmqqEObOXB/WPv/WHh+QWmzxQIJ5Ml2mn8T2Q22DyGrp/9V57Saya3TFgTjIKrve/iJiOi+WWc9\n",
       "0yuC8apqZUEU2dJa9DsFbpwZfZ2myEzzW+/zC2MpgD5xZCtWwaCOjC/ikubhBgyjkO7lqpwHlmLs\n",
       "wCO47guVGUwlT5HdgD2BrAX74rvmKrBYKNu7y2ecQ6yfriut6tlWcFVKe4Vw/tMSV3RtmBDiFcDS\n",
       "7ws9JYpFmly2v8MjoQ0SEcU58VTpblB6BmRRwjqe7Dfm8+u5Xdx+PBPdloMVBDXZfKna5S6PYgsf\n",
       "WRUcLaMsIRxlwr6nhqUZ9QmrPxNE4A/oOeBmaPSeQcY8fmhmzjNg+PzYRnC4nUvooD4QkVsWidGI\n",
       "qtL4dY1a1QSM7775FTXq0+iRQ4s+eiLu59u1rq8ZzTBuz/8hO6lTBS1HwqDxvbMgBEwDlmerU/r+\n",
       "Zl7lyHMZSaTaKa5Hf3DZmyBdK7mc8e5dlkKddw33xOD6Zh/EkPWKzpAGtOjVj6aRDD3J4o9Sqtqh\n",
       "NLXkeMkWm8LwHMamaV3c6tupumVc+IUsLOLmH76NnAZlj+vVvQsWIKg6r4CoLoCV79NYJJaxLu4d\n",
       "aYBYIYNoTL7mAE+ZAAAIbUGaQzwhkymEEv/+tSqBNt7AWFsxnv1/AABv3zdRN93W/jXfOzDO9NAJ\n",
       "f63t7QHuJ5WFAe93bYc4KuaGBqTjZGH4Usq5Qi5iXcp368L7znxmt4A0cTLgTy4/Pgwbzfo3W+jH\n",
       "FrpBt3R8w8Q3DtfkRQcmvs0cICQbdzFheLCzf+MZSm8Tj/2fzZznL6F3zeSjO+iP6E0CKulmZ+z3\n",
       "r6yif5blM+b2iTZ1b00iAz0prKDAvEhJ9VKRA18xdwVkNpiw1ukOaZgJnHkW4T2Vnjz3UxJdQJol\n",
       "WXsvTnbGZdWJjURAU+Uh5RlIJfTa6bX3mu+HUbmHrkB7jQkK1ZuZx4+ML4RVMq5SmUVaHkAGsmW8\n",
       "qhdcKEIeCJvjU7Sl7wf73VhoyrNinKLuWYlImFwozN0v5qU9E3ktau7YhQtVZpoItn51ZJ4HfDus\n",
       "OXGM/nK6GG845iNIfclQgCHNPZ2hs6RRqliXXYHuYW6cMKeT2+fkrAUMeMYvVwgPsqQEqJBY5yrc\n",
       "scEUlVWpTiENbO2YvM+YP/69HWBWX6iJm49vNz7qhaYnFdCYeWwQS0HIelf3pD9OkyRjOB7rj2Q9\n",
       "w3xWVZSegeoB6DPKJyHg/0MUJJjZk8QOMHlZaY4AY7oI0eqWfNn3P9Ps+zm27zJSoBtT9AixM1kl\n",
       "OEhnxm49tKsTbo/tR0Yofc5eyAKSPy4Xl8vtXlHOuRU+Y9nP8+STe4UkWIm3FDzUQP5cY1F5z0Ki\n",
       "/FeAOZgkv0XOD6XwjJAuhFD4QX+4BYAAkTZ4oz+6NAp5U+OvU/Q0BpRdjFXTjBuoQ8R41uV1u3Mm\n",
       "Ohy4JFjZftp5lhvSU0ooQcoNkvMib1NCT4GKZ+25w8J3h/r06eWii/djBOw/thYGy2a7dIAdAJff\n",
       "RK385PHaYwNJ+F3Gu+6l6tApahR6ayIPBY13CHLz9JhV/64mUhg89qSqFgzQvzJqpq0oQLypx+TA\n",
       "ebNzlxM6mm0Is2JBJ80Yk3nXxHFfJdPExzrP/e6nVDK2tCwLd/3/0+amp5jW3v0lF46hvQV/tsEh\n",
       "6DC/VGFUihNY93QqiiDTZAgw4a6nXkB8UUjgxNPoYOEXPEGL5JVwEXPIAX5CCfrVGUpm62WQDe1h\n",
       "m+eticEt8uRFjr5RqA5wPLhpWyBAB/pvfq9WHEi+5IFgwau+IetulJqtWNF5FflzJoa+uGMNCnPy\n",
       "7Rj0UeZok4uh5NNtrAU0c/wJFDB5fw9DznMICHOeRdW2vl7isJSIzQCUjEDZhSwJPwo1ZoKkNQW+\n",
       "50p29bDoV9gNn2pqCKYIdwLSYS7/UDLxh7oMi64PGM8ae2+hbpVsomWCXvhn48gPNH+lPN8SeXcA\n",
       "nzmsU32nQZs1KPZIe465KeqZ4n6ft3cs6mg+7LIQLkF+GOrhA7yQRJ26kw2hSUB8lwZbSntbci8W\n",
       "jlH7c8nsez4MLrX70vWVWFBA06ZS12myltt39VKpw83el02hMoUMGl4t6a3oiCtm9gxsQhVxNT0z\n",
       "wgYlVDd75z/HlMQTT3K1/W9Ox4tb6xDCsiii+BhGP3VtjAPpX6AD2S4znPJ7Oe9PRFH8bEnqkP0e\n",
       "xhjP7ByDjXxXYUy7ty4iQcE/fd3IW3CF4Ldy7JEnvK9k7d8+ZjsYDn1DPGF8ptdKuO4Hg4yiCbyC\n",
       "x37OrUMWRgRfKRHSoRTiIrXLm+1T8Z0TJ4L6XVhsbKER9Q7L9IKvU+SHvOHEHqY4tb2RwAVTIIJ1\n",
       "MiVrFCwSJdC2pwqylNvmzHiduuhkD612xB5qrbx5U5b2hcItX/xKzUlE9MFXlIsNEr978h+dE7J+\n",
       "vOLM6QvTJs4Hv47BPlTE2x/TUM1wP94DgUG8akqWzA+oVJ3yCQ5IoE1+95lp/kxRarPHpNgh5bI9\n",
       "Cib0EkExUXwUR/RT4GaP9HXqNHHqkUx8V2bRR+bEpNH8DxFWia2HPJAbJ057pNufAYlE3jg8Na0Q\n",
       "FQ85ebcdHGi5DnKKAFcy4wTJnYjqpgU4SBpuRCDcH1junDukpUCrDt/+20qap0V0NoyQtK/EzR/6\n",
       "qYrcbqTYWbjJxjQ11GSha/v4kpdoBoPREs5aEB0Pb8tx5Z2YCcfE71bMpbq56jpRAsm8RF6eERaL\n",
       "Dz7wqtGKyeILwq4uQoF184mi6YmoMJ2hxfNn3LR+g1evpWS9+pHVCxp5NoHry8tCButA8uSD1DL8\n",
       "Ejwi8Ar0rtVYATcNzRysXR3itKE0wKgsT/FPn5y/ZDmxhDaszg63RItfiHPW6T657Z/QZ7IDBATA\n",
       "8vZW6A0IZQn5alYozTuuzRpxBYcfdIcpbMvbISa5xmHbNKWxX59YL7w5wREl64tBI+Dk3IEhX5sc\n",
       "JD4EPNZcTkcBcg1vfwzsR7ZdrGGgA3kg6+iXiLgFDSddPpZbOI7cGtXNR/SANdpGcY7JOW6NwJb9\n",
       "DEgGBdjeaI8Jyo9RGeEC8cWZqYt+UhaechDJphrdSuLe/yL8pp4weW/AuhHea0Ttmyijr2Q/wj5P\n",
       "0JpRbfwwKDwU5bQ0B7iKfqIbjWDd//Rsr5R1UC9aQ2F6eRSVaFV56eevhw+UX+XothAjyIbPLeuW\n",
       "robE/YhMLfuGsNUVNP1YUPWNP2VNJt0ULDv4ykWj4eXw8JV0auGhx18Au6w3iW2sLbDSP7wRKFT4\n",
       "t0sbJcKUMg8EOUupMuSB4Y5MStbEyPgqYaKWIC4hKm2vSdVN2WInGxPAYc4am0SEeSYsytsbTUos\n",
       "P5As132/zOLZZLyA3DGVTSlpQEVRLR5k/kdN7IaotM5xM6fAqEcybD7lrtQkg6LOyYKd2BasLawH\n",
       "/KLtiZYVqk80wuQaKmKMNTG17EE0cHr2RTYYCA4AOOvp49kW2TCFnol9VJr2WXp3EJvNJTWbptLE\n",
       "QvHkKI7pwAAACEtBmmRJ4Q8mUwIJf/61KoGfBe3rDuAAMPkYuwtDnT5zs+GouExF7IY8MRH/yHw6\n",
       "Onq/qhhvLA/1FcRxVnWW7fbNcHCmwbGyJEtYlmX9D2Wc9OceKiA+8DTK9m00QxcwxhKkrM80cXg5\n",
       "Jx5+kg6vuUp2qx3Sk1UnhjQZi+CrxxNd6+pxWiV+65H81XFRkIQ7K5HDYTK295cNmX/vCoofGSFD\n",
       "xsyr9KiSVln5a4hsSgnq0C0k8QiwnkZQIRGEUY/on2bq2x0sfjVZZr0dM7NQU33Nh9OdCpeYDH0b\n",
       "NqDwiNhQsgLChFV/ZJdSPCoF9u/j9OTx/xir0Wx/vbv+ohif6L8eL/9hHJkWZemsBtwuvdx9jVOT\n",
       "pb9tOSuAxE1AKpnMJe868H53b0IWUmkw2qk9v+eZEXBN5Oo3dOP7jDqwFyRu9xqMhDn3QJ+i1Y7D\n",
       "IW4++q4ah6fPgUOgcjk/mQ44PYss9eXiK5yaEfTlLWdkV+Wnrsf0nK5IocjpZz1zdC1ezj9rrzAj\n",
       "KPDidap6OMHiBYFn4l9dzks2Lyv2bTK9Ho4aGu2UjyfXvBffWJZqNm9p9bsXhDLhWJjKMMxhC1/Z\n",
       "txlG9QlWBSjouIR9Ojm9qoXiiPbb2jl/ZQY6RgkaHzKeNnz+dFmr8gq/BYYtEN/es3V2YEIn4Ql5\n",
       "b4OsXr5LqlCD0KTx6yqM9dt2bZJtzvSDd9CxIk7DUnXurPNmLxY3DPaYZBcbOGYG4F9iAIzAZfz2\n",
       "/f3F7imfQY1vl0PImG9I9M8Ey9H1Mj5HbkkGXyFx+1yWRay6dvcViKATgpYJ/eOfG1roK0GfhCn4\n",
       "EbQ0/Pdv4mzeIwr0/h9zGb4Dn4bksenD1AHPcuwbirYkB5ZdRBuzKZUPHVM+RWtDlLHwzTK8FJqX\n",
       "+9ZKjY5GTJzaZSrHyAPAXcXzmx6ZrAcMsrlt72HZYFHJ1Wb3tQN8nipPpe3ms6Bqr3YSfXMH2yOr\n",
       "VkcJkAr1fEBJ9czca5DnJic7mjk03iy9K4YcWcLcTJiogfu9YjQIwqRe41/Jz3TGFt4Ojfe4Bbm+\n",
       "+5M6wylQ8eDiVDxRTbkvogiVg1LM1lVcM28uBrLF1lk4pJZMuJwE29BACDyY2DYn5ObdSFJhSlRk\n",
       "N9YSo33vz7MCFX/Z+I4J9C4rv9qhNv2tv0Y2cZp97qlNAWB34ax9WWIa0cwVDlPmfaWSvmUm6LVg\n",
       "OgTpdTDjGen+m0uOCMkizyYM9YxLK1VPS5a8ceHk4+DUh/UNj7REVc6iu5qnMtRde3kmMY80PAIB\n",
       "eUCBakUcmmfqzTpVZfODpnjBra9BGBIrSYoXNoPb9b19/RslJDc+ZPmqPloopCrmrKkZkAjcuBb2\n",
       "ZrH3fiKUzeJJ0eOKn+GvTCiCnHrVqlWfL4s6hQrlHxsvr7D/EN6vA/MdVfXb15bo1osjZXzwq3D2\n",
       "ZkEoR0ZhOa8/z0tZ1QorK2pEaIxCFKvYyLgVlx2czswaoUPBD77t0MCDONiApUnNrrsxTYDVenbZ\n",
       "LnFmUbFPamHEQ6yYmYenCmXnVbF5BPMLDpoJNkGD7sW229ZUO7ztlhbLjF82sFhh+pCfnopAg78v\n",
       "IpCfun+z9aK+Av/t5RXE0LroQyE/hlTXQvnCmwyln0hFi7XgK4/K9JgH8DoUnolBmQFWeTuh6OLa\n",
       "YlcH0v+tC3a/dX4iGKS0JE2IVUUfCBuojPg7l4fcBJRqT6oyoU8LPWKhsPuls8QZq4UGhD6Lhanc\n",
       "zUoNALHuIU8xmYDe6Y3ZoBHaPwtVw4nefemwUEuKpIeOo2RXhh4R3qIyc4b4NfZ67XJ3MjL29Jb1\n",
       "nmbyFeXIn/s0onMgYLIonYE91z/pWZIDQyLMdF62JLpPdElNGc2fnUf1Jo3AZf4cDy4fiehC//24\n",
       "EEVE3S+1bAWwPjlpjeOFIdg8Gi9WcC0ngQ8pYIi9QRptEr2F4HcSHDyPMO/ANlERVrXCf5GQMEKJ\n",
       "UfDNKABSkRDUEElEPnxMjdfrB2HJE6uhm6U95vMAfQQzkEI7cn5ff+nVDnJFqe/Up4hOiwOW409Y\n",
       "vIcgvOTFdLqTIAP7L3LnvUi3T3EBZIjvx/QblL8BhBSVFhrzmLYlMAajwsWRWH3VRHmPZCasub6F\n",
       "LFN1Nfvx4ktGAFmFgc+v4qQF9sSBwa+YvlJD6g7djv0liEIuzAfOoEitzX8vr3C4UnDS2bj8kBUY\n",
       "eeIKSiLEkKbZlMAYJdiKHQQHYiN5VefvYqLQBhF5a2w03ob/QJWLbJJ6zyzQN29VrQ0JDSo5X4zb\n",
       "UZ6G4IZTGX3Mt8BBQ4V0bVzrL2EiYEEZZaVV8SXqfkn4DlqYI0DcjaGfv3tEHaFv6DSnK2iKWrA1\n",
       "3uZj7O1vxekS8Tmo2GL69VSCir+81rR9R/B2N6SrTsQIal2npl4rw3y2SLqfbxFHbkUMeCn02pWW\n",
       "Yw3D1YezfcuGdF7OkCvqzBVjRPv7v8mBgfhXSZ0RxrnzmuzHxJaKCu9uQ0Ib2kHhCX61pqQaLHXX\n",
       "02pukaVqqWxq2sIjewO+VD7RvHL8VjPXmqhdHtvkyWV4N4pqB6M12J3Sp4iBwY9JzS6kcD72BAKK\n",
       "sQ0y2ZI8u+k65Frintu/Y1CmfR+BPAniBF9pmx8TX6Bzm1b7y0ZOJUc6DXV5GEaTPQWWl5BtITLJ\n",
       "UinnYaOl/HWjfAxWj/wV+AR9vRhSEHXF48H6Y13ORsZyL+EXLBDzP8YnXKGevyC6y14JdnDWwsC+\n",
       "dJcSjvK8LvdYzpmqeFNI21hr7nyAVE6CBky0Gh1toGPzOq7LJ9wH/jFW5oJRqcKSLo5oT1GaamGY\n",
       "AE28cos/mIByaXT6EjPa3LBZe8JoMGHWwQAACFpBmoZJ4Q8mUwURPBL//rUqgTZUf8hLziADLzl0\n",
       "KQQbn5cBbceWqIwtT9Kdlnxpn874jypO6qXjZ+2HK0lRs++j28GLXHbklKo/58V/iQ3OgB9uPA4F\n",
       "9+GKQd1g2bT/7xptbscVlh09fiM7wRZKROFQPPGIH4EtAQLZOJiJcddH8Y1ALzqGcgMDFcf0yI0Q\n",
       "cZt2MwOv3b3oKl3mmkIL3AGC8uzFK/eZvw9T8C3+rQ/t2rUbCYshrw+ifjCQRShZrdot2DuT/Qs1\n",
       "aO1vJ5d3ksSb0tBs4v4AcKUrR/Aq/3g2BqZNTsSAwUf2Y3d5P+k78ImsYapDuI/LGH0JDyiVLh1Y\n",
       "91//CKbXYeHcsD+IB1+uKbOS6bbp744JB8u+IPIw6fkmsLiObrkXghnRwxcipjZ0vNOob3N7pE1g\n",
       "viVHx8Gka4YjWAQ/FqNe5NPtXyG+DoGbRE/T71SJhCphe541PXeIDgCKgIUrkhxf7oj7ak/NaFUf\n",
       "+P/EilSzkD427zyOa1PuAXhC94QZNKJFHE0RkJ2SGhBF+9lwel3TvnadQLcDfTJtch3uhzKQlcAF\n",
       "udEgg+YYhRQ8bxn6e4hMMyv9gtBTzWRjLXfvDcOT/XMOOB06EBzVaJAS7PcD4rhp0l+udR2ZZX9l\n",
       "U4g4QkogwtgbPwSb1158nxHyMZWrDrO0zPWPMcNlIFvpVykqJUM7YVILIkjlEj3LrSSr8uTywwV3\n",
       "AzjkANwnC+ePQLFmWNQ1SOKubv21BnLUNQ8H7pcTrZVZyjYfPEvRu0SyivM8VEYujsUlS98ip7Pe\n",
       "ankSIMdiFXFzfxLy/USRjjgNcv8jvzBX4rapr0JDV7xKvTKydMkrmhI3LEcKoxaWJLJmO8KHVMZs\n",
       "uQzwGY7tO6vTDKFnQVtO9XKrt5bre+3nnXoRRuGBFB6Wj3mwzWFy+Rnn8Jnma5eIC9qiUdk5MnHz\n",
       "E3KynBnQ4fcBM5apT8ij8Bv+zUfwus6dTLFMfCXxi472tJ6DPfyY6ipPVcNsYM603HiJ5PzpVAv9\n",
       "cxC5l0Uk01/XTJIFw04qdy1jemv38RX8HmsRLWMq51tfpOjZo/R/jFvoYuzMDQQFvsiJduNXcbKg\n",
       "bQKYk8PbA/xuWdUIZonAx+4c+jW04Kiz+yTzbHqpOR+U7BclMDTsoEU8n2S4c9gvooL5rXag9bEA\n",
       "S/OukU9PRBDr58zwi2TiDVF/tiINAlUYIib5tSNMRNAsx/7B9NBG7ZgfOHk5fuEsEaPx7eka7q5P\n",
       "UBXn9hGcuh9UE+DaT1OuF8Qkv0luzr2Bx/CP2uiMNUUU/Pn8bSi623BrLFNvsfwY4sPYNDoGhugQ\n",
       "jg4hKjp2nYRxB5t46Clah07CgxB/G3hoHsxKajTv5xxkCIw70A6cp7r2ba57758OWN4KUwXLle+Y\n",
       "zDQ4yx0I6PPiR8oBBImpPDC0pmEz8V/SDk6BrSXPRJ3XAj4Cq9T+gglkNSksMVoE3Hb36vxB1/to\n",
       "+xNezDDPY/uXveC4lHrX2EgWUVtQq4qQnylLFIltC6dGb6v3h2dmP75sGqscGWQxEYPVCLAKEKeW\n",
       "rln41/NTqEDDnBgWBJJ0fZpP4xHkKhedKPJNMBvml4CoAoOQ8hM4LNqqo5ngBB+vLK5MJB/LawW+\n",
       "P5x4PdFPaIfmG/r9b/lZGSQdxVDWkuQhOFitmyZOFEwgjeLPQlNjg7tp+Vot9s8km4TCJQES0ors\n",
       "7s4F/j9c+JRU9uyeaTDT1/gNeKoWszozOZmm4MoxchvYy4TjnjwuJd9kn6LW14S7OuEMgQYk+Mgw\n",
       "+CJjwwC6N45aDWC4Ljc089xnuP4PuG2pkPKYlNKz8WHHkYNacIKtTSL4v7e6L8BwwYE838g9yPKd\n",
       "mi/NBWcRRTXjMuTp+HRvHdnKtcs2KhVd2TtE3fzwLpNYFaK/7qElK5Rv3vV2CKXZkY+uw9lY/VQd\n",
       "M43U7vrVTealw10nGL+cg98UnfS9aOeiG5jXXpF9Xp5maE54ACUwSRN6PEneuVaASHZPUyBAAAQt\n",
       "oCxZatZp9s2Huurw8XtkXHwFVWN8KEV5++a77dhocO5s951Eqg28tRxw6rfYv6GxMmJKW8A1IASt\n",
       "IBmYo7NdR9taySt0WZU/I7pbFE+0GC1OFWJZIKKh8gUnzx2TLVISDUTAdb3pp2Au6wA0D/dO+ksH\n",
       "/kQ5dwBKYdTPKoF1cIb6rzmcob++eMPMBD8uAY6FHFmkfwdlxPTU5T+cG8XtdjqRromnUBELUnCf\n",
       "vq7SmqQjq/4GeKZqLFsm2zpuripMeaxM3bgMPwnhIwVoePeQn1h5VTel6oYbf3WxxI5X9tq+TZan\n",
       "pfc39kIXK6uJ1XTzmsnqfSsGMl/1b9z6nZI7ZiBZVtkZ5XNhdvctt5eKVozcj/rfe0PxwZkNgp+Q\n",
       "ez/eQRxQoJoklqkFvJyxRXFStCwLDdwsMcWedeNe12volF/I52MUbw+CsxgZOA8z1ouyJMx8Rnhn\n",
       "n41Q93U8PsRTKDBEiSg6yRIuHvjBRu/zl8ZducTvAyWNsPsFhU9HZ77laKOwuyk1KEX8l9hfUZ7f\n",
       "xR5Gn0qL/TAKQYS8m+kmQIS6ajOp2Tnmu2gtY7aZatJ4NLjKM6ZZkEhVMBmYzl8LAOBsf+iiNtRx\n",
       "SYSJAc7A088+hu+aCfHpQvtwYFveRYOkINB5eIyAA6DCkrkqvCq9ny3ktKAAkBuuYvDn+SYN3mQ+\n",
       "U2qAeastYUKvbC9+bL10KSY8iguI9EmputwKfZKYskp7u1E31N0zoQnip1JWMusJclxUHZMuFVvC\n",
       "uwJ49FCtSTHUFgVy/dtlT5I+ZJlH6Htue/lQA0DIidoCadeLo2BneX8ZnPpN9NQd+GIF2r0C8QSr\n",
       "CQAABrsBnqVqQ/8AyZszBLwOta6JqXdBqxHxqAE7erJEFGFAixXDkskSozQwCoWdmEtLXls8kL3Y\n",
       "Z8+bl3sck21NfBcmouS58zpOvpyE/vS1wFD52RQFcDbYMtYWirs6ODX8E8IqdhCbBFg473wzKPCU\n",
       "rTYZdwaJ8txlcvUven9trK5Wm/2HwLAiweSl5dBB9VUiWspS0YDATP1tOtDC14q/xU8/wM0u+4Di\n",
       "HHI18gyJbZh0I9EHzJjKWY0kAXo99y0OLV+USUOUzXKLwmzCO5Jfti2Cibxwi08SwiVWAkAYErHh\n",
       "Gp+AdsA3B91b2+pvlAshsTbLgkIKjEFn32bJRj8zY8+DTyzdupxabScnKzqKnzO4+W3lBkW2wdBU\n",
       "nj1Wfn0CldySekXvJTNmxLjJtrJ/00DzpQocJitF11TuyCFRx7hMwP9+I5mSs7Rcf0GDxarH2qGW\n",
       "S02HSP6HzhZ0fWsAPpfyOQ1FHIra1w8W5AHpk5z6V24Gv6+6giSl3bM8aLd4znBoj8JIJo+AMAGb\n",
       "AG14L/hfUeRpIKJ/82v2euJm27kMmxkojATlJgN3vuvGHcqAQtn+boyHqpKdGMAdiyEzETqFPqd4\n",
       "RSEKZweBWFKLWPjq1W0FiUHTsbWJ9XihqB3JBsDx2GSy3Qs9DTPV60RPV8xsyNlgfPHtaH0NcilO\n",
       "QFxAal14sr2bQlBOA3p0u1WNSmVl9b76iEQNB2DQqnmPssTu6Z/HMhD/+2Y2XPS4RZ2tIcud6iIj\n",
       "+WzjJJy9VMWhujvy66zeg39YjLAmhiF07NYCpBusTOZMlKBouEnqywNzbgJNVZkSPGu8yahF6A4w\n",
       "EMtMjVJ9JUg1heaz1f7JN6FmKeh2CuNre6R5+X5yY4IUX5tRePqfHLFbJTGuXTvcve6YzNABq9PK\n",
       "QNjAZTpecoQt+tpgQnNV/fCdWd8WJcG1mvFtuOYn4XFqdtWHRuNL7IM98675vwslL2XwlmfiA+Dj\n",
       "9xiSVxgaBtt59q8N+cOhyFIDbjjVVpREs7jIiR4ZBR3TXZIt0/Wi0/IiY9WKIY3HxuP6/j68Kzs4\n",
       "xLoR50OZ2pPqGQ0uSiRy0UxztQrQQbskKYuNRuoyS00cIE/JZDtMGoilp870Jo9qXC/8CGtWgTmw\n",
       "qVwnDYJ3psYlm70dNrtGDXMpxpNZKNJdId/8/4bV14uRtEkdYNrADhTIdAE8dwLCUR5+jkEvIMP7\n",
       "p4glWbUbHbmh5R0f6GSkSn8fJgQhfBSvbITVr777WWE/50YV4Shcq4bwVikyPLzZ4LUEUyq8BT7F\n",
       "zHjdE+RycHWQ5r6aW34iN+8xuPMcPml6Zr3D7iPwhdtlvi+RjhV0onsIlbgkgalxX6i4q7zSNtFw\n",
       "lCokwzn8ugVFOSoWiLW8wV8MWT9hY9ON3hojZMDpZRGjPjBJgPEzzjpq1DBH6jCGSub9JISC7DX7\n",
       "lXRyuxuxLyh8lHjlv6maMEqKFnno2oOLMdhTvygzlSXhHu4gQrVjbWpKG0fgNBodZcCqJ1KfJw7a\n",
       "V89GViINgh0b4ovZ/yvhbcKbP2a1jhFxFFz49njHbxh7CtLnZpX+1cEduYgQ0a+GpILP7oBdtLD+\n",
       "k6Nj4s+ZAAMtoSQqhNkXOE/73RnIeIH/0eKNd5Dv7WwzCIJHqpqCDNUgzbOLIb13IKFoyU2z2QJz\n",
       "l+lw0ym6imWbWuNqwwVLnyaZZ2s0LxmkGpdrBwhsag+ZuzcykhzHpG0G7leY6DRP299MD780SHEy\n",
       "w4r6FocfBs2ple1R4y4alRY0W/1GxybxmhUVul+AsRFSL5nm4THjhVi7uG/qZ9WSwOk3CD5He06S\n",
       "cniigNFX9SQ0QqFnaLVL+r9io075rNVVjhOPwbeBxZNCkQw07lLAC80uljOt5m4KzD+KrAbO/OIo\n",
       "KxMrBjQuvgBA6ZZurMrcp36FZ8fu7TJCJmD6b8/6OqGv8YM6FvZNEszs8jMrqr2L1AD5lkIq1fxD\n",
       "ngCYK0LbuYPnrPUwpI2QwHv6fQZMnDQ9SzDfpLwQZaPRqXAKzhwKGskO/n88JYxOScES3021LetO\n",
       "DlXPPyp/6BVFTOZ4mjlJw9vo9sKIhe2wWwbIhFh6RY4x7BjpeTVi+rS2vT0OagDMAIfywkvhZ87D\n",
       "sqrrDj5mRm7g1WSsU8wr6FJB6ZnRioEJZZ5hQFqz5YFQb22QgQAOfh1oYNNX9iSmkrtb5hUO8BiD\n",
       "LbqRt4XQvV55szhDFydly9A+khZImTLBPpve3OJAH6vPm+LMq1qpozeNGcRhEV/WA1QqH7eNH6BA\n",
       "QGqkSnZnK1dU0d7NwLxtGa3BAAAGzEGaqEnhDyZTBTwQ//6qVQK+e67BYvHAAH+InnjWJCAAjY4d\n",
       "9ohrYMgI+bagJ5D5pwpqNECKC6vv/oUfBH5ORxOa25HyJDynliVQaVQiM6YQuGoM7K/ovcptJ6pi\n",
       "Zq2nC1UkpXftKm3zFx4AgSFXfu2PnR+KldMBblzHcGYCLjM/PTq1/mWhEirxxgSEuVZVImEq9Y2L\n",
       "3Mm3uzcnQMLQtArrNtK1fdb5BzADhYjBcEIEm5GJc7FnpIYHW2eq4oqYcYfsN/i2evIzQcN4/5/y\n",
       "WbrPRRUeLHdMy26OI39XrFi6T3GlUPGvfDu5ELmkQ5Belu4EcnYlBCIZE1ReNsgEGJ9gvUQ+t0Wm\n",
       "hVQWT/ubzEmP4oq+BDaD2oZkTBMX+fFct/vedCD0WMAi9xNdHTauQaYioMUVC5kHMI0nR3i0r1fX\n",
       "HZv4n8MO4UySNoAsxUEAvdASq0r+4IPPrjpXGxC+C0ZLqzbJYb783pkboZ6SxEuU3cBv25IxnrJM\n",
       "lpPajGU8oHX6CpJmy0iRmKjTJ3CFK0TSiUkPtO4f9xgb5c6KjFJ8nf3f5QIfzf194Wk4cRs1cVYX\n",
       "+BdNLOBPFZmqWSXC/6Yn+uwz2Tl9A9HI+MUJPcoxGe3bZrA7JkPwHwe9rzslrhkKmvh+OFTJ7Xky\n",
       "Uzf7FK6VkO/96YO87FQdxY8n8t1VfMH0u5ySZ76rXoYo2jJmFIo2mGtYy+c1bt/3XfXpJ5QOxP+Y\n",
       "S/60WugE4btJc++qVB7tUPiwPFm586B3UVTUwsZiDfNy1jNQuv4uIH5LH60oC6lU8IYG3KH0Xoey\n",
       "hBNxa4qrllK9hEJOiZ8DyxuFCpROKMexvU88YmTT36SDoQjJWewF+7QujE39Emrad6xw1VO67/dL\n",
       "2zRJnhZLU4XhF50HEskAgCE8lJ0l6SUKyg504c/PgDZzQ/MYGf0PaEDa5lzKDdBdU17M+wHuZljH\n",
       "gFZgZZWAFVJrXcknm898bVAoiUj4P6LQQkugcQpLiCOX+B2gKDG01eDpMTpv2kSXeUcXpjbYGfI/\n",
       "uTFIkrydPHSlC5IcZFHSZqmxNuZJupmdGEu2Txjf6noKZIZpsnwxIoAE7l3Gfi49SDA2EQyqsFqb\n",
       "XsCXKHYm4LerQUWr0DdI0EnOai1Im4qaZfEPL8Vi3d8o8grrhjQ5bhubb/dyd+1b3QfG+0FNAF/x\n",
       "yIVkfdlkY0wpkHeKoKIVcYC8VimA5j2V2aYp+zK9dEA+1SjsXzlFhMxC3S8xHWYQM+vQdItDrLbz\n",
       "1S2oXg9ZKa5r2R8xnn2TMOVKk4F+6vng7MfMCWuvS/vYDqq/wPFTY1rZDuLcJpwzti8Eukw68iCV\n",
       "CPGT1+HC5LsyX8nIF2UvFj7MLdU1OxncdkBoX59CwVgf+psVbgT3B3j7YE+tjXWgH6wIJvmPigXz\n",
       "YM+2+dp+6Qnoopjd2lazT/YelLv8cU6/E0Pj851x7rrb5Yz1cd4vK8vI4x08kJZGI1jwc/JwoguN\n",
       "3yjFQ9ZVWxHSW2RAIBKIf5wwBfmH3L4z39vxsIG3rbJs6N13stIg8L3O4Jk6fcYyYVDDxCoLbv07\n",
       "Mfo4lfQ3KGM6ej4pTWRzow2SHaMzwnHIod0jNV2vhUQW/st8Wcq0gZo6cob+h+giKQAgt3lN6tZV\n",
       "HASiwwPsFAENuWZwtsOe5TeI+UxufINcKVUivV67c0f1GmYT4N2rCrd2n2X+8B3rkKqhtf8wjloa\n",
       "b1ndLP+yIZi7kIDHQvZK6PKnMYW57AOqUaqu4RqwLjV1qtHJsZR4FgoQp1L3bkj/Bq6oH2VRKlfy\n",
       "d+vHsPK8L9S/l/xoWvrM8Y9UpWFtNm7Wmjqwnh2Xx2CEx5NjZVdQO2zd5mXmQlhxdwmiNaiP3SYp\n",
       "q5OhhgPZc/wX785p9P/KF9XUm7fm3BgNpSVE1yEbLr6Hi+10OQf+kaaMbbDvbWK1GwyiltSDEJr9\n",
       "EJb1mDKDN8oG3iF/wnmrg8/mWjK2XhpEke+sV4Mv48/rjxYnbzG8yQuUuLHHmHea8ov0FcSZSzqP\n",
       "RLzs+jJSSzvp0UcbkgCKfWzKoS2IYc2NUvdJ/aksoH/TWeQrtmGArMGDhsTrii3dCRrgGBSzzEQM\n",
       "DSsjhvBHp76gj1aMgR4RhmarnW1zXOdMxeVeL12MF5DTTw9rmekKhXFs5NgbMJ2WQP0luDO/mRow\n",
       "n1ki0RLtHwqTMTaWa3ZKV3t2YlvP1wB/rkok24VyTHJ8L4kOgSFZFV4Rc6ULA0/snsxdBdSM9n03\n",
       "WzVJMvCKz17I1RRrfZ6yaXY2qd7FE8HMRE8Zkl18A6D/cD/4okJWXx2DG9EuIDhOTW6tGQAABnoB\n",
       "nsdqQ/8AvWxpTrqqYNKNjaJkAgBKG5h5BsDL2NSAGwDNSej3pCWkj4n+viiJ4uwQP8al86SJgb0h\n",
       "ukXSW/L/RKF8sYEeoZyBriSHq0x4zdld/OL8tfvoaKBQA8L17a+8jMDbgvo9RUZ3IlgGtBpyYdLS\n",
       "AdEoDUxYWpnnlSszBmln7D6jJH5BOGnUxWo729lVX3SHImS8hA9MnsHWGs3VA8pA+UPhciUoISFv\n",
       "jeZKKRwMg6zzInv0jZ4NDLa0i8YwxoEwj/YW9UEi2pvQRHqJ5iQ5C1fRUQZ54fax0CLHnfv8WuAX\n",
       "PETuMWkoJxCehr01+PqJ7lRgdioQdoFRu4VfuLrrgIPB1jdkd94N8e+uQqD9dE071B0O93qxZVHX\n",
       "UoFKmBWcc42uo/xHC6UiJlZ5ha4Ys5FMkHqkLqK0kj7w2z5AGbz5K+DaFvl49Z0XCuKazZSp+J0w\n",
       "H/4vdgAAOakMadOFMPLpo93IOs0jav/fzzzE25DZAELd+DvBQVrztw1G8ICIX1py4rV32Mp6C6k6\n",
       "pQkjzExM2dFGbcWW0Wv7FqpJzZX8UlT8erCL3d/g3pOBPDI0zHrZOr6e2cbuyvR9nQRSv3ohuF96\n",
       "SL7d1LvpmPluqGO+bCZVctb53Pxh9UejRODYRPkxcIIfDLMTd6lQ1Coc8/j/k83gA0tRS1Jz/oys\n",
       "2ZeP618Bbg0DNOtHJx0NhVouOeZ9aZ9t4hGnfdNVwLBQqwFGwRv1bYF/b5sWKaBZMjEVpA+jR+d7\n",
       "57S5yq3nnqVxNV1mfKT1YJJDVkHod25ld+wbSLCaBTMLlBZzwkyITH5eAGZvZP1Ulgp5PfLWMLHc\n",
       "UVHLVi8L2tOz3kyVCcIBs5WBjKwYhxCcU3/FE1DEj+VEfGUrOUFC4x9qPCo0NwXpzVfp81pvPOuQ\n",
       "ppWvIw0TeVx5kaD349GQfTOkI393HWtpli93EG0F7eKggoJoO7x40xh970zNDG35/6gYkgt9Ho3i\n",
       "rqHh6TG3YWdUWOMa3hVa3JSxGoZf6wXM/W1WcuOVba9QDih/UIjq6vop6eUCVaDkjAHrY2OPpobb\n",
       "etC+vOx5NIms+9PDvZ/RDMfX36mduh9gjXUAAxgUVqDFHJ30DVCSpdWTBv6gNtBwDAMEODwEo0dq\n",
       "FfkIYenjEDE8GHN9dtSPsPuUqC9ZCE4YvPBEyiGLY9Z0R4YACrt7H8LIQjWIJFuLgrQR0biF9R49\n",
       "WZ5VwJwdmy0WThqD1ZjoW0zY1SIBafyOWcX8f7OrDjVfc9bcWaRqhaOCenxrP3qIKrbZBy5uckzj\n",
       "26ybhLv5z+RwMZY2yDInh1K05mUf87HvN5wGAPgGxJmcOSk8F4hzzu3GLJrpRJh1DzFyEBTaoaCv\n",
       "3pcIQgdY0TGP7nf4voOW1bLX/33sxEgEMgm6IPsqgnQCiNuq2YIj1hNE9fTVzHs3LlxHv3F0Z3vC\n",
       "BedLEaPwy2e87FZoTKmOMFCO2Qjy2WnERP86LDq0gpVhOXLNEMMJWYXbSQWY2oABqDG/BMmafUNZ\n",
       "pI0P+DInNfJ3K+kE/ghmFIaEk1MBYATuLWNNMB8QibB6YkKvHox+nbW5uT6HwTZcdfygbl8qoR0c\n",
       "EqBUiTbK6jKDceqkVrQXeSkz42rac5o3IF8q1j1cPmXgNkxEN7q04O9S6CL8QQFGJMlGhK9VpGxt\n",
       "yn+r7h4iB+Ax0EH+YcbULZ8MVWGpgREWlyD57NMtVEo6kX5yOUVYqDptrSCUYp2lVhXM1PWHo26c\n",
       "m0I3LsVt0PUgE3f6gfoHCNKZofFTj5wSknK/BZPsBoCXufPH17W9/WP0ErwSachMRVcElXiThBF5\n",
       "dyGimlP6lumcNB89R0u2+4cRN8bZJPYf0TlT7C/OO/gp0mPf67mhwhgbwYkaIbN79n/+myUNWZMd\n",
       "TvEcOBH7CQcI7UGmqpAeP4b4zx9zo83aFV9jv8zrjEo7VBaBEwlmUgJngO3jtjGkke7wIW0q23l5\n",
       "gQ3cxBQ7NGfZebG3SQnhk/DZNOSaDTWEpi1tf887+wwKl1XLJmvkzLfdu8JzmT/D913QfY8p2PbW\n",
       "X+qJFZ9yC9aV3DPJ3FkymTOb4uGyqxqaWFj93YTQQWe0qp93u0MQGXxUBtN13hdz/JMXa7yMO7mo\n",
       "MOYUcq+YYJqopyhLiB86cSBE7CQ0Cmw3XltdoIzVEJVMGCb9gky99z6iXR+IDYREbev7iE21Abeq\n",
       "cCbiXwAABsJBmslJ4Q8mUwIf//6plghfGFBWGYATCO+i9V7dBZZJ6fEmQFSRGCo6QmW1zeLMTkb9\n",
       "CpmmYiBvpk429rB83aNEKUOhqhrXijhcj/wOnaO5pj7iusf/PWTEEnMaAAJLrPhHnTrO1HtZdmo7\n",
       "WwlewirjNLwIhD/zdcFkKAdEJ9N8vgXOSmEFaTMh3kuEPc30yNt7iq2ND4f+X9eX3fhUoelnFgMj\n",
       "zEWnnJ2HV+0UWfOdmazg3UDrtnCnuwoF+aQ1QtklvtWvdkmCbPvv/yfeTuIOq4LhKwX51q1jJz2h\n",
       "5CbaKA9bLqdYLrxwK5Rn2yMfoz4jO1YXYS42/KwBVX8F7hTvPHr1xROSqEvfTvIfHc5vWwck3IqA\n",
       "0e2zTXVBLgwEzdo/zui5ArdqvJi+zqjE2/M6QLiqqkYo1gTUsqc4kNcCaijHW93Haml4V7NcjL4I\n",
       "mgij2unwf+OgQ4lNyivQECOIDGbKhdtXosLFSQluvxkfyhmY2f/f4rp+Ji00Fa9R1vJXbv2h075d\n",
       "0dtuaERk9jFASpwiwRyX2SvEmyDX0WXGdZSMFEmp55bX+/oOOUMGT2M9J9lHvo7N/mm46L2Z/cDG\n",
       "UoQ4kpqiE8k9DR/EyJdD7L/Vm+R8XVEWPTvmKwVtRZSN5nNGtu5JCf2lTvTREeZ4xIvJwPWfFYxU\n",
       "fU2QOUj9O4dsaR0SbE6QQJccGQjmKmjHrGwTwYCFmkajkrTpfokXcYvrX6oXV5MeIRIMQKG3KFce\n",
       "BftdZqlNUddekeaGjrCdx0pIGryaYmbxeXEPEfhwTGXht4ahWUZzYa8Pcr0WyM/6kC/5pgwnWM+E\n",
       "/7bcm7u21egeuCe66vm9ygKS3MSQQAiXfHIpnGpz6uXa4N6+alaXusb2gxp4ovPprxaIxEcENVLf\n",
       "a3PNKm4iFDoMIjy3yOHY7/1jmOh30ed6LmfBSw98E+ZVbcSbmZzqdc6AarFOexykiYQvGBZbeKlK\n",
       "WgbK5htoBPYqE4qaxKqMPmVf+ZutGSy/4g/G0KlFz8TOuLxaJ4jxs01cxHtYyFinIojOZ/dDhCsP\n",
       "I7CDlZfSZxck1AMyqqoDoZrTPwI1yPTTFGHmOAq8XHbs6k0GnfKISFGV5mma2PQKskwAHFqA9JS/\n",
       "fYdB7CeLrH5wxjo9gLA1nCCREkJQAA/Rg/fPhk5B29fJXKExwnClbfPrAB0QLDDlc2UfmgxVKTbb\n",
       "wAYbh/FOBWQOZ+xcF0Lpt1VkHWCOvaRYOoomltOZ0lhIT+3X/OOTpwGwIxtFyj9JLhJClHJvu/mw\n",
       "3bzGgW3/LZC/mVOVxmhOVGlrUBfy0oTrinhlep7v0HWkFLSVC2rTbemhbo6dg5k7XVMgd2+g60/z\n",
       "3kFhzC2kWeP5KZZ5GIMYUJHcjx0wue/eJNTmn3RGfrefFw2SHn9AHomxvpczl5AroeTFnWJblTY7\n",
       "NIil+N+Y0AYk9iHz7CP6hqlQ/sFmmMMAj9BMIMbQu+1rRRvSy7T4WRnS3u04JmpzPSIoVFfQ1lMu\n",
       "fId6iAwFepWDAcvUBAW972nd9jFQkycw+pRQ5kuuwe+Ah+hZna0sAWCfucNjFHiasYLlrwwLbcHs\n",
       "kKYeutTLr1VoiKINAq0WODIHC3HnZYqZd9YJ9d54Suhv4s3DIUEjcOh3C9rVCPUy7FD+ilrqeleR\n",
       "iQnVTufuid+QDx8eHzqZirqimnkMe3bc9xVCvPKJp7IRYvFzayC2SM2/2f8JCQS7PdWZqnWMl4zz\n",
       "f5PbTp75CsH7uhErEpWGlPHjZrdI8t+S+YX/eIcn8XZgUiK4cphjGq3aLwNLEO0yyqxKWGUNknZo\n",
       "nACiN4fqyQ9LZnBE+Q0U3f8XBslZr7MTZFyNAUqMq8qVhvDdSJc3CCy2d04EppUYZMbAncyt6C2h\n",
       "0TX5R9jU0k+ipe/z4xCk4vjqDZFacZGj+9EFRv9tMkYto++y5QY320xsmxUyFltmgAJYrJX8tEJ5\n",
       "IuM1d9b5nShV16SbCqkbGqFBdFhTOJCywqDManY+FHeu0xSoDITkzVFrty28zchQp8rdqfL2SPUg\n",
       "0MXRaIDWEd4PgIJd9ADNN39zb/Gco5LVheDmhsdooTsDUVczGdlKNJbK7GkmmDz1lyJyU9UMz+CZ\n",
       "Wzp0YoKZTnL3ioT5V/dmAtFwKay0qLbCp9wVnF10AAa+4QI7lmKM2s/IASIvxUWMN/HUlvsPwKt/\n",
       "izmQzh7AucOk6SSBPSbTEh1HseYQ2NPUwgaANVI61P+UIfxcx/dTkZUrxl+gRcX4ZBUSgpncRnR9\n",
       "DoxFMVJ+JM/tE3MKEgcMSsD80loHEA2V1l7DgAAAA55tb292AAAAbG12aGQAAAAAAAAAAAAAAAAA\n",
       "AAPoAAAH0AABAAABAAAAAAAAAAAAAAAAAQAAAAAAAAAAAAAAAAAAAAEAAAAAAAAAAAAAAAAAAEAA\n",
       "AAAAAAAAAAAAAAAAAAAAAAAAAAAAAAAAAAAAAAACAAACyHRyYWsAAABcdGtoZAAAAAMAAAAAAAAA\n",
       "AAAAAAEAAAAAAAAH0AAAAAAAAAAAAAAAAAAAAAAAAQAAAAAAAAAAAAAAAAAAAAEAAAAAAAAAAAAA\n",
       "AAAAAEAAAAABsAAAASAAAAAAACRlZHRzAAAAHGVsc3QAAAAAAAAAAQAAB9AAABAAAAEAAAAAAkBt\n",
       "ZGlhAAAAIG1kaGQAAAAAAAAAAAAAAAAAACgAAABQAFXEAAAAAAAtaGRscgAAAAAAAAAAdmlkZQAA\n",
       "AAAAAAAAAAAAAFZpZGVvSGFuZGxlcgAAAAHrbWluZgAAABR2bWhkAAAAAQAAAAAAAAAAAAAAJGRp\n",
       "bmYAAAAcZHJlZgAAAAAAAAABAAAADHVybCAAAAABAAABq3N0YmwAAACzc3RzZAAAAAAAAAABAAAA\n",
       "o2F2YzEAAAAAAAAAAQAAAAAAAAAAAAAAAAAAAAABsAEgAEgAAABIAAAAAAAAAAEAAAAAAAAAAAAA\n",
       "AAAAAAAAAAAAAAAAAAAAAAAAAAAAAAAY//8AAAAxYXZjQwFkABX/4QAYZ2QAFazZQbCWhAAAAwAE\n",
       "AAADACg8WLZYAQAGaOvjyyLAAAAAHHV1aWRraEDyXyRPxbo5pRvPAyPzAAAAAAAAABhzdHRzAAAA\n",
       "AAAAAAEAAAAKAAAIAAAAABRzdHNzAAAAAAAAAAEAAAABAAAAWGN0dHMAAAAAAAAACQAAAAEAABAA\n",
       "AAAAAQAAGAAAAAABAAAIAAAAAAIAABAAAAAAAQAAGAAAAAABAAAIAAAAAAEAABgAAAAAAQAACAAA\n",
       "AAABAAAQAAAAABxzdHNjAAAAAAAAAAEAAAABAAAACgAAAAEAAAA8c3RzegAAAAAAAAAAAAAACgAA\n",
       "DUoAAAlvAAAIGgAACHEAAAhPAAAIXgAABr8AAAbQAAAGfgAABsYAAAAUc3RjbwAAAAAAAAABAAAA\n",
       "LAAAAGJ1ZHRhAAAAWm1ldGEAAAAAAAAAIWhkbHIAAAAAAAAAAG1kaXJhcHBsAAAAAAAAAAAAAAAA\n",
       "LWlsc3QAAAAlqXRvbwAAAB1kYXRhAAAAAQAAAABMYXZmNTcuNDEuMTAw\n",
       "\">\n",
       "  Your browser does not support the video tag.\n",
       "</video>"
      ],
      "text/plain": [
       "<matplotlib.animation.FuncAnimation at 0x7f7e8f225bd0>"
      ]
     },
     "execution_count": 60,
     "metadata": {},
     "output_type": "execute_result"
    }
   ],
   "source": [
    "anim"
   ]
  },
  {
   "cell_type": "markdown",
   "metadata": {},
   "source": [
    "### Exploring questions related to subsidization in a city and affect on creative space"
   ]
  },
  {
   "cell_type": "code",
   "execution_count": 48,
   "metadata": {
    "collapsed": false
   },
   "outputs": [
    {
     "name": "stdout",
     "output_type": "stream",
     "text": [
      "change in % of creative space in unsubsidized city: -2.0 %\n",
      "change in % of creative space in 50% subsidized city: -6.0 %\n"
     ]
    },
    {
     "data": {
      "image/png": "[encoded data removed]",
      "text/plain": [
       "<matplotlib.figure.Figure at 0x7f7e8ef50390>"
      ]
     },
     "metadata": {},
     "output_type": "display_data"
    }
   ],
   "source": [
    "city = TransformingCity(10, random_seed=None)\n",
    "sub_city = TransformingCity(10, p_subsidized=0.8, avg_rent=10000, random_seed=None)\n",
    "\n",
    "for i in range(10):\n",
    "    city.step()\n",
    "    sub_city.step()\n",
    "\n",
    "print(\"change in % of creative space in unsubsidized city: {0:.1f} %\".format(\n",
    "        (city.p_creative_space_history[-1] - city.p_creative_space_history[0])*100))\n",
    "print(\"change in % of creative space in 50% subsidized city: {0:.1f} %\".format(\n",
    "        (sub_city.p_creative_space_history[-1] - sub_city.p_creative_space_history[0])*100))\n",
    "plt.hold('on')\n",
    "plt.plot(city.p_creative_space_history, label='unsubsidized')\n",
    "plt.plot(sub_city.p_creative_space_history, label='50% subsidized agents')\n",
    "plt.ylabel('% of creative space')\n",
    "plt.legend(loc='best')\n",
    "plt.show()\n"
   ]
  },
  {
   "cell_type": "markdown",
   "metadata": {
    "collapsed": false
   },
   "source": [
    "This visualization got really noisy, and there wasn't a lot of signal whether subsidization or unsubidization would result in more creative space over a number of time steps.\n",
    "I sometimes noticed an upward trend in both cases though, of more creative spaces in the city.  This can represent a diffusion of creative agents, into areas which have rents which suit them."
   ]
  },
  {
   "cell_type": "code",
   "execution_count": null,
   "metadata": {
    "collapsed": false,
    "scrolled": true
   },
   "outputs": [],
   "source": [
    "city = TransformingCity(10, avg_rent=12000, random_seed=17)\n",
    "sub_city = TransformingCity(10, avg_rent=12000, p_subsidized=0.5, random_seed=17)\n",
    "\n",
    "for i in range(50):\n",
    "    city.step()\n",
    "    sub_city.step()\n",
    "\n",
    "print(\"change in % of creative space in unsubsidized city: {0:.1f} %\".format(\n",
    "        (city.p_creative_space_history[-1] - city.p_creative_space_history[0])*100))\n",
    "print(\"change in % of creative space in 50% subsidized city: {0:.1f} %\".format(\n",
    "        (sub_city.p_creative_space_history[-1] - sub_city.p_creative_space_history[0])*100))\n",
    "plt.hold('on')\n",
    "plt.plot(city.num_displaced_this_step_history, label='unsubsidized')\n",
    "plt.plot(sub_city.num_displaced_this_step_history, label='50% subsidized agents')\n",
    "plt.ylabel('num displaced this step')\n",
    "plt.legend(loc='best')\n",
    "plt.show()"
   ]
  },
  {
   "cell_type": "markdown",
   "metadata": {
    "collapsed": true
   },
   "source": [
    "After talking with Allen, I'm planning on representing the results of the timeseries with a single number, so that over multiple runs, I can average a single number to find a trend."
   ]
  },
  {
   "cell_type": "markdown",
   "metadata": {},
   "source": [
    "### Investigating Creative Space Changes for varying levels of subsidization, over many trials"
   ]
  },
  {
   "cell_type": "code",
   "execution_count": null,
   "metadata": {
    "collapsed": false
   },
   "outputs": [],
   "source": [
    "def creative_space_subnosub_one_run(p_subsidized):\n",
    "    city = TransformingCity(10, p_subsidized=p_subsidized, avg_rent=12000, random_seed=17)\n",
    "    for i in range():\n",
    "        city.step()\n",
    "    delta_p_creative_space = city.p_creative_space_history[-1] - city.p_creative_space_history[0]\n",
    "    return delta_p_creative_space\n",
    "\n",
    "print(\"change in % of creative space in 0% subsidized city: {0:.1f} %\".format(\n",
    "        creative_space_subnosub_one_run(0.0) * 100))"
   ]
  },
  {
   "cell_type": "code",
   "execution_count": null,
   "metadata": {
    "collapsed": true
   },
   "outputs": [],
   "source": [
    "# run your own experiments to get a resmat\n",
    "sub_levels = 5\n",
    "p_subsidized_vals = np.linspace(0, 0.90, sub_levels)\n",
    "n_trials = 1000\n",
    "resmat = np.zeros((sub_levels, n_trials))\n",
    "for i, p_subsidized in enumerate(p_subsidized_vals):\n",
    "    for j in range(n_trials):\n",
    "        resmat[i,j] = creative_space_subnosub_one_run(p_subsidized)\n",
    "        "
   ]
  },
  {
   "cell_type": "code",
   "execution_count": null,
   "metadata": {
    "collapsed": false
   },
   "outputs": [],
   "source": [
    "# preload a resmat\n",
    "sub_levels = 5\n",
    "p_subsidized_vals = np.linspace(0, 0.90, sub_levels)\n",
    "resmat = np.load('resmat_start_rent_12000avgrent_codeversion2_seed17_1000_trials.npy')"
   ]
  },
  {
   "cell_type": "code",
   "execution_count": null,
   "metadata": {
    "collapsed": false
   },
   "outputs": [],
   "source": [
    "yerr = np.std(resmat, axis=1)\n",
    "print(yerr)\n",
    "plt.errorbar(p_subsidized_vals, np.mean(resmat, axis=1), yerr=np.std(resmat, axis=1))\n",
    "plt.title('mean value over 1000 trials \\n with error bars -1 and +1 standard deviation')\n",
    "plt.xlabel('% of agents subsidized')\n",
    "plt.ylabel('change in % of creative space')\n",
    "plt.xlim([-0.1, 1.0])\n",
    "# plt.tight_layout()\n",
    "# plt.savefig('p_subsidized_creative_space_errbar_stdev.png', bbox_inches='tight')"
   ]
  },
  {
   "cell_type": "code",
   "execution_count": null,
   "metadata": {
    "collapsed": false
   },
   "outputs": [],
   "source": [
    "mean = np.mean(resmat, axis=1)\n",
    "print(mean)\n",
    "yerr = np.vstack([np.percentile(resmat, 5, axis=1),\n",
    "                  np.percentile(resmat, 95, axis=1)])\n",
    "print(yerr)\n",
    "yerr = yerr - mean[None, :]\n",
    "print(yerr)\n",
    "yerr[0,:] *= -1\n",
    "print(yerr)\n",
    "plt.errorbar(p_subsidized_vals, mean,\n",
    "             yerr=yerr)\n",
    "plt.title('mean value over 1000 trials \\n with error bars 5% and 95% percentile')\n",
    "plt.xlabel('% of agents subsidized')\n",
    "plt.ylabel('change in % of creative space')\n",
    "plt.xlim([-0.1, 1.0])\n",
    "plt.tight_layout()\n",
    "plt.savefig('p_subsidized_creative_space_errbar_5_95.png', bbox_inches='tight')"
   ]
  },
  {
   "cell_type": "code",
   "execution_count": null,
   "metadata": {
    "collapsed": false
   },
   "outputs": [],
   "source": [
    "resmat.shape"
   ]
  },
  {
   "cell_type": "code",
   "execution_count": null,
   "metadata": {
    "collapsed": false
   },
   "outputs": [],
   "source": [
    "np.save('resmat_start_rent_12000avgrent_codeversion2_seed17_1000_trials.npy', resmat)"
   ]
  }
 ],
 "metadata": {
  "anaconda-cloud": {},
  "kernelspec": {
   "display_name": "Python 2",
   "language": "python",
   "name": "python2"
  },
  "language_info": {
   "codemirror_mode": {
    "name": "ipython",
    "version": 2
   },
   "file_extension": ".py",
   "mimetype": "text/x-python",
   "name": "python",
   "nbconvert_exporter": "python",
   "pygments_lexer": "ipython2",
   "version": "2.7.6"
  }
 },
 "nbformat": 4,
 "nbformat_minor": 0
}
