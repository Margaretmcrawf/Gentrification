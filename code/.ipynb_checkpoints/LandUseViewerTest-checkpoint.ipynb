{
 "cells": [
  {
   "cell_type": "code",
   "execution_count": 7,
   "metadata": {
    "collapsed": false
   },
   "outputs": [],
   "source": [
    "from TransformingCity import TransformingCity, LandUseViewer, PopulationViewer\n",
    "\n",
    "import numpy as np\n",
    "import matplotlib.pyplot as plt\n",
    "\n",
    "from matplotlib import rc\n",
    "rc('animation', html='html5')"
   ]
  },
  {
   "cell_type": "code",
   "execution_count": 8,
   "metadata": {
    "collapsed": false
   },
   "outputs": [],
   "source": [
    "city = TransformingCity(10)\n",
    "city.array = city.landuse # default array is landuse\n",
    "viewer = LandUseViewer(city)\n",
    "anim = viewer.animate()"
   ]
  },
  {
   "cell_type": "code",
   "execution_count": 9,
   "metadata": {
    "collapsed": false
   },
   "outputs": [
    {
     "data": {
      "text/html": [
       "<video width=\"600.0\" height=\"400.0\" controls autoplay loop>\n",
       "  <source type=\"video/mp4\" src=\"data:video/mp4;base64,AAAAHGZ0eXBNNFYgAAACAGlzb21pc28yYXZjMQAAAAhmcmVlAAAUrG1kYXQAAAKsBgX//6jcRem9\n",
       "5tlIt5Ys2CDZI+7veDI2NCAtIGNvcmUgMTQ4IHIyNzYgM2Y1ZWQ1NiAtIEguMjY0L01QRUctNCBB\n",
       "VkMgY29kZWMgLSBDb3B5bGVmdCAyMDAzLTIwMTYgLSBodHRwOi8vd3d3LnZpZGVvbGFuLm9yZy94\n",
       "MjY0Lmh0bWwgLSBvcHRpb25zOiBjYWJhYz0xIHJlZj0zIGRlYmxvY2s9MTowOjAgYW5hbHlzZT0w\n",
       "eDM6MHgxMTMgbWU9aGV4IHN1Ym1lPTcgcHN5PTEgcHN5X3JkPTEuMDA6MC4wMCBtaXhlZF9yZWY9\n",
       "MSBtZV9yYW5nZT0xNiBjaHJvbWFfbWU9MSB0cmVsbGlzPTEgOHg4ZGN0PTEgY3FtPTAgZGVhZHpv\n",
       "bmU9MjEsMTEgZmFzdF9wc2tpcD0xIGNocm9tYV9xcF9vZmZzZXQ9LTIgdGhyZWFkcz02IGxvb2th\n",
       "aGVhZF90aHJlYWRzPTEgc2xpY2VkX3RocmVhZHM9MCBucj0wIGRlY2ltYXRlPTEgaW50ZXJsYWNl\n",
       "ZD0wIGJsdXJheV9jb21wYXQ9MCBjb25zdHJhaW5lZF9pbnRyYT0wIGJmcmFtZXM9MyBiX3B5cmFt\n",
       "aWQ9MiBiX2FkYXB0PTEgYl9iaWFzPTAgZGlyZWN0PTEgd2VpZ2h0Yj0xIG9wZW5fZ29wPTAgd2Vp\n",
       "Z2h0cD0yIGtleWludD0yNTAga2V5aW50X21pbj01IHNjZW5lY3V0PTQwIGludHJhX3JlZnJlc2g9\n",
       "MCByY19sb29rYWhlYWQ9NDAgcmM9Y3JmIG1idHJlZT0xIGNyZj0yMy4wIHFjb21wPTAuNjAgcXBt\n",
       "aW49MCBxcG1heD02OSBxcHN0ZXA9NCBpcF9yYXRpbz0xLjQwIGFxPTE6MS4wMACAAAAPYGWIhAAU\n",
       "//73x0/Apuj5ZsudRT0hMIrY+kgovVjs0DJ1AAADAAADAAAFnee2pBQbyohmAAADACxSxX3sBQs4\n",
       "AFcXJXxLumLc/D61R/fpOAVqW+mVgFSM9XShO++MgRgw307m986hKH1Tv5RDeuEJRlDW/8r8+S/c\n",
       "xtqBPuHD2wwKtsNRfFmEq9lPr2BZ0m7MR7uc6VnxQ6bGW7AI1t3RdRb4SjvjXPcP0Ovtvy6DufYJ\n",
       "eYG4qab7l6KRb9XdlBV1B0p2D13hitOS5jnJOutPclbZzlLZdrM8meA9be06u+3UGgFGsb8woqlB\n",
       "DFkYGSi43BeRvzAsej4l+8gb+Y+PpJXPHlh8nDc8wLMX6ma7IllPU0IRJveP89n4ke1kO1n3pTue\n",
       "6m0OBnDl5kCVb4aZCFkxxNND4QnuwNc9WjUrNEfel/G2MEPnvQIt4PMaHT629RQWDbPCjhrRkdrl\n",
       "tr3CedNi+K7/y76E+u8ABk6hIABUQIhDuJrZxCz7dYjGVXIE3rxXld4FFq3H9/2nccG6FgxYJn7/\n",
       "6eA5lpsQvEOCXfvQq3AxF5sXyM0lmoMZO6iQGVMzuwxIxc+S3pqQVVt4PNCNjruvG7oZqC2jVH1d\n",
       "94Klwh4V+rEbcMj4BhjJWXQdg2CyOlvqokJeNoxx8en/Jsz2bP8qFl2y+rLuV4CdT34Vp+of5ftq\n",
       "u7wxE8LBqb39FNzC3Gbl4e1nqSdNa1//naiit2eLlSrbwrP7im8VABNLvdsi4dz9u+pSPDgTy01v\n",
       "GkrWbgXhRmlyj0qYOsRstFTs/jY9LBXFUI8CDYVdSQAJa3Si67WgPGiavcNcfLP5RLdOIIwlMZ51\n",
       "NOtTlPghCljF4qqb9/4psIigFVLw2MVXdmR68rgc0rDzbjZqX0IdAIqCNgvdR5MXJ6y0T9Wz24/h\n",
       "8tzmRet4P1t6qbW+SJ8FPuAuSdC4hEdnqDs0Tg9mJH01rg4T2tP52WKn+gANiTkffkYmY/qYpUNV\n",
       "iEDcoiqqFm10gjSSqVTX0f2iaJAqGo9AY1WR+64zbc/QkQRVmDqsL6hUCIBe77xW6faMb1jQ/Gj8\n",
       "WXW3RWaI3oN8UgcP+7Mrnnde7su31k9kozXcIXqkL2ABvlGkWKTI50d/eulHxfpNKZqNxdEZPgny\n",
       "pCOWn0TPZiXmsxcB579DO/3OOAdGFSWNnFw+qL+m+UbFmB2C5H4POLWfClhCMRH5f3oepC6yQhN1\n",
       "yYU8EHEBR080f1RbC9bVyJQ0jiFONUDt6rNPrZKedGKkScVYmg0bSZVmKPlTO0/fvQMakMoujwqC\n",
       "mhTItmdtxSAK/m37Zwg1ZjTMK4K3rNnsq/K6p9f3yg7w7t+vRPHfgQ4l1L2g4A8+O0AfBrsLFB95\n",
       "RH2AGJ1nZbUzmd7JBmNjb9jtY/uvo8fPUetXIuPp5EeIefLHrWmbzj9OEVrrPgC49uQOGBf66h9b\n",
       "2rgDMAo/4vm5WnhPhYqkJrC1XvR3PvCdJ6X/6uPAT6yiNrq7j6EVgpqRtJl2GpLI4Srd0W0p+tEt\n",
       "NqVn7W64IJNNErHP22+mhBzWl9ye4AHjZD98rfFvo/QsLUTx+1FKrOnIyxSq2MEFXk5eq/vx10mG\n",
       "yLnXAAOLkYGLTWd3a+goAOQE8CuybzW7lOrxAlgaSF34xpV4KquxP/hEMFWLrbjlisXAksgNEeuC\n",
       "wiMf3/8GbQ6gFmzQPjlYB5aMVs2RD38JrrV7kuBiDTwndWHPg90BwsmLqHb80FJOEjAZZ9XJUlOu\n",
       "I4oFVP+MkzQR6yEtgW3JdCt54c/kf5HpILjMnkHjS1SXT6VzQz/VkYIk8sIfoYqG6/PduK3nfw7s\n",
       "JEYARqTHMiZuX4C15Wve1/cSK1G8ZGeUbK3KvVHogAq7w0CD0gaDath+Yhz+YNQxRqw7mrpl1Pu4\n",
       "oeAXewq63aT4JOHUEQpdiEW44I0LfXFypwoaRozbHTepEJd5f/lv7laIHMu3ppTIVds56FS7MsGt\n",
       "hPJAEv6o0+VtgcVH3zWIFHGjNmYGYO864M+O2N+7Mjj1VI28ZvSHJ7ovzM8rLC6cV/wz1nS9w5D2\n",
       "N5CbsTtuJTMsA6uSrzAAdKVHoujyNH84c+/VPiJq+XO4rwESabueIW3zgmErqgpE3O/GkurkQByB\n",
       "TrWmx/d9alUC/XLxqq8zNTdp1aCJoAzxzGxAxWOqhfLy66eGUCzvZUuXqrsGaoaH/DS+SS//+dUM\n",
       "Shxlafq0Mvx7EOx98ACTjp9TuEVN12FydoxMnPAJl49rWZ/FGXXPdM8SBnSKLL9/ILy5EanzEeug\n",
       "iRCz1UjcN52XlGONZsXGmQiTjKgDAMDQXDCyKdarPTRhLg/VwdN6LuY5/NuvFar313kQnsK0XaRu\n",
       "4MoqUwrMliLY4ZQLgm1TzpMgB64U5rElbBEQfhs4OC0G9I5U5X1TT65XYSFFGGqiJrbsTtTXpsk3\n",
       "WUQ3Wr4ABRkTNFNa8WvHRCGPIwo1CQLdARJ0aL2ZN2HmbWv/33iGgoLScglEwZBhMRlILsy008ra\n",
       "vT6dY76fcPd24Hft7UEH+hLvjY+OIm7qr86zUlvTGYEhR0fAkXdL9Qfj4WScPgM6NkzPG3HYBD6t\n",
       "U1YFHMXeYWaQKOCVAB6Ysg21kmSYwpjxrdwaFPen93N68oRwCbWL97Y+c+KoTtNMgCrMRidPodhV\n",
       "Bya5nPrBHpuPHozyLOOQg/3Fy7uXd3Q9u/ClBV/tGBuyH1wSkK3eJgcBZHnFLzeqyy6c2qvI69kA\n",
       "2b5+Kvsirdxx/dJlsjelCdb5D9V5OgD2hQluQi6CHbYf2FUFDz0jgvtQfUZqM2MO33nhfWtna65J\n",
       "Hk2PtIRU3ZZB5YHfFjQuKSZAvrr7/uJdyXb8ujVHgWoeOxLmggCAygulSUUvekhv1rpwMcy4xC5b\n",
       "fpcz31Ri7JMkf2Ld+is412L6PMjUEUggW/dMrEjA/9iElHoq5Z6dqRr6dgBBfJSGrdQQRUkywwf5\n",
       "jJqGaMb3Qi9qV8m2iJWL/aNqAriIZUzNJ+FxRV0PG0LNdiNHt6dHzmGJGtM9QcwJG8GuB339B0f2\n",
       "sScSL/M95TSorG/kNViFaFAYZ8AY+D2iqhP8ZlH9G0xY8kglvbWlY9OJWl2HRvhtWrfUOrRNnEvF\n",
       "Uspx2DMHqAb8TaMTxKuVkrojPHF7g8huZPxNBXMc/kI91CCFtiUFENaH1T+Jxgu6FfU2FZH9/xja\n",
       "7YInSYdXK4AWM8WOE1TsDFzV/3ItPutx0KdVSMldIGD2oWHzwAbO+1p2Crsg1dP4Z8nKIMep3/hA\n",
       "lmhhCALKc1WGbTdV6U0GQH+sY+bzWKWZGGIqgqNhNtEgml28/obeB9h317KQ1gqSxe/uBIXSfyC5\n",
       "Ef4sYzOOr9OuHCYEgUnMIEM2kuuviUFRU/PxeHPrpQyPiXNzU0IuogUzWzzv20jRkohdOrZGg/ca\n",
       "+Nj0DEB33wd6pry31p03EZRmB4FCaD5zNsn0ApxisAHa2O9etHDkA5DXLgb7ZcpHOENyNCNUis/w\n",
       "TkRzKMrD9cvse0gYtYySOITlrKqKrRC1QZOIEQMRLAChwKYIh5P0pSAyH8S8OVsxyKYSc5bUNHfX\n",
       "AAILFDoLpIo6Y9afpcJGFnXJyRSZini1pPT6QP9HbqrUHbOc7Cs4buePJhV6SaV1V8ROtcXniJb5\n",
       "odNFcJxFmXwr0Ai0+RSuw+UbcLrGos1WdtBQl0zPJUcyelcTn1AiQX1qcW4d6wSAwWpEHgm5QBBV\n",
       "5HfgpTzVHlqiyw2BjS2YNJTOCxqPlujlA5ehb4itrmXZ4zfsQ6N+VfwKetdEx+RsKn6zt/59CqzD\n",
       "QRjD0XEU6lNcxp0XmYP30n/71/1klbZelsKLULZ51teFe4oVt0nl3hNCj7zguqCgozEPacyA3qtY\n",
       "oqksdmYv7zG1mJRQXHvq074DWKNHXdYVrGqi3hEiHkPu33QXThr+q/tptYG/4DrTSYQvSTBa+DqP\n",
       "Lk9/bOTL170fBjGTy/x1gUBgWNgcRiEeWm/ZDrQOEDmceKWgDmlQ5zgEeEcTI4oG3Vn18aHHZNed\n",
       "DLCStwAAnu7jaKmzWr0Qxpgl5PAr4n+I1VFczhVdoeq9Bs8NXQlvJkJWYHIKOmrlICik7cSQachc\n",
       "5h1v3sZ7JPVENRH81xMzfW/DvIUnZCMak7kr6ztjf5wAD7dGn0TTAh8lccJiBQTY21QXVTVnFqkO\n",
       "Dr4zIZ7ZP6M3IV4Ls99cWO4/gOXO7RXCHCxVspYv+0/PgPG6vzd1EJWOX9n5HVBgoKNowI5WUhIW\n",
       "NfjbDtXL/mRghAn1gSp6HUyNqhO7dh9X4kh3iE8tD5dEO4LEDAZ3k2BffeQYkmRztRJ7Gf80SA3V\n",
       "XptrcVy6YbyLKyMe7HgmUZBNupAB78wxdswqDEpsH51YL2DdVU6GbkrOMY2YlLtLgFhZxwwHdoKh\n",
       "OZyF9W9K5wy62ThtZ/VBiCBn3DwbRoK3bFBlwIW7DPrVAAx7GBJarYbWx2ieexDdSykn24ic2+ch\n",
       "ejsLdc7Z9b2sPeSj+jzBawz4fbUOGV0AL1CQe/wqwIJOFGYQBLBxj13d9kNj9VqPel1CAmLxKdQM\n",
       "mMqORIu8FjjMXWRvgd5ROr8rYhQkk5nypB+FdXbNPyWUIQoJxB3X2IfPhobXQXgQDBQlmoVCbzRX\n",
       "mqbCq6CYpqoEnpVw+ct8xZ1kQVLzP69pa1Pq6ax4NNgUsCmQ/jMCwRseoo981rMhvQlOYlrJRtEx\n",
       "x9xCssyH9V9FTrrnjNww/vri6Yif1YjtXYrIHMBNyLf+1z6B7MITisaf7FqHGAAqR8JTMxtTa8VU\n",
       "NF+1k1IieTuS/YMEfcfh3Od3MMNfx1+tS6ABEOkAAuB1WAwPf9220IXT8Z69KBaYNt3wGJH3wCzA\n",
       "kwh5FKGkumpi0S+1tRsgifJb2PRjckqBLXt+0XTJdyLeQgRQ88OPf/FTGA24ege8PiGbgUcoMUo6\n",
       "CnguiRgLSIjnNplzrmprDdASAAi1hmpzLiPqjWRwaIw8Wum7KsrJaELRKBvTwYNtI3/afQjialVM\n",
       "nie0C3yBoUpBvfHp+8xE+oKIMMrvRYd6nFVBtPFrE1k1aIuKkL4HiSChWl/zobIw+aulE8glw2T0\n",
       "TjXhTe61oKt4pTXMWV8AA5Ka1rCInyeOZALM5YJva50FpMvLeAEFC+oVE8liycQLnMyc7x//6GGS\n",
       "CV2QVHjABB+p/30bY5JTViPDbcae0vOxH9uf8QrnutCOSBlhJAAL/c39oUED17EIt0LNgAAe0QAA\n",
       "AKxBmiRsQT/+tSqADAZj4ABXHCffdVWuZ5g8jxJCpAnajgCc1XD+7H1OzB1zelSXzY/HmM0MqiIp\n",
       "ucmACND/1LYqmDxnHbFqXU/Mhu2kRipD99l63aUpNndpR4SiVIqjWm6K0Pzhijy7o4fP4XO0Clc3\n",
       "w6q7QCoORgZ5ilm6WR5iME8SDcQqzzb7S8Y9lGw+NfExV58AZKrY9LFxnvl5wQUzzSoqC1FUvDUG\n",
       "hTbgAAAAIUGeQniCHwAE1Q9d5U4112UxrgVtxjsDMnv5Hlr7NnAKCQAAABsBnmF0Q/8AABkbpkfX\n",
       "m8xYiqxIeM/N/LMAz4AAAAARAZ5jakP/AAADAABFYNmvasEAAAA5QZpoSahBaJlMCCf//rUqgAA7\n",
       "r+I0AXPbXAGvW8sHW9r1Ql3rsB5PqjV39ue06QPLktASETQfTzHBAAAAFUGehkURLBD/AAADAAAf\n",
       "CfOLUzH8PQAAABEBnqV0Q/8AAAMAAEVXKcSZgQAAAA8BnqdqQ/8AAAMAAAMAJeAAAAAqQZqsSahB\n",
       "bJlMCCf//rUqgAAAAwCydyf2rqBRKxFhKBb3tF+0qt6oJGXuAAAAEUGeykUVLBD/AAADAAADABDx\n",
       "AAAAEQGe6XRD/wAAAwAAQV184lFAAAAADwGe62pD/wAAAwAAAwAl4AAAABtBmvBJqEFsmUwIJf/+\n",
       "tSqAAAADAEJpppcgyoEAAAARQZ8ORRUsEP8AAAMAAAMAEPEAAAAPAZ8tdEP/AAADAAADACXhAAAA\n",
       "DwGfL2pD/wAAAwAAAwAl4AAAABhBmzNJqEFsmUwIf//+qZYAAAMAAAMAasAAAAARQZ9RRRUsEP8A\n",
       "AAMAAAMAEPEAAAAPAZ9yakP/AAADAAADACXgAAAEF21vb3YAAABsbXZoZAAAAAAAAAAAAAAAAAAA\n",
       "A+gAAA+gAAEAAAEAAAAAAAAAAAAAAAABAAAAAAAAAAAAAAAAAAAAAQAAAAAAAAAAAAAAAAAAQAAA\n",
       "AAAAAAAAAAAAAAAAAAAAAAAAAAAAAAAAAAAAAAIAAANBdHJhawAAAFx0a2hkAAAAAwAAAAAAAAAA\n",
       "AAAAAQAAAAAAAA+gAAAAAAAAAAAAAAAAAAAAAAABAAAAAAAAAAAAAAAAAAAAAQAAAAAAAAAAAAAA\n",
       "AAAAQAAAAAJYAAABkAAAAAAAJGVkdHMAAAAcZWxzdAAAAAAAAAABAAAPoAAAEAAAAQAAAAACuW1k\n",
       "aWEAAAAgbWRoZAAAAAAAAAAAAAAAAAAAKAAAAKAAVcQAAAAAAC1oZGxyAAAAAAAAAAB2aWRlAAAA\n",
       "AAAAAAAAAAAAVmlkZW9IYW5kbGVyAAAAAmRtaW5mAAAAFHZtaGQAAAABAAAAAAAAAAAAAAAkZGlu\n",
       "ZgAAABxkcmVmAAAAAAAAAAEAAAAMdXJsIAAAAAEAAAIkc3RibAAAALRzdHNkAAAAAAAAAAEAAACk\n",
       "YXZjMQAAAAAAAAABAAAAAAAAAAAAAAAAAAAAAAJYAZAASAAAAEgAAAAAAAAAAQAAAAAAAAAAAAAA\n",
       "AAAAAAAAAAAAAAAAAAAAAAAAAAAAABj//wAAADJhdmNDAWQAFv/hABlnZAAWrNlAmDPl4QAAAwAB\n",
       "AAADAAoPFi2WAQAGaOvjyyLAAAAAHHV1aWRraEDyXyRPxbo5pRvPAyPzAAAAAAAAABhzdHRzAAAA\n",
       "AAAAAAEAAAAUAAAIAAAAABRzdHNzAAAAAAAAAAEAAAABAAAAqGN0dHMAAAAAAAAAEwAAAAEAABAA\n",
       "AAAAAQAAKAAAAAABAAAQAAAAAAEAAAAAAAAAAQAACAAAAAABAAAoAAAAAAEAABAAAAAAAQAAAAAA\n",
       "AAABAAAIAAAAAAEAACgAAAAAAQAAEAAAAAABAAAAAAAAAAEAAAgAAAAAAQAAKAAAAAABAAAQAAAA\n",
       "AAEAAAAAAAAAAQAACAAAAAABAAAgAAAAAAIAAAgAAAAAHHN0c2MAAAAAAAAAAQAAAAEAAAAUAAAA\n",
       "AQAAAGRzdHN6AAAAAAAAAAAAAAAUAAASFAAAALAAAAAlAAAAHwAAABUAAAA9AAAAGQAAABUAAAAT\n",
       "AAAALgAAABUAAAAVAAAAEwAAAB8AAAAVAAAAEwAAABMAAAAcAAAAFQAAABMAAAAUc3RjbwAAAAAA\n",
       "AAABAAAALAAAAGJ1ZHRhAAAAWm1ldGEAAAAAAAAAIWhkbHIAAAAAAAAAAG1kaXJhcHBsAAAAAAAA\n",
       "AAAAAAAALWlsc3QAAAAlqXRvbwAAAB1kYXRhAAAAAQAAAABMYXZmNTcuNDEuMTAw\n",
       "\">\n",
       "  Your browser does not support the video tag.\n",
       "</video>"
      ],
      "text/plain": [
       "<matplotlib.animation.FuncAnimation at 0x7fbc8cdad588>"
      ]
     },
     "execution_count": 9,
     "metadata": {},
     "output_type": "execute_result"
    }
   ],
   "source": [
    "anim"
   ]
  },
  {
   "cell_type": "code",
   "execution_count": 10,
   "metadata": {
    "collapsed": false
   },
   "outputs": [
    {
     "name": "stdout",
     "output_type": "stream",
     "text": [
      "[[1 1 3 6 1 5 2 5 5 1]\n",
      " [1 1 1 1 1 1 1 6 1 2]\n",
      " [5 1 2 6 1 1 1 1 2 1]\n",
      " [1 5 2 2 5 1 1 1 1 1]\n",
      " [1 3 1 1 6 1 1 2 1 1]\n",
      " [1 1 1 5 2 1 1 3 2 5]\n",
      " [1 1 6 1 1 5 3 2 1 1]\n",
      " [6 1 1 1 1 1 1 5 1 3]\n",
      " [5 1 1 1 2 1 3 3 3 6]\n",
      " [6 1 1 5 3 1 1 1 1 1]]\n"
     ]
    }
   ],
   "source": [
    "print(city.array)"
   ]
  },
  {
   "cell_type": "code",
   "execution_count": 11,
   "metadata": {
    "collapsed": false
   },
   "outputs": [
    {
     "ename": "NameError",
     "evalue": "name 'PopulationViewer' is not defined",
     "output_type": "error",
     "traceback": [
      "\u001b[0;31m---------------------------------------------------------------------------\u001b[0m",
      "\u001b[0;31mNameError\u001b[0m                                 Traceback (most recent call last)",
      "\u001b[0;32m<ipython-input-11-e264953bb50e>\u001b[0m in \u001b[0;36m<module>\u001b[0;34m()\u001b[0m\n\u001b[1;32m      1\u001b[0m \u001b[0mcity\u001b[0m \u001b[0;34m=\u001b[0m \u001b[0mTransformingCity\u001b[0m\u001b[0;34m(\u001b[0m\u001b[0;36m10\u001b[0m\u001b[0;34m)\u001b[0m\u001b[0;34m\u001b[0m\u001b[0m\n\u001b[1;32m      2\u001b[0m \u001b[0mcity\u001b[0m\u001b[0;34m.\u001b[0m\u001b[0marray\u001b[0m \u001b[0;34m=\u001b[0m \u001b[0mcity\u001b[0m\u001b[0;34m.\u001b[0m\u001b[0moccupants\u001b[0m \u001b[0;31m# default array is landuse\u001b[0m\u001b[0;34m\u001b[0m\u001b[0m\n\u001b[0;32m----> 3\u001b[0;31m \u001b[0mviewer\u001b[0m \u001b[0;34m=\u001b[0m \u001b[0mPopulationViewer\u001b[0m\u001b[0;34m(\u001b[0m\u001b[0mcity\u001b[0m\u001b[0;34m)\u001b[0m\u001b[0;34m\u001b[0m\u001b[0m\n\u001b[0m\u001b[1;32m      4\u001b[0m \u001b[0manim\u001b[0m \u001b[0;34m=\u001b[0m \u001b[0mviewer\u001b[0m\u001b[0;34m.\u001b[0m\u001b[0manimate\u001b[0m\u001b[0;34m(\u001b[0m\u001b[0;34m)\u001b[0m\u001b[0;34m\u001b[0m\u001b[0m\n",
      "\u001b[0;31mNameError\u001b[0m: name 'PopulationViewer' is not defined"
     ]
    }
   ],
   "source": [
    "city = TransformingCity(10)\n",
    "city.array = city.occupants # default array is landuse\n",
    "viewer = PopulationViewer(city)\n",
    "anim = viewer.animate()"
   ]
  },
  {
   "cell_type": "code",
   "execution_count": null,
   "metadata": {
    "collapsed": true
   },
   "outputs": [],
   "source": []
  }
 ],
 "metadata": {
  "anaconda-cloud": {},
  "kernelspec": {
   "display_name": "Python [conda root]",
   "language": "python",
   "name": "conda-root-py"
  },
  "language_info": {
   "codemirror_mode": {
    "name": "ipython",
    "version": 3
   },
   "file_extension": ".py",
   "mimetype": "text/x-python",
   "name": "python",
   "nbconvert_exporter": "python",
   "pygments_lexer": "ipython3",
   "version": "3.5.2"
  }
 },
 "nbformat": 4,
 "nbformat_minor": 0
}
